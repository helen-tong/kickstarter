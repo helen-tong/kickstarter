{
 "cells": [
  {
   "cell_type": "code",
   "execution_count": 1,
   "metadata": {},
   "outputs": [],
   "source": [
    "import numpy as np\n",
    "import pandas as pd\n",
    "import matplotlib.pyplot as plt\n",
    "import re\n",
    "import ast\n",
    "import glob\n",
    "import tensorflow as tf\n",
    "from tensorflow import keras\n",
    "\n",
    "from sklearn.preprocessing import OneHotEncoder, StandardScaler\n",
    "from sklearn.metrics import accuracy_score, precision_score, recall_score, confusion_matrix\n",
    "from sklearn.model_selection import train_test_split, cross_val_score\n",
    "from sklearn.linear_model import LogisticRegression\n",
    "from sklearn.ensemble import RandomForestClassifier, GradientBoostingClassifier\n",
    "from sklearn.model_selection import GridSearchCV\n",
    "from sklearn.pipeline import Pipeline, make_pipeline\n",
    "\n",
    "from tensorflow.python.keras.preprocessing.text import Tokenizer\n",
    "from tensorflow.python.keras.preprocessing.sequence import pad_sequences\n",
    "from tensorflow.python.keras.models import Sequential\n",
    "from tensorflow.python.keras import layers\n",
    "\n",
    "plt.style.use('ggplot')\n",
    "%matplotlib inline"
   ]
  },
  {
   "cell_type": "code",
   "execution_count": 2,
   "metadata": {},
   "outputs": [],
   "source": [
    "pd.set_option('display.max_columns', 50)"
   ]
  },
  {
   "cell_type": "code",
   "execution_count": 3,
   "metadata": {},
   "outputs": [],
   "source": [
    "master = pd.read_csv('data/master_cleaned.csv')"
   ]
  },
  {
   "cell_type": "code",
   "execution_count": 4,
   "metadata": {},
   "outputs": [
    {
     "name": "stderr",
     "output_type": "stream",
     "text": [
      "/Users/Helen/anaconda3/lib/python3.7/site-packages/IPython/core/interactiveshell.py:3057: DtypeWarning: Columns (0) have mixed types. Specify dtype option on import or set low_memory=False.\n",
      "  interactivity=interactivity, compiler=compiler, result=result)\n"
     ]
    }
   ],
   "source": [
    "comments = pd.read_csv('data/comments.csv', usecols=[0,1,2])"
   ]
  },
  {
   "cell_type": "code",
   "execution_count": 5,
   "metadata": {},
   "outputs": [],
   "source": [
    "dates = pd.read_csv('data/comments_dates.csv', names=['name','url','dates'])"
   ]
  },
  {
   "cell_type": "code",
   "execution_count": 7,
   "metadata": {},
   "outputs": [
    {
     "name": "stdout",
     "output_type": "stream",
     "text": [
      "<class 'pandas.core.frame.DataFrame'>\n",
      "RangeIndex: 19789 entries, 0 to 19788\n",
      "Data columns (total 3 columns):\n",
      "Unnamed: 0    19789 non-null object\n",
      "url           19789 non-null object\n",
      "comments      19789 non-null object\n",
      "dtypes: object(3)\n",
      "memory usage: 463.9+ KB\n"
     ]
    }
   ],
   "source": [
    "comments.info()"
   ]
  },
  {
   "cell_type": "code",
   "execution_count": 8,
   "metadata": {},
   "outputs": [],
   "source": [
    "comments.drop('Unnamed: 0', axis=1, inplace=True)"
   ]
  },
  {
   "cell_type": "code",
   "execution_count": 9,
   "metadata": {},
   "outputs": [
    {
     "data": {
      "text/html": [
       "<div>\n",
       "<style scoped>\n",
       "    .dataframe tbody tr th:only-of-type {\n",
       "        vertical-align: middle;\n",
       "    }\n",
       "\n",
       "    .dataframe tbody tr th {\n",
       "        vertical-align: top;\n",
       "    }\n",
       "\n",
       "    .dataframe thead th {\n",
       "        text-align: right;\n",
       "    }\n",
       "</style>\n",
       "<table border=\"1\" class=\"dataframe\">\n",
       "  <thead>\n",
       "    <tr style=\"text-align: right;\">\n",
       "      <th></th>\n",
       "      <th>url</th>\n",
       "      <th>comments</th>\n",
       "    </tr>\n",
       "  </thead>\n",
       "  <tbody>\n",
       "    <tr>\n",
       "      <th>0</th>\n",
       "      <td>https://www.kickstarter.com/projects/117862918...</td>\n",
       "      <td>[]</td>\n",
       "    </tr>\n",
       "    <tr>\n",
       "      <th>1</th>\n",
       "      <td>https://www.kickstarter.com/projects/lizardsho...</td>\n",
       "      <td>[]</td>\n",
       "    </tr>\n",
       "    <tr>\n",
       "      <th>2</th>\n",
       "      <td>https://www.kickstarter.com/projects/184368767...</td>\n",
       "      <td>[]</td>\n",
       "    </tr>\n",
       "    <tr>\n",
       "      <th>3</th>\n",
       "      <td>https://www.kickstarter.com/projects/376746530...</td>\n",
       "      <td>[]</td>\n",
       "    </tr>\n",
       "    <tr>\n",
       "      <th>4</th>\n",
       "      <td>https://www.kickstarter.com/projects/116371417...</td>\n",
       "      <td>[]</td>\n",
       "    </tr>\n",
       "  </tbody>\n",
       "</table>\n",
       "</div>"
      ],
      "text/plain": [
       "                                                 url comments\n",
       "0  https://www.kickstarter.com/projects/117862918...       []\n",
       "1  https://www.kickstarter.com/projects/lizardsho...       []\n",
       "2  https://www.kickstarter.com/projects/184368767...       []\n",
       "3  https://www.kickstarter.com/projects/376746530...       []\n",
       "4  https://www.kickstarter.com/projects/116371417...       []"
      ]
     },
     "execution_count": 9,
     "metadata": {},
     "output_type": "execute_result"
    }
   ],
   "source": [
    "comments.head()"
   ]
  },
  {
   "cell_type": "code",
   "execution_count": 10,
   "metadata": {},
   "outputs": [],
   "source": [
    "comments['comments'][11] = []\n",
    "comments['comments'][12] = []"
   ]
  },
  {
   "cell_type": "code",
   "execution_count": 11,
   "metadata": {},
   "outputs": [],
   "source": [
    "urls = pd.read_csv('data/comments_urls_copy.csv')"
   ]
  },
  {
   "cell_type": "code",
   "execution_count": 12,
   "metadata": {},
   "outputs": [
    {
     "data": {
      "text/html": [
       "<div>\n",
       "<style scoped>\n",
       "    .dataframe tbody tr th:only-of-type {\n",
       "        vertical-align: middle;\n",
       "    }\n",
       "\n",
       "    .dataframe tbody tr th {\n",
       "        vertical-align: top;\n",
       "    }\n",
       "\n",
       "    .dataframe thead th {\n",
       "        text-align: right;\n",
       "    }\n",
       "</style>\n",
       "<table border=\"1\" class=\"dataframe\">\n",
       "  <thead>\n",
       "    <tr style=\"text-align: right;\">\n",
       "      <th></th>\n",
       "      <th>Unnamed: 0</th>\n",
       "      <th>id</th>\n",
       "      <th>name</th>\n",
       "      <th>url</th>\n",
       "    </tr>\n",
       "  </thead>\n",
       "  <tbody>\n",
       "    <tr>\n",
       "      <th>0</th>\n",
       "      <td>0</td>\n",
       "      <td>751419376</td>\n",
       "      <td>Iron Age Kingdoms - First Free To Win Mobile S...</td>\n",
       "      <td>https://www.kickstarter.com/projects/117862918...</td>\n",
       "    </tr>\n",
       "    <tr>\n",
       "      <th>1</th>\n",
       "      <td>1</td>\n",
       "      <td>289952460</td>\n",
       "      <td>\"Lizard\" a short film</td>\n",
       "      <td>https://www.kickstarter.com/projects/lizardsho...</td>\n",
       "    </tr>\n",
       "    <tr>\n",
       "      <th>2</th>\n",
       "      <td>2</td>\n",
       "      <td>37585826</td>\n",
       "      <td>Total Franchise Football 2016</td>\n",
       "      <td>https://www.kickstarter.com/projects/184368767...</td>\n",
       "    </tr>\n",
       "    <tr>\n",
       "      <th>3</th>\n",
       "      <td>3</td>\n",
       "      <td>1727301949</td>\n",
       "      <td>The Trans-American Psychogeographic Literary C...</td>\n",
       "      <td>https://www.kickstarter.com/projects/376746530...</td>\n",
       "    </tr>\n",
       "    <tr>\n",
       "      <th>4</th>\n",
       "      <td>4</td>\n",
       "      <td>144196412</td>\n",
       "      <td>The Golden Ticket to the Wonka Factory</td>\n",
       "      <td>https://www.kickstarter.com/projects/116371417...</td>\n",
       "    </tr>\n",
       "  </tbody>\n",
       "</table>\n",
       "</div>"
      ],
      "text/plain": [
       "   Unnamed: 0          id                                               name  \\\n",
       "0           0   751419376  Iron Age Kingdoms - First Free To Win Mobile S...   \n",
       "1           1   289952460                              \"Lizard\" a short film   \n",
       "2           2    37585826                      Total Franchise Football 2016   \n",
       "3           3  1727301949  The Trans-American Psychogeographic Literary C...   \n",
       "4           4   144196412             The Golden Ticket to the Wonka Factory   \n",
       "\n",
       "                                                 url  \n",
       "0  https://www.kickstarter.com/projects/117862918...  \n",
       "1  https://www.kickstarter.com/projects/lizardsho...  \n",
       "2  https://www.kickstarter.com/projects/184368767...  \n",
       "3  https://www.kickstarter.com/projects/376746530...  \n",
       "4  https://www.kickstarter.com/projects/116371417...  "
      ]
     },
     "execution_count": 12,
     "metadata": {},
     "output_type": "execute_result"
    }
   ],
   "source": [
    "urls.head()"
   ]
  },
  {
   "cell_type": "code",
   "execution_count": 13,
   "metadata": {},
   "outputs": [],
   "source": [
    "# merge comments table with url tables to get campaign id\n",
    "full = pd.merge(urls, comments, how='right', on= 'url', )"
   ]
  },
  {
   "cell_type": "code",
   "execution_count": 15,
   "metadata": {},
   "outputs": [],
   "source": [
    "full_with_dates = pd.merge(full, dates, on='url')\n",
    "full_with_dates.drop(columns=['Unnamed: 0', 'name_y'], inplace=True)"
   ]
  },
  {
   "cell_type": "code",
   "execution_count": 16,
   "metadata": {},
   "outputs": [],
   "source": [
    "full_with_dates.rename(columns={'name_x': 'name'}, inplace=True)\n"
   ]
  },
  {
   "cell_type": "markdown",
   "metadata": {},
   "source": [
    "## Merge with Master"
   ]
  },
  {
   "cell_type": "code",
   "execution_count": 84,
   "metadata": {},
   "outputs": [],
   "source": [
    "# full df with comments and dates\n",
    "df = pd.merge(master, full_with_dates, on='name')\n",
    "df.drop(columns=['Unnamed: 0', 'country_displayable_name'], inplace=True)\n"
   ]
  },
  {
   "cell_type": "code",
   "execution_count": 20,
   "metadata": {},
   "outputs": [
    {
     "data": {
      "text/plain": [
       "(169657, 25)"
      ]
     },
     "execution_count": 20,
     "metadata": {},
     "output_type": "execute_result"
    }
   ],
   "source": [
    "# master list with outer join, with comments or no comments \n",
    "df_full = pd.merge(master, full_with_dates, on='name', how='left')\n",
    "df_full.drop(columns=['Unnamed: 0','country_displayable_name'], inplace=True)\n",
    "df_full.shape"
   ]
  },
  {
   "cell_type": "code",
   "execution_count": 21,
   "metadata": {},
   "outputs": [],
   "source": [
    "cols_to_convert = ['deadline', 'launched_at']\n",
    "for c in cols_to_convert:\n",
    "    df[c] = pd.to_datetime(df[c])"
   ]
  },
  {
   "cell_type": "code",
   "execution_count": 22,
   "metadata": {},
   "outputs": [],
   "source": [
    "cols_to_convert = ['deadline', 'launched_at']\n",
    "for c in cols_to_convert:\n",
    "    df_full[c] = pd.to_datetime(df_full[c])"
   ]
  },
  {
   "cell_type": "code",
   "execution_count": 23,
   "metadata": {},
   "outputs": [],
   "source": [
    "df['mid_campaign'] = df['launched_at'] + pd.DateOffset(15)\n",
    "df['mid_campaign'] = df['mid_campaign'].dt.round('d')\n",
    "df['dates'] = df['dates'].map(lambda x: x.split(\"',\"))\n",
    "df['comment_length'] = df['dates'].map(lambda x: len(x))"
   ]
  },
  {
   "cell_type": "code",
   "execution_count": 27,
   "metadata": {},
   "outputs": [],
   "source": [
    "def extract(cat):\n",
    "    x = ast.literal_eval(re.search('({.+})', cat).group(0))\n",
    "    if 'parent_name' not in x.keys():\n",
    "        return x['slug']\n",
    "    else:\n",
    "        return x['parent_name'].lower()"
   ]
  },
  {
   "cell_type": "code",
   "execution_count": 28,
   "metadata": {},
   "outputs": [],
   "source": [
    "df['category_type'] = df['category'].map(lambda x: extract(x))\n",
    "df = df[df['state'].isin(['successful', 'failed'])]\n",
    "df_full['category_type'] = df_full['category'].map(lambda x: extract(x))\n",
    "df_full = df_full[df_full['state'].isin(['successful', 'failed'])]"
   ]
  },
  {
   "cell_type": "code",
   "execution_count": 29,
   "metadata": {},
   "outputs": [
    {
     "name": "stdout",
     "output_type": "stream",
     "text": [
      "(8427, 27)\n",
      "(169657, 25)\n"
     ]
    }
   ],
   "source": [
    "print(df.shape)\n",
    "print(df_full.shape)"
   ]
  },
  {
   "cell_type": "code",
   "execution_count": 30,
   "metadata": {
    "scrolled": true
   },
   "outputs": [
    {
     "data": {
      "text/html": [
       "<div>\n",
       "<style scoped>\n",
       "    .dataframe tbody tr th:only-of-type {\n",
       "        vertical-align: middle;\n",
       "    }\n",
       "\n",
       "    .dataframe tbody tr th {\n",
       "        vertical-align: top;\n",
       "    }\n",
       "\n",
       "    .dataframe thead th {\n",
       "        text-align: right;\n",
       "    }\n",
       "</style>\n",
       "<table border=\"1\" class=\"dataframe\">\n",
       "  <thead>\n",
       "    <tr style=\"text-align: right;\">\n",
       "      <th></th>\n",
       "      <th>backers_count</th>\n",
       "      <th>blurb</th>\n",
       "      <th>category</th>\n",
       "      <th>deadline</th>\n",
       "      <th>goal</th>\n",
       "      <th>launched_at</th>\n",
       "      <th>name</th>\n",
       "      <th>pledged</th>\n",
       "      <th>slug</th>\n",
       "      <th>staff_pick</th>\n",
       "      <th>state</th>\n",
       "      <th>urls</th>\n",
       "      <th>launched_year</th>\n",
       "      <th>launched_month</th>\n",
       "      <th>campaign_length</th>\n",
       "      <th>category_type</th>\n",
       "      <th>blurb_length</th>\n",
       "      <th>country_name</th>\n",
       "      <th>scrape_url</th>\n",
       "      <th>complete_url</th>\n",
       "      <th>scrape_urls</th>\n",
       "      <th>id</th>\n",
       "      <th>url</th>\n",
       "      <th>comments</th>\n",
       "      <th>dates</th>\n",
       "    </tr>\n",
       "  </thead>\n",
       "  <tbody>\n",
       "    <tr>\n",
       "      <th>0</th>\n",
       "      <td>5</td>\n",
       "      <td>A Free to Win Online Mobile Strategy Game to e...</td>\n",
       "      <td>{\"id\":272,\"name\":\"Mobile Games\",\"slug\":\"games/...</td>\n",
       "      <td>2017-10-09 14:41:03</td>\n",
       "      <td>1000.0</td>\n",
       "      <td>2017-09-25 14:41:03</td>\n",
       "      <td>Iron Age Kingdoms - First Free To Win Mobile S...</td>\n",
       "      <td>105.0</td>\n",
       "      <td>iron-age-kingdoms-first-free-to-win-mobile-str...</td>\n",
       "      <td>False</td>\n",
       "      <td>failed</td>\n",
       "      <td>{\"web\":{\"project\":\"https://www.kickstarter.com...</td>\n",
       "      <td>2017</td>\n",
       "      <td>9</td>\n",
       "      <td>14</td>\n",
       "      <td>games</td>\n",
       "      <td>24</td>\n",
       "      <td>Canada</td>\n",
       "      <td>https://www.kickstarter.com/projects/117862918...</td>\n",
       "      <td>https://www.kickstarter.com/projects/117862918...</td>\n",
       "      <td>https://www.kickstarter.com/projects/117862918...</td>\n",
       "      <td>NaN</td>\n",
       "      <td>NaN</td>\n",
       "      <td>NaN</td>\n",
       "      <td>NaN</td>\n",
       "    </tr>\n",
       "    <tr>\n",
       "      <th>1</th>\n",
       "      <td>19</td>\n",
       "      <td>Lizard is a dark comedy and modern western, th...</td>\n",
       "      <td>{\"id\":11,\"name\":\"Film &amp; Video\",\"slug\":\"film &amp; ...</td>\n",
       "      <td>2019-09-21 23:39:48</td>\n",
       "      <td>1100.0</td>\n",
       "      <td>2019-07-23 23:39:48</td>\n",
       "      <td>\"Lizard\" a short film</td>\n",
       "      <td>2358.0</td>\n",
       "      <td>lizard-a-short-film</td>\n",
       "      <td>False</td>\n",
       "      <td>successful</td>\n",
       "      <td>{\"web\":{\"project\":\"https://www.kickstarter.com...</td>\n",
       "      <td>2019</td>\n",
       "      <td>7</td>\n",
       "      <td>60</td>\n",
       "      <td>film &amp; video</td>\n",
       "      <td>15</td>\n",
       "      <td>the United States</td>\n",
       "      <td>https://www.kickstarter.com/projects/lizardsho...</td>\n",
       "      <td>https://www.kickstarter.com/projects/lizardsho...</td>\n",
       "      <td>https://www.kickstarter.com/projects/lizardsho...</td>\n",
       "      <td>NaN</td>\n",
       "      <td>NaN</td>\n",
       "      <td>NaN</td>\n",
       "      <td>NaN</td>\n",
       "    </tr>\n",
       "    <tr>\n",
       "      <th>2</th>\n",
       "      <td>5</td>\n",
       "      <td>My friend and I are making an app that has nev...</td>\n",
       "      <td>{\"id\":272,\"name\":\"Mobile Games\",\"slug\":\"games/...</td>\n",
       "      <td>2016-03-22 21:11:17</td>\n",
       "      <td>25000.0</td>\n",
       "      <td>2016-01-22 22:11:17</td>\n",
       "      <td>Total Franchise Football 2016</td>\n",
       "      <td>172.0</td>\n",
       "      <td>total-franchise-football-2016</td>\n",
       "      <td>False</td>\n",
       "      <td>failed</td>\n",
       "      <td>{\"web\":{\"project\":\"https://www.kickstarter.com...</td>\n",
       "      <td>2016</td>\n",
       "      <td>1</td>\n",
       "      <td>60</td>\n",
       "      <td>games</td>\n",
       "      <td>25</td>\n",
       "      <td>the United States</td>\n",
       "      <td>https://www.kickstarter.com/projects/184368767...</td>\n",
       "      <td>https://www.kickstarter.com/projects/184368767...</td>\n",
       "      <td>https://www.kickstarter.com/projects/184368767...</td>\n",
       "      <td>NaN</td>\n",
       "      <td>NaN</td>\n",
       "      <td>NaN</td>\n",
       "      <td>NaN</td>\n",
       "    </tr>\n",
       "    <tr>\n",
       "      <th>3</th>\n",
       "      <td>23</td>\n",
       "      <td>More than a bike trip, a state of mind. And a ...</td>\n",
       "      <td>{\"id\":48,\"name\":\"Nonfiction\",\"slug\":\"publishin...</td>\n",
       "      <td>2012-09-25 02:33:06</td>\n",
       "      <td>500.0</td>\n",
       "      <td>2012-09-15 02:33:06</td>\n",
       "      <td>The Trans-American Psychogeographic Literary C...</td>\n",
       "      <td>501.0</td>\n",
       "      <td>the-trans-american-psychogeographic-literary-c...</td>\n",
       "      <td>False</td>\n",
       "      <td>successful</td>\n",
       "      <td>{\"web\":{\"project\":\"https://www.kickstarter.com...</td>\n",
       "      <td>2012</td>\n",
       "      <td>9</td>\n",
       "      <td>10</td>\n",
       "      <td>publishing</td>\n",
       "      <td>12</td>\n",
       "      <td>the United States</td>\n",
       "      <td>https://www.kickstarter.com/projects/376746530...</td>\n",
       "      <td>https://www.kickstarter.com/projects/376746530...</td>\n",
       "      <td>https://www.kickstarter.com/projects/376746530...</td>\n",
       "      <td>NaN</td>\n",
       "      <td>NaN</td>\n",
       "      <td>NaN</td>\n",
       "      <td>NaN</td>\n",
       "    </tr>\n",
       "    <tr>\n",
       "      <th>4</th>\n",
       "      <td>0</td>\n",
       "      <td>This is the birth of a revolutionary artist......</td>\n",
       "      <td>{\"id\":39,\"name\":\"Hip-Hop\",\"slug\":\"music/hip-ho...</td>\n",
       "      <td>2017-12-11 02:43:11</td>\n",
       "      <td>2500.0</td>\n",
       "      <td>2017-11-10 02:43:11</td>\n",
       "      <td>The Golden Ticket to the Wonka Factory</td>\n",
       "      <td>0.0</td>\n",
       "      <td>the-golden-ticket-to-the-wonka-factory</td>\n",
       "      <td>False</td>\n",
       "      <td>failed</td>\n",
       "      <td>{\"web\":{\"project\":\"https://www.kickstarter.com...</td>\n",
       "      <td>2017</td>\n",
       "      <td>11</td>\n",
       "      <td>31</td>\n",
       "      <td>music</td>\n",
       "      <td>23</td>\n",
       "      <td>the United States</td>\n",
       "      <td>https://www.kickstarter.com/projects/116371417...</td>\n",
       "      <td>https://www.kickstarter.com/projects/116371417...</td>\n",
       "      <td>https://www.kickstarter.com/projects/116371417...</td>\n",
       "      <td>NaN</td>\n",
       "      <td>NaN</td>\n",
       "      <td>NaN</td>\n",
       "      <td>NaN</td>\n",
       "    </tr>\n",
       "  </tbody>\n",
       "</table>\n",
       "</div>"
      ],
      "text/plain": [
       "   backers_count                                              blurb  \\\n",
       "0              5  A Free to Win Online Mobile Strategy Game to e...   \n",
       "1             19  Lizard is a dark comedy and modern western, th...   \n",
       "2              5  My friend and I are making an app that has nev...   \n",
       "3             23  More than a bike trip, a state of mind. And a ...   \n",
       "4              0  This is the birth of a revolutionary artist......   \n",
       "\n",
       "                                            category            deadline  \\\n",
       "0  {\"id\":272,\"name\":\"Mobile Games\",\"slug\":\"games/... 2017-10-09 14:41:03   \n",
       "1  {\"id\":11,\"name\":\"Film & Video\",\"slug\":\"film & ... 2019-09-21 23:39:48   \n",
       "2  {\"id\":272,\"name\":\"Mobile Games\",\"slug\":\"games/... 2016-03-22 21:11:17   \n",
       "3  {\"id\":48,\"name\":\"Nonfiction\",\"slug\":\"publishin... 2012-09-25 02:33:06   \n",
       "4  {\"id\":39,\"name\":\"Hip-Hop\",\"slug\":\"music/hip-ho... 2017-12-11 02:43:11   \n",
       "\n",
       "      goal         launched_at  \\\n",
       "0   1000.0 2017-09-25 14:41:03   \n",
       "1   1100.0 2019-07-23 23:39:48   \n",
       "2  25000.0 2016-01-22 22:11:17   \n",
       "3    500.0 2012-09-15 02:33:06   \n",
       "4   2500.0 2017-11-10 02:43:11   \n",
       "\n",
       "                                                name  pledged  \\\n",
       "0  Iron Age Kingdoms - First Free To Win Mobile S...    105.0   \n",
       "1                              \"Lizard\" a short film   2358.0   \n",
       "2                      Total Franchise Football 2016    172.0   \n",
       "3  The Trans-American Psychogeographic Literary C...    501.0   \n",
       "4             The Golden Ticket to the Wonka Factory      0.0   \n",
       "\n",
       "                                                slug  staff_pick       state  \\\n",
       "0  iron-age-kingdoms-first-free-to-win-mobile-str...       False      failed   \n",
       "1                                lizard-a-short-film       False  successful   \n",
       "2                      total-franchise-football-2016       False      failed   \n",
       "3  the-trans-american-psychogeographic-literary-c...       False  successful   \n",
       "4             the-golden-ticket-to-the-wonka-factory       False      failed   \n",
       "\n",
       "                                                urls  launched_year  \\\n",
       "0  {\"web\":{\"project\":\"https://www.kickstarter.com...           2017   \n",
       "1  {\"web\":{\"project\":\"https://www.kickstarter.com...           2019   \n",
       "2  {\"web\":{\"project\":\"https://www.kickstarter.com...           2016   \n",
       "3  {\"web\":{\"project\":\"https://www.kickstarter.com...           2012   \n",
       "4  {\"web\":{\"project\":\"https://www.kickstarter.com...           2017   \n",
       "\n",
       "   launched_month  campaign_length category_type  blurb_length  \\\n",
       "0               9               14         games            24   \n",
       "1               7               60  film & video            15   \n",
       "2               1               60         games            25   \n",
       "3               9               10    publishing            12   \n",
       "4              11               31         music            23   \n",
       "\n",
       "        country_name                                         scrape_url  \\\n",
       "0             Canada  https://www.kickstarter.com/projects/117862918...   \n",
       "1  the United States  https://www.kickstarter.com/projects/lizardsho...   \n",
       "2  the United States  https://www.kickstarter.com/projects/184368767...   \n",
       "3  the United States  https://www.kickstarter.com/projects/376746530...   \n",
       "4  the United States  https://www.kickstarter.com/projects/116371417...   \n",
       "\n",
       "                                        complete_url  \\\n",
       "0  https://www.kickstarter.com/projects/117862918...   \n",
       "1  https://www.kickstarter.com/projects/lizardsho...   \n",
       "2  https://www.kickstarter.com/projects/184368767...   \n",
       "3  https://www.kickstarter.com/projects/376746530...   \n",
       "4  https://www.kickstarter.com/projects/116371417...   \n",
       "\n",
       "                                         scrape_urls  id  url comments dates  \n",
       "0  https://www.kickstarter.com/projects/117862918... NaN  NaN      NaN   NaN  \n",
       "1  https://www.kickstarter.com/projects/lizardsho... NaN  NaN      NaN   NaN  \n",
       "2  https://www.kickstarter.com/projects/184368767... NaN  NaN      NaN   NaN  \n",
       "3  https://www.kickstarter.com/projects/376746530... NaN  NaN      NaN   NaN  \n",
       "4  https://www.kickstarter.com/projects/116371417... NaN  NaN      NaN   NaN  "
      ]
     },
     "execution_count": 30,
     "metadata": {},
     "output_type": "execute_result"
    }
   ],
   "source": [
    "df_full.head()"
   ]
  },
  {
   "cell_type": "code",
   "execution_count": 31,
   "metadata": {},
   "outputs": [],
   "source": [
    "def to_date(x):\n",
    "    lst = []\n",
    "    for i in x:\n",
    "        i = i.replace(\"[\", '').replace(\"]\", '')\n",
    "        d = pd.to_datetime(i[:-4])\n",
    "        lst.append(d)\n",
    "    return lst"
   ]
  },
  {
   "cell_type": "code",
   "execution_count": 32,
   "metadata": {},
   "outputs": [],
   "source": [
    "df['dates'] = df['dates'].map(lambda x: to_date(x))"
   ]
  },
  {
   "cell_type": "code",
   "execution_count": 33,
   "metadata": {},
   "outputs": [],
   "source": [
    "def date_subtract(df):\n",
    "    lst = []\n",
    "    for index, row in df.iterrows():\n",
    "        row_lst =[]\n",
    "        r = row['dates']\n",
    "        for i in r:\n",
    "            if i < row['mid_campaign']:\n",
    "                row_lst.append(i)\n",
    "        lst.append(row_lst)\n",
    "    return lst "
   ]
  },
  {
   "cell_type": "code",
   "execution_count": 34,
   "metadata": {},
   "outputs": [],
   "source": [
    "def real_comments(df):\n",
    "    lst = []\n",
    "    for index, row in df.iterrows():\n",
    "        r = eval(row['comments'])\n",
    "        a = row['pre_mid_campaign_dates_length']\n",
    "        if a > 0:\n",
    "            lst.append(r[-a:])\n",
    "        else:\n",
    "            lst.append([])\n",
    "    return lst"
   ]
  },
  {
   "cell_type": "code",
   "execution_count": 35,
   "metadata": {},
   "outputs": [],
   "source": [
    "def have_comments(x):\n",
    "    if x > 0:\n",
    "        return 1\n",
    "    else:\n",
    "        return 0"
   ]
  },
  {
   "cell_type": "code",
   "execution_count": 36,
   "metadata": {},
   "outputs": [],
   "source": [
    "df['pre_mid_campaign_dates'] = date_subtract(df)\n",
    "df['pre_mid_campaign_dates_length'] = df['pre_mid_campaign_dates'].apply(lambda x: len(x))\n",
    "df['have_comments'] = df['pre_mid_campaign_dates_length'].apply(lambda x: have_comments(x))"
   ]
  },
  {
   "cell_type": "code",
   "execution_count": 37,
   "metadata": {},
   "outputs": [],
   "source": [
    "df['pre_mid_campaign_comments'] = real_comments(df)"
   ]
  },
  {
   "cell_type": "code",
   "execution_count": 38,
   "metadata": {},
   "outputs": [
    {
     "data": {
      "text/html": [
       "<div>\n",
       "<style scoped>\n",
       "    .dataframe tbody tr th:only-of-type {\n",
       "        vertical-align: middle;\n",
       "    }\n",
       "\n",
       "    .dataframe tbody tr th {\n",
       "        vertical-align: top;\n",
       "    }\n",
       "\n",
       "    .dataframe thead th {\n",
       "        text-align: right;\n",
       "    }\n",
       "</style>\n",
       "<table border=\"1\" class=\"dataframe\">\n",
       "  <thead>\n",
       "    <tr style=\"text-align: right;\">\n",
       "      <th></th>\n",
       "      <th>backers_count</th>\n",
       "      <th>blurb</th>\n",
       "      <th>category</th>\n",
       "      <th>deadline</th>\n",
       "      <th>goal</th>\n",
       "      <th>launched_at</th>\n",
       "      <th>name</th>\n",
       "      <th>pledged</th>\n",
       "      <th>slug</th>\n",
       "      <th>staff_pick</th>\n",
       "      <th>state</th>\n",
       "      <th>urls</th>\n",
       "      <th>launched_year</th>\n",
       "      <th>launched_month</th>\n",
       "      <th>campaign_length</th>\n",
       "      <th>category_type</th>\n",
       "      <th>blurb_length</th>\n",
       "      <th>country_name</th>\n",
       "      <th>scrape_url</th>\n",
       "      <th>complete_url</th>\n",
       "      <th>scrape_urls</th>\n",
       "      <th>id</th>\n",
       "      <th>url</th>\n",
       "      <th>comments</th>\n",
       "      <th>dates</th>\n",
       "      <th>mid_campaign</th>\n",
       "      <th>comment_length</th>\n",
       "      <th>pre_mid_campaign_dates</th>\n",
       "      <th>pre_mid_campaign_dates_length</th>\n",
       "      <th>have_comments</th>\n",
       "      <th>pre_mid_campaign_comments</th>\n",
       "    </tr>\n",
       "  </thead>\n",
       "  <tbody>\n",
       "    <tr>\n",
       "      <th>0</th>\n",
       "      <td>152</td>\n",
       "      <td>A photography and poetry book featuring contem...</td>\n",
       "      <td>{\"id\":278,\"name\":\"People\",\"slug\":\"photography/...</td>\n",
       "      <td>2017-05-28 17:00:00</td>\n",
       "      <td>15000.0</td>\n",
       "      <td>2017-05-03 16:57:18</td>\n",
       "      <td>Burma Storybook</td>\n",
       "      <td>15777.00</td>\n",
       "      <td>burma-storybook</td>\n",
       "      <td>True</td>\n",
       "      <td>successful</td>\n",
       "      <td>{\"web\":{\"project\":\"https://www.kickstarter.com...</td>\n",
       "      <td>2017</td>\n",
       "      <td>5</td>\n",
       "      <td>25</td>\n",
       "      <td>photography</td>\n",
       "      <td>13</td>\n",
       "      <td>the Netherlands</td>\n",
       "      <td>https://www.kickstarter.com/projects/618155130...</td>\n",
       "      <td>https://www.kickstarter.com/projects/618155130...</td>\n",
       "      <td>https://www.kickstarter.com/projects/618155130...</td>\n",
       "      <td>1.769794e+09</td>\n",
       "      <td>https://www.kickstarter.com/projects/618155130...</td>\n",
       "      <td>['Oh! My! The book has arrived and I am speech...</td>\n",
       "      <td>[2017-06-30 10:52:00, 2017-05-26 03:53:00]</td>\n",
       "      <td>2017-05-19</td>\n",
       "      <td>2</td>\n",
       "      <td>[]</td>\n",
       "      <td>0</td>\n",
       "      <td>0</td>\n",
       "      <td>[]</td>\n",
       "    </tr>\n",
       "    <tr>\n",
       "      <th>1</th>\n",
       "      <td>116</td>\n",
       "      <td>100 sumie ink originals by David Mack on top o...</td>\n",
       "      <td>{\"id\":276,\"name\":\"Fine Art\",\"slug\":\"photograph...</td>\n",
       "      <td>2018-07-29 21:05:01</td>\n",
       "      <td>8000.0</td>\n",
       "      <td>2018-06-29 21:05:01</td>\n",
       "      <td>The Alchemy of Collaboration</td>\n",
       "      <td>16706.00</td>\n",
       "      <td>the-alchemy-of-collaboration</td>\n",
       "      <td>False</td>\n",
       "      <td>successful</td>\n",
       "      <td>{\"web\":{\"project\":\"https://www.kickstarter.com...</td>\n",
       "      <td>2018</td>\n",
       "      <td>6</td>\n",
       "      <td>30</td>\n",
       "      <td>photography</td>\n",
       "      <td>21</td>\n",
       "      <td>the United States</td>\n",
       "      <td>https://www.kickstarter.com/projects/punchgrap...</td>\n",
       "      <td>https://www.kickstarter.com/projects/punchgrap...</td>\n",
       "      <td>https://www.kickstarter.com/projects/punchgrap...</td>\n",
       "      <td>5.263051e+08</td>\n",
       "      <td>https://www.kickstarter.com/projects/punchgrap...</td>\n",
       "      <td>[\"I know you read the messages. I've been chas...</td>\n",
       "      <td>[2020-06-01 10:55:00, 2020-05-21 09:46:00, 202...</td>\n",
       "      <td>2018-07-15</td>\n",
       "      <td>21</td>\n",
       "      <td>[]</td>\n",
       "      <td>0</td>\n",
       "      <td>0</td>\n",
       "      <td>[]</td>\n",
       "    </tr>\n",
       "    <tr>\n",
       "      <th>2</th>\n",
       "      <td>50</td>\n",
       "      <td>8 artists explore the collision of art, the en...</td>\n",
       "      <td>{\"id\":54,\"name\":\"Mixed Media\",\"slug\":\"art/mixe...</td>\n",
       "      <td>2012-06-04 03:59:00</td>\n",
       "      <td>3300.0</td>\n",
       "      <td>2012-05-03 12:13:56</td>\n",
       "      <td>Frack This? - The Wyoming Artist Expedition</td>\n",
       "      <td>3805.00</td>\n",
       "      <td>frack-this-the-wyoming-artist-expedition</td>\n",
       "      <td>False</td>\n",
       "      <td>successful</td>\n",
       "      <td>{\"web\":{\"project\":\"https://www.kickstarter.com...</td>\n",
       "      <td>2012</td>\n",
       "      <td>5</td>\n",
       "      <td>32</td>\n",
       "      <td>art</td>\n",
       "      <td>16</td>\n",
       "      <td>the United States</td>\n",
       "      <td>https://www.kickstarter.com/projects/331530956...</td>\n",
       "      <td>https://www.kickstarter.com/projects/331530956...</td>\n",
       "      <td>https://www.kickstarter.com/projects/331530956...</td>\n",
       "      <td>1.103726e+09</td>\n",
       "      <td>https://www.kickstarter.com/projects/331530956...</td>\n",
       "      <td>['To the Artists:', 'I encourage each artist t...</td>\n",
       "      <td>[2012-05-30 15:37:00, 2012-05-14 14:46:00, 201...</td>\n",
       "      <td>2012-05-19</td>\n",
       "      <td>4</td>\n",
       "      <td>[2012-05-14 14:46:00, 2012-05-12 09:48:00, 201...</td>\n",
       "      <td>3</td>\n",
       "      <td>1</td>\n",
       "      <td>[Lori, the kids will want you and Uncle Michae...</td>\n",
       "    </tr>\n",
       "    <tr>\n",
       "      <th>3</th>\n",
       "      <td>8</td>\n",
       "      <td>Cookietownworld is an interactive website desi...</td>\n",
       "      <td>{\"id\":272,\"name\":\"Mobile Games\",\"slug\":\"games/...</td>\n",
       "      <td>2016-08-07 16:15:57</td>\n",
       "      <td>95000.0</td>\n",
       "      <td>2016-06-08 16:15:57</td>\n",
       "      <td>Cookietownworld</td>\n",
       "      <td>3229.00</td>\n",
       "      <td>cookietownworld</td>\n",
       "      <td>False</td>\n",
       "      <td>failed</td>\n",
       "      <td>{\"web\":{\"project\":\"https://www.kickstarter.com...</td>\n",
       "      <td>2016</td>\n",
       "      <td>6</td>\n",
       "      <td>60</td>\n",
       "      <td>games</td>\n",
       "      <td>13</td>\n",
       "      <td>the United States</td>\n",
       "      <td>https://www.kickstarter.com/projects/cookietow...</td>\n",
       "      <td>https://www.kickstarter.com/projects/cookietow...</td>\n",
       "      <td>https://www.kickstarter.com/projects/cookietow...</td>\n",
       "      <td>2.045995e+09</td>\n",
       "      <td>https://www.kickstarter.com/projects/cookietow...</td>\n",
       "      <td>['I think Cookietownworld is an awesome idea. ...</td>\n",
       "      <td>[2016-06-23 08:55:00]</td>\n",
       "      <td>2016-06-24</td>\n",
       "      <td>1</td>\n",
       "      <td>[2016-06-23 08:55:00]</td>\n",
       "      <td>1</td>\n",
       "      <td>1</td>\n",
       "      <td>[I think Cookietownworld is an awesome idea. I...</td>\n",
       "    </tr>\n",
       "    <tr>\n",
       "      <th>4</th>\n",
       "      <td>59</td>\n",
       "      <td>Explore a magical world full of monsters and d...</td>\n",
       "      <td>{\"id\":272,\"name\":\"Mobile Games\",\"slug\":\"games/...</td>\n",
       "      <td>2017-12-22 20:25:20</td>\n",
       "      <td>15000.0</td>\n",
       "      <td>2017-11-22 20:25:20</td>\n",
       "      <td>Dunpets Colors: Monster-catching RPG</td>\n",
       "      <td>4310.75</td>\n",
       "      <td>dunpets-colors-dungeon-crawl-and-pets</td>\n",
       "      <td>True</td>\n",
       "      <td>failed</td>\n",
       "      <td>{\"web\":{\"project\":\"https://www.kickstarter.com...</td>\n",
       "      <td>2017</td>\n",
       "      <td>11</td>\n",
       "      <td>30</td>\n",
       "      <td>games</td>\n",
       "      <td>22</td>\n",
       "      <td>Spain</td>\n",
       "      <td>https://www.kickstarter.com/projects/gugamesde...</td>\n",
       "      <td>https://www.kickstarter.com/projects/gugamesde...</td>\n",
       "      <td>https://www.kickstarter.com/projects/gugamesde...</td>\n",
       "      <td>1.228293e+09</td>\n",
       "      <td>https://www.kickstarter.com/projects/gugamesde...</td>\n",
       "      <td>['Any updates about the premier? :)', 'Any pro...</td>\n",
       "      <td>[2018-04-17 18:49:00, 2018-01-22 01:59:00, 201...</td>\n",
       "      <td>2017-12-08</td>\n",
       "      <td>18</td>\n",
       "      <td>[2017-12-03 12:14:00, 2017-12-03 07:10:00, 201...</td>\n",
       "      <td>11</td>\n",
       "      <td>1</td>\n",
       "      <td>[Any progress update on the premiere?, Sorry t...</td>\n",
       "    </tr>\n",
       "  </tbody>\n",
       "</table>\n",
       "</div>"
      ],
      "text/plain": [
       "   backers_count                                              blurb  \\\n",
       "0            152  A photography and poetry book featuring contem...   \n",
       "1            116  100 sumie ink originals by David Mack on top o...   \n",
       "2             50  8 artists explore the collision of art, the en...   \n",
       "3              8  Cookietownworld is an interactive website desi...   \n",
       "4             59  Explore a magical world full of monsters and d...   \n",
       "\n",
       "                                            category            deadline  \\\n",
       "0  {\"id\":278,\"name\":\"People\",\"slug\":\"photography/... 2017-05-28 17:00:00   \n",
       "1  {\"id\":276,\"name\":\"Fine Art\",\"slug\":\"photograph... 2018-07-29 21:05:01   \n",
       "2  {\"id\":54,\"name\":\"Mixed Media\",\"slug\":\"art/mixe... 2012-06-04 03:59:00   \n",
       "3  {\"id\":272,\"name\":\"Mobile Games\",\"slug\":\"games/... 2016-08-07 16:15:57   \n",
       "4  {\"id\":272,\"name\":\"Mobile Games\",\"slug\":\"games/... 2017-12-22 20:25:20   \n",
       "\n",
       "      goal         launched_at                                         name  \\\n",
       "0  15000.0 2017-05-03 16:57:18                              Burma Storybook   \n",
       "1   8000.0 2018-06-29 21:05:01                 The Alchemy of Collaboration   \n",
       "2   3300.0 2012-05-03 12:13:56  Frack This? - The Wyoming Artist Expedition   \n",
       "3  95000.0 2016-06-08 16:15:57                              Cookietownworld   \n",
       "4  15000.0 2017-11-22 20:25:20         Dunpets Colors: Monster-catching RPG   \n",
       "\n",
       "    pledged                                      slug  staff_pick       state  \\\n",
       "0  15777.00                           burma-storybook        True  successful   \n",
       "1  16706.00              the-alchemy-of-collaboration       False  successful   \n",
       "2   3805.00  frack-this-the-wyoming-artist-expedition       False  successful   \n",
       "3   3229.00                           cookietownworld       False      failed   \n",
       "4   4310.75     dunpets-colors-dungeon-crawl-and-pets        True      failed   \n",
       "\n",
       "                                                urls  launched_year  \\\n",
       "0  {\"web\":{\"project\":\"https://www.kickstarter.com...           2017   \n",
       "1  {\"web\":{\"project\":\"https://www.kickstarter.com...           2018   \n",
       "2  {\"web\":{\"project\":\"https://www.kickstarter.com...           2012   \n",
       "3  {\"web\":{\"project\":\"https://www.kickstarter.com...           2016   \n",
       "4  {\"web\":{\"project\":\"https://www.kickstarter.com...           2017   \n",
       "\n",
       "   launched_month  campaign_length category_type  blurb_length  \\\n",
       "0               5               25   photography            13   \n",
       "1               6               30   photography            21   \n",
       "2               5               32           art            16   \n",
       "3               6               60         games            13   \n",
       "4              11               30         games            22   \n",
       "\n",
       "        country_name                                         scrape_url  \\\n",
       "0    the Netherlands  https://www.kickstarter.com/projects/618155130...   \n",
       "1  the United States  https://www.kickstarter.com/projects/punchgrap...   \n",
       "2  the United States  https://www.kickstarter.com/projects/331530956...   \n",
       "3  the United States  https://www.kickstarter.com/projects/cookietow...   \n",
       "4              Spain  https://www.kickstarter.com/projects/gugamesde...   \n",
       "\n",
       "                                        complete_url  \\\n",
       "0  https://www.kickstarter.com/projects/618155130...   \n",
       "1  https://www.kickstarter.com/projects/punchgrap...   \n",
       "2  https://www.kickstarter.com/projects/331530956...   \n",
       "3  https://www.kickstarter.com/projects/cookietow...   \n",
       "4  https://www.kickstarter.com/projects/gugamesde...   \n",
       "\n",
       "                                         scrape_urls            id  \\\n",
       "0  https://www.kickstarter.com/projects/618155130...  1.769794e+09   \n",
       "1  https://www.kickstarter.com/projects/punchgrap...  5.263051e+08   \n",
       "2  https://www.kickstarter.com/projects/331530956...  1.103726e+09   \n",
       "3  https://www.kickstarter.com/projects/cookietow...  2.045995e+09   \n",
       "4  https://www.kickstarter.com/projects/gugamesde...  1.228293e+09   \n",
       "\n",
       "                                                 url  \\\n",
       "0  https://www.kickstarter.com/projects/618155130...   \n",
       "1  https://www.kickstarter.com/projects/punchgrap...   \n",
       "2  https://www.kickstarter.com/projects/331530956...   \n",
       "3  https://www.kickstarter.com/projects/cookietow...   \n",
       "4  https://www.kickstarter.com/projects/gugamesde...   \n",
       "\n",
       "                                            comments  \\\n",
       "0  ['Oh! My! The book has arrived and I am speech...   \n",
       "1  [\"I know you read the messages. I've been chas...   \n",
       "2  ['To the Artists:', 'I encourage each artist t...   \n",
       "3  ['I think Cookietownworld is an awesome idea. ...   \n",
       "4  ['Any updates about the premier? :)', 'Any pro...   \n",
       "\n",
       "                                               dates mid_campaign  \\\n",
       "0         [2017-06-30 10:52:00, 2017-05-26 03:53:00]   2017-05-19   \n",
       "1  [2020-06-01 10:55:00, 2020-05-21 09:46:00, 202...   2018-07-15   \n",
       "2  [2012-05-30 15:37:00, 2012-05-14 14:46:00, 201...   2012-05-19   \n",
       "3                              [2016-06-23 08:55:00]   2016-06-24   \n",
       "4  [2018-04-17 18:49:00, 2018-01-22 01:59:00, 201...   2017-12-08   \n",
       "\n",
       "   comment_length                             pre_mid_campaign_dates  \\\n",
       "0               2                                                 []   \n",
       "1              21                                                 []   \n",
       "2               4  [2012-05-14 14:46:00, 2012-05-12 09:48:00, 201...   \n",
       "3               1                              [2016-06-23 08:55:00]   \n",
       "4              18  [2017-12-03 12:14:00, 2017-12-03 07:10:00, 201...   \n",
       "\n",
       "   pre_mid_campaign_dates_length  have_comments  \\\n",
       "0                              0              0   \n",
       "1                              0              0   \n",
       "2                              3              1   \n",
       "3                              1              1   \n",
       "4                             11              1   \n",
       "\n",
       "                           pre_mid_campaign_comments  \n",
       "0                                                 []  \n",
       "1                                                 []  \n",
       "2  [Lori, the kids will want you and Uncle Michae...  \n",
       "3  [I think Cookietownworld is an awesome idea. I...  \n",
       "4  [Any progress update on the premiere?, Sorry t...  "
      ]
     },
     "execution_count": 38,
     "metadata": {},
     "output_type": "execute_result"
    }
   ],
   "source": [
    "df.head()"
   ]
  },
  {
   "cell_type": "code",
   "execution_count": 40,
   "metadata": {},
   "outputs": [
    {
     "data": {
      "text/plain": [
       "['Lori, the kids will want you and Uncle Michael to sign their card!  Enjoy your trip.',\n",
       " 'My $25 pledge was on behalf of Nina Gibbons, who donated to support this project.  Thanks so much for your donation.',\n",
       " 'Hope you guys have a great trip! My only request-my brother and Lori have to sign my book!']"
      ]
     },
     "execution_count": 40,
     "metadata": {},
     "output_type": "execute_result"
    }
   ],
   "source": [
    "eval(df['comments'][2])[-3:]"
   ]
  },
  {
   "cell_type": "code",
   "execution_count": 44,
   "metadata": {},
   "outputs": [],
   "source": [
    "df_filtered = df[['name', 'have_comments']].copy()"
   ]
  },
  {
   "cell_type": "code",
   "execution_count": 45,
   "metadata": {},
   "outputs": [],
   "source": [
    "df_master = pd.merge(df_full, df_filtered, on='name', how='left')\n",
    "df_master = df_master[df_master['state'].isin(['successful', 'failed'])]\n",
    "df_master['category_type'] = df_master['category'].map(lambda x: extract(x))\n",
    "df_master['have_comments'].fillna(0, inplace=True)"
   ]
  },
  {
   "cell_type": "code",
   "execution_count": 46,
   "metadata": {},
   "outputs": [
    {
     "data": {
      "text/plain": [
       "0.0    165838\n",
       "1.0      4411\n",
       "Name: have_comments, dtype: int64"
      ]
     },
     "execution_count": 46,
     "metadata": {},
     "output_type": "execute_result"
    }
   ],
   "source": [
    "df_master['have_comments'].value_counts()"
   ]
  },
  {
   "cell_type": "markdown",
   "metadata": {},
   "source": [
    "## One Hot Encoding "
   ]
  },
  {
   "cell_type": "code",
   "execution_count": 48,
   "metadata": {},
   "outputs": [],
   "source": [
    "df_master_ohe = pd.get_dummies(df_master[['category_type', 'country_name', 'staff_pick']])"
   ]
  },
  {
   "cell_type": "code",
   "execution_count": 49,
   "metadata": {},
   "outputs": [
    {
     "data": {
      "text/plain": [
       "Index(['backers_count', 'blurb', 'category', 'deadline', 'goal', 'launched_at',\n",
       "       'name', 'pledged', 'slug', 'staff_pick', 'state', 'urls',\n",
       "       'launched_year', 'launched_month', 'campaign_length', 'category_type',\n",
       "       'blurb_length', 'country_name', 'scrape_url', 'complete_url',\n",
       "       'scrape_urls', 'id', 'url', 'comments', 'dates', 'have_comments'],\n",
       "      dtype='object')"
      ]
     },
     "execution_count": 49,
     "metadata": {},
     "output_type": "execute_result"
    }
   ],
   "source": [
    "df_master.columns"
   ]
  },
  {
   "cell_type": "code",
   "execution_count": 85,
   "metadata": {},
   "outputs": [],
   "source": [
    "data = pd.merge(df_master, df_master_ohe, left_index=True, right_index=True)\n"
   ]
  },
  {
   "cell_type": "code",
   "execution_count": 86,
   "metadata": {},
   "outputs": [],
   "source": [
    "good_data = data[data['state'].isin(['successful', 'failed'])]\n",
    "live = data[data['state'].isin(['live'])]\n"
   ]
  },
  {
   "cell_type": "code",
   "execution_count": 52,
   "metadata": {},
   "outputs": [],
   "source": [
    "good_data['state'] = good_data['state'].replace(to_replace=['successful', 'failed'], value=[1,0])"
   ]
  },
  {
   "cell_type": "code",
   "execution_count": 53,
   "metadata": {},
   "outputs": [],
   "source": [
    "model_data = good_data.copy()"
   ]
  },
  {
   "cell_type": "code",
   "execution_count": 57,
   "metadata": {},
   "outputs": [],
   "source": [
    "X = model_data.drop(['backers_count','blurb', 'category', 'deadline', 'launched_at', 'urls', 'scrape_url', 'complete_url',\n",
    "                     'scrape_urls', 'name', 'pledged', 'slug', 'state', 'category_type', 'country_name',\n",
    "                    'staff_pick_y', 'id', 'url', 'comments', 'dates'],\n",
    "                   axis=1)\n",
    "y = model_data['state']\n"
   ]
  },
  {
   "cell_type": "markdown",
   "metadata": {},
   "source": [
    "## Scraped Campaigns Only\n"
   ]
  },
  {
   "cell_type": "code",
   "execution_count": 59,
   "metadata": {},
   "outputs": [],
   "source": [
    "df_filtered = df[['name', 'have_comments']].copy()"
   ]
  },
  {
   "cell_type": "code",
   "execution_count": 60,
   "metadata": {},
   "outputs": [],
   "source": [
    "model_data_ = pd.merge(full, df_filtered, on='name', how='left')\n",
    "model_data_.fillna(0,inplace=True)\n"
   ]
  },
  {
   "cell_type": "code",
   "execution_count": 61,
   "metadata": {},
   "outputs": [],
   "source": [
    "model_data1 = pd.merge(data, model_data_, on='name', how='right')"
   ]
  },
  {
   "cell_type": "code",
   "execution_count": 62,
   "metadata": {},
   "outputs": [],
   "source": [
    "model_data1.fillna(0, inplace=True)\n",
    "model_data1['state'] = model_data1['state'].replace(to_replace=['successful', 'failed'], value=[1,0])"
   ]
  },
  {
   "cell_type": "code",
   "execution_count": 63,
   "metadata": {},
   "outputs": [
    {
     "data": {
      "text/plain": [
       "(26779, 57)"
      ]
     },
     "execution_count": 63,
     "metadata": {},
     "output_type": "execute_result"
    }
   ],
   "source": [
    "model_data1.shape"
   ]
  },
  {
   "cell_type": "code",
   "execution_count": 64,
   "metadata": {},
   "outputs": [
    {
     "data": {
      "text/plain": [
       "0.0    18778\n",
       "1.0     8001\n",
       "Name: have_comments_y, dtype: int64"
      ]
     },
     "execution_count": 64,
     "metadata": {},
     "output_type": "execute_result"
    }
   ],
   "source": [
    "model_data1.have_comments_y.value_counts()"
   ]
  },
  {
   "cell_type": "code",
   "execution_count": 66,
   "metadata": {},
   "outputs": [
    {
     "data": {
      "text/html": [
       "<div>\n",
       "<style scoped>\n",
       "    .dataframe tbody tr th:only-of-type {\n",
       "        vertical-align: middle;\n",
       "    }\n",
       "\n",
       "    .dataframe tbody tr th {\n",
       "        vertical-align: top;\n",
       "    }\n",
       "\n",
       "    .dataframe thead th {\n",
       "        text-align: right;\n",
       "    }\n",
       "</style>\n",
       "<table border=\"1\" class=\"dataframe\">\n",
       "  <thead>\n",
       "    <tr style=\"text-align: right;\">\n",
       "      <th></th>\n",
       "      <th></th>\n",
       "      <th>backers_count</th>\n",
       "      <th>blurb</th>\n",
       "      <th>category</th>\n",
       "      <th>deadline</th>\n",
       "      <th>goal</th>\n",
       "      <th>launched_at</th>\n",
       "      <th>name</th>\n",
       "      <th>pledged</th>\n",
       "      <th>slug</th>\n",
       "      <th>staff_pick_x</th>\n",
       "      <th>urls</th>\n",
       "      <th>launched_year</th>\n",
       "      <th>launched_month</th>\n",
       "      <th>campaign_length</th>\n",
       "      <th>category_type</th>\n",
       "      <th>blurb_length</th>\n",
       "      <th>country_name</th>\n",
       "      <th>scrape_url</th>\n",
       "      <th>complete_url</th>\n",
       "      <th>scrape_urls</th>\n",
       "      <th>id_x</th>\n",
       "      <th>url_x</th>\n",
       "      <th>comments_x</th>\n",
       "      <th>dates</th>\n",
       "      <th>have_comments_x</th>\n",
       "      <th>...</th>\n",
       "      <th>category_type_design</th>\n",
       "      <th>category_type_fashion</th>\n",
       "      <th>category_type_film &amp; video</th>\n",
       "      <th>category_type_food</th>\n",
       "      <th>category_type_games</th>\n",
       "      <th>category_type_journalism</th>\n",
       "      <th>category_type_music</th>\n",
       "      <th>category_type_photography</th>\n",
       "      <th>category_type_publishing</th>\n",
       "      <th>category_type_technology</th>\n",
       "      <th>category_type_theater</th>\n",
       "      <th>country_name_Australia</th>\n",
       "      <th>country_name_Canada</th>\n",
       "      <th>country_name_France</th>\n",
       "      <th>country_name_Germany</th>\n",
       "      <th>country_name_Italy</th>\n",
       "      <th>country_name_Mexico</th>\n",
       "      <th>country_name_Spain</th>\n",
       "      <th>country_name_other</th>\n",
       "      <th>country_name_the Netherlands</th>\n",
       "      <th>country_name_the United States</th>\n",
       "      <th>Unnamed: 0</th>\n",
       "      <th>id_y</th>\n",
       "      <th>url_y</th>\n",
       "      <th>comments_y</th>\n",
       "    </tr>\n",
       "    <tr>\n",
       "      <th>have_comments_y</th>\n",
       "      <th>state</th>\n",
       "      <th></th>\n",
       "      <th></th>\n",
       "      <th></th>\n",
       "      <th></th>\n",
       "      <th></th>\n",
       "      <th></th>\n",
       "      <th></th>\n",
       "      <th></th>\n",
       "      <th></th>\n",
       "      <th></th>\n",
       "      <th></th>\n",
       "      <th></th>\n",
       "      <th></th>\n",
       "      <th></th>\n",
       "      <th></th>\n",
       "      <th></th>\n",
       "      <th></th>\n",
       "      <th></th>\n",
       "      <th></th>\n",
       "      <th></th>\n",
       "      <th></th>\n",
       "      <th></th>\n",
       "      <th></th>\n",
       "      <th></th>\n",
       "      <th></th>\n",
       "      <th></th>\n",
       "      <th></th>\n",
       "      <th></th>\n",
       "      <th></th>\n",
       "      <th></th>\n",
       "      <th></th>\n",
       "      <th></th>\n",
       "      <th></th>\n",
       "      <th></th>\n",
       "      <th></th>\n",
       "      <th></th>\n",
       "      <th></th>\n",
       "      <th></th>\n",
       "      <th></th>\n",
       "      <th></th>\n",
       "      <th></th>\n",
       "      <th></th>\n",
       "      <th></th>\n",
       "      <th></th>\n",
       "      <th></th>\n",
       "      <th></th>\n",
       "      <th></th>\n",
       "      <th></th>\n",
       "      <th></th>\n",
       "      <th></th>\n",
       "      <th></th>\n",
       "    </tr>\n",
       "  </thead>\n",
       "  <tbody>\n",
       "    <tr>\n",
       "      <th rowspan=\"2\" valign=\"top\">0.0</th>\n",
       "      <th>0</th>\n",
       "      <td>8291</td>\n",
       "      <td>8291</td>\n",
       "      <td>8291</td>\n",
       "      <td>8291</td>\n",
       "      <td>8291</td>\n",
       "      <td>8291</td>\n",
       "      <td>8291</td>\n",
       "      <td>8291</td>\n",
       "      <td>8291</td>\n",
       "      <td>8291</td>\n",
       "      <td>8291</td>\n",
       "      <td>8291</td>\n",
       "      <td>8291</td>\n",
       "      <td>8291</td>\n",
       "      <td>8291</td>\n",
       "      <td>8291</td>\n",
       "      <td>8291</td>\n",
       "      <td>8291</td>\n",
       "      <td>8291</td>\n",
       "      <td>8291</td>\n",
       "      <td>8291</td>\n",
       "      <td>8291</td>\n",
       "      <td>8291</td>\n",
       "      <td>8291</td>\n",
       "      <td>8291</td>\n",
       "      <td>...</td>\n",
       "      <td>8291</td>\n",
       "      <td>8291</td>\n",
       "      <td>8291</td>\n",
       "      <td>8291</td>\n",
       "      <td>8291</td>\n",
       "      <td>8291</td>\n",
       "      <td>8291</td>\n",
       "      <td>8291</td>\n",
       "      <td>8291</td>\n",
       "      <td>8291</td>\n",
       "      <td>8291</td>\n",
       "      <td>8291</td>\n",
       "      <td>8291</td>\n",
       "      <td>8291</td>\n",
       "      <td>8291</td>\n",
       "      <td>8291</td>\n",
       "      <td>8291</td>\n",
       "      <td>8291</td>\n",
       "      <td>8291</td>\n",
       "      <td>8291</td>\n",
       "      <td>8291</td>\n",
       "      <td>8291</td>\n",
       "      <td>8291</td>\n",
       "      <td>8291</td>\n",
       "      <td>8291</td>\n",
       "    </tr>\n",
       "    <tr>\n",
       "      <th>1</th>\n",
       "      <td>10487</td>\n",
       "      <td>10487</td>\n",
       "      <td>10487</td>\n",
       "      <td>10487</td>\n",
       "      <td>10487</td>\n",
       "      <td>10487</td>\n",
       "      <td>10487</td>\n",
       "      <td>10487</td>\n",
       "      <td>10487</td>\n",
       "      <td>10487</td>\n",
       "      <td>10487</td>\n",
       "      <td>10487</td>\n",
       "      <td>10487</td>\n",
       "      <td>10487</td>\n",
       "      <td>10487</td>\n",
       "      <td>10487</td>\n",
       "      <td>10487</td>\n",
       "      <td>10487</td>\n",
       "      <td>10487</td>\n",
       "      <td>10487</td>\n",
       "      <td>10487</td>\n",
       "      <td>10487</td>\n",
       "      <td>10487</td>\n",
       "      <td>10487</td>\n",
       "      <td>10487</td>\n",
       "      <td>...</td>\n",
       "      <td>10487</td>\n",
       "      <td>10487</td>\n",
       "      <td>10487</td>\n",
       "      <td>10487</td>\n",
       "      <td>10487</td>\n",
       "      <td>10487</td>\n",
       "      <td>10487</td>\n",
       "      <td>10487</td>\n",
       "      <td>10487</td>\n",
       "      <td>10487</td>\n",
       "      <td>10487</td>\n",
       "      <td>10487</td>\n",
       "      <td>10487</td>\n",
       "      <td>10487</td>\n",
       "      <td>10487</td>\n",
       "      <td>10487</td>\n",
       "      <td>10487</td>\n",
       "      <td>10487</td>\n",
       "      <td>10487</td>\n",
       "      <td>10487</td>\n",
       "      <td>10487</td>\n",
       "      <td>10487</td>\n",
       "      <td>10487</td>\n",
       "      <td>10487</td>\n",
       "      <td>10487</td>\n",
       "    </tr>\n",
       "    <tr>\n",
       "      <th rowspan=\"2\" valign=\"top\">1.0</th>\n",
       "      <th>0</th>\n",
       "      <td>1550</td>\n",
       "      <td>1550</td>\n",
       "      <td>1550</td>\n",
       "      <td>1550</td>\n",
       "      <td>1550</td>\n",
       "      <td>1550</td>\n",
       "      <td>1550</td>\n",
       "      <td>1550</td>\n",
       "      <td>1550</td>\n",
       "      <td>1550</td>\n",
       "      <td>1550</td>\n",
       "      <td>1550</td>\n",
       "      <td>1550</td>\n",
       "      <td>1550</td>\n",
       "      <td>1550</td>\n",
       "      <td>1550</td>\n",
       "      <td>1550</td>\n",
       "      <td>1550</td>\n",
       "      <td>1550</td>\n",
       "      <td>1550</td>\n",
       "      <td>1550</td>\n",
       "      <td>1550</td>\n",
       "      <td>1550</td>\n",
       "      <td>1550</td>\n",
       "      <td>1550</td>\n",
       "      <td>...</td>\n",
       "      <td>1550</td>\n",
       "      <td>1550</td>\n",
       "      <td>1550</td>\n",
       "      <td>1550</td>\n",
       "      <td>1550</td>\n",
       "      <td>1550</td>\n",
       "      <td>1550</td>\n",
       "      <td>1550</td>\n",
       "      <td>1550</td>\n",
       "      <td>1550</td>\n",
       "      <td>1550</td>\n",
       "      <td>1550</td>\n",
       "      <td>1550</td>\n",
       "      <td>1550</td>\n",
       "      <td>1550</td>\n",
       "      <td>1550</td>\n",
       "      <td>1550</td>\n",
       "      <td>1550</td>\n",
       "      <td>1550</td>\n",
       "      <td>1550</td>\n",
       "      <td>1550</td>\n",
       "      <td>1550</td>\n",
       "      <td>1550</td>\n",
       "      <td>1550</td>\n",
       "      <td>1550</td>\n",
       "    </tr>\n",
       "    <tr>\n",
       "      <th>1</th>\n",
       "      <td>6451</td>\n",
       "      <td>6451</td>\n",
       "      <td>6451</td>\n",
       "      <td>6451</td>\n",
       "      <td>6451</td>\n",
       "      <td>6451</td>\n",
       "      <td>6451</td>\n",
       "      <td>6451</td>\n",
       "      <td>6451</td>\n",
       "      <td>6451</td>\n",
       "      <td>6451</td>\n",
       "      <td>6451</td>\n",
       "      <td>6451</td>\n",
       "      <td>6451</td>\n",
       "      <td>6451</td>\n",
       "      <td>6451</td>\n",
       "      <td>6451</td>\n",
       "      <td>6451</td>\n",
       "      <td>6451</td>\n",
       "      <td>6451</td>\n",
       "      <td>6451</td>\n",
       "      <td>6451</td>\n",
       "      <td>6451</td>\n",
       "      <td>6451</td>\n",
       "      <td>6451</td>\n",
       "      <td>...</td>\n",
       "      <td>6451</td>\n",
       "      <td>6451</td>\n",
       "      <td>6451</td>\n",
       "      <td>6451</td>\n",
       "      <td>6451</td>\n",
       "      <td>6451</td>\n",
       "      <td>6451</td>\n",
       "      <td>6451</td>\n",
       "      <td>6451</td>\n",
       "      <td>6451</td>\n",
       "      <td>6451</td>\n",
       "      <td>6451</td>\n",
       "      <td>6451</td>\n",
       "      <td>6451</td>\n",
       "      <td>6451</td>\n",
       "      <td>6451</td>\n",
       "      <td>6451</td>\n",
       "      <td>6451</td>\n",
       "      <td>6451</td>\n",
       "      <td>6451</td>\n",
       "      <td>6451</td>\n",
       "      <td>6451</td>\n",
       "      <td>6451</td>\n",
       "      <td>6451</td>\n",
       "      <td>6451</td>\n",
       "    </tr>\n",
       "  </tbody>\n",
       "</table>\n",
       "<p>4 rows × 55 columns</p>\n",
       "</div>"
      ],
      "text/plain": [
       "                       backers_count  blurb  category  deadline   goal  \\\n",
       "have_comments_y state                                                    \n",
       "0.0             0               8291   8291      8291      8291   8291   \n",
       "                1              10487  10487     10487     10487  10487   \n",
       "1.0             0               1550   1550      1550      1550   1550   \n",
       "                1               6451   6451      6451      6451   6451   \n",
       "\n",
       "                       launched_at   name  pledged   slug  staff_pick_x  \\\n",
       "have_comments_y state                                                     \n",
       "0.0             0             8291   8291     8291   8291          8291   \n",
       "                1            10487  10487    10487  10487         10487   \n",
       "1.0             0             1550   1550     1550   1550          1550   \n",
       "                1             6451   6451     6451   6451          6451   \n",
       "\n",
       "                        urls  launched_year  launched_month  campaign_length  \\\n",
       "have_comments_y state                                                          \n",
       "0.0             0       8291           8291            8291             8291   \n",
       "                1      10487          10487           10487            10487   \n",
       "1.0             0       1550           1550            1550             1550   \n",
       "                1       6451           6451            6451             6451   \n",
       "\n",
       "                       category_type  blurb_length  country_name  scrape_url  \\\n",
       "have_comments_y state                                                          \n",
       "0.0             0               8291          8291          8291        8291   \n",
       "                1              10487         10487         10487       10487   \n",
       "1.0             0               1550          1550          1550        1550   \n",
       "                1               6451          6451          6451        6451   \n",
       "\n",
       "                       complete_url  scrape_urls   id_x  url_x  comments_x  \\\n",
       "have_comments_y state                                                        \n",
       "0.0             0              8291         8291   8291   8291        8291   \n",
       "                1             10487        10487  10487  10487       10487   \n",
       "1.0             0              1550         1550   1550   1550        1550   \n",
       "                1              6451         6451   6451   6451        6451   \n",
       "\n",
       "                       dates  have_comments_x  ...  category_type_design  \\\n",
       "have_comments_y state                          ...                         \n",
       "0.0             0       8291             8291  ...                  8291   \n",
       "                1      10487            10487  ...                 10487   \n",
       "1.0             0       1550             1550  ...                  1550   \n",
       "                1       6451             6451  ...                  6451   \n",
       "\n",
       "                       category_type_fashion  category_type_film & video  \\\n",
       "have_comments_y state                                                      \n",
       "0.0             0                       8291                        8291   \n",
       "                1                      10487                       10487   \n",
       "1.0             0                       1550                        1550   \n",
       "                1                       6451                        6451   \n",
       "\n",
       "                       category_type_food  category_type_games  \\\n",
       "have_comments_y state                                            \n",
       "0.0             0                    8291                 8291   \n",
       "                1                   10487                10487   \n",
       "1.0             0                    1550                 1550   \n",
       "                1                    6451                 6451   \n",
       "\n",
       "                       category_type_journalism  category_type_music  \\\n",
       "have_comments_y state                                                  \n",
       "0.0             0                          8291                 8291   \n",
       "                1                         10487                10487   \n",
       "1.0             0                          1550                 1550   \n",
       "                1                          6451                 6451   \n",
       "\n",
       "                       category_type_photography  category_type_publishing  \\\n",
       "have_comments_y state                                                        \n",
       "0.0             0                           8291                      8291   \n",
       "                1                          10487                     10487   \n",
       "1.0             0                           1550                      1550   \n",
       "                1                           6451                      6451   \n",
       "\n",
       "                       category_type_technology  category_type_theater  \\\n",
       "have_comments_y state                                                    \n",
       "0.0             0                          8291                   8291   \n",
       "                1                         10487                  10487   \n",
       "1.0             0                          1550                   1550   \n",
       "                1                          6451                   6451   \n",
       "\n",
       "                       country_name_Australia  country_name_Canada  \\\n",
       "have_comments_y state                                                \n",
       "0.0             0                        8291                 8291   \n",
       "                1                       10487                10487   \n",
       "1.0             0                        1550                 1550   \n",
       "                1                        6451                 6451   \n",
       "\n",
       "                       country_name_France  country_name_Germany  \\\n",
       "have_comments_y state                                              \n",
       "0.0             0                     8291                  8291   \n",
       "                1                    10487                 10487   \n",
       "1.0             0                     1550                  1550   \n",
       "                1                     6451                  6451   \n",
       "\n",
       "                       country_name_Italy  country_name_Mexico  \\\n",
       "have_comments_y state                                            \n",
       "0.0             0                    8291                 8291   \n",
       "                1                   10487                10487   \n",
       "1.0             0                    1550                 1550   \n",
       "                1                    6451                 6451   \n",
       "\n",
       "                       country_name_Spain  country_name_other  \\\n",
       "have_comments_y state                                           \n",
       "0.0             0                    8291                8291   \n",
       "                1                   10487               10487   \n",
       "1.0             0                    1550                1550   \n",
       "                1                    6451                6451   \n",
       "\n",
       "                       country_name_the Netherlands  \\\n",
       "have_comments_y state                                 \n",
       "0.0             0                              8291   \n",
       "                1                             10487   \n",
       "1.0             0                              1550   \n",
       "                1                              6451   \n",
       "\n",
       "                       country_name_the United States  Unnamed: 0   id_y  \\\n",
       "have_comments_y state                                                      \n",
       "0.0             0                                8291        8291   8291   \n",
       "                1                               10487       10487  10487   \n",
       "1.0             0                                1550        1550   1550   \n",
       "                1                                6451        6451   6451   \n",
       "\n",
       "                       url_y  comments_y  \n",
       "have_comments_y state                     \n",
       "0.0             0       8291        8291  \n",
       "                1      10487       10487  \n",
       "1.0             0       1550        1550  \n",
       "                1       6451        6451  \n",
       "\n",
       "[4 rows x 55 columns]"
      ]
     },
     "execution_count": 66,
     "metadata": {},
     "output_type": "execute_result"
    }
   ],
   "source": [
    "model_data1.groupby(['have_comments_y', 'state']).count()"
   ]
  },
  {
   "cell_type": "code",
   "execution_count": 67,
   "metadata": {},
   "outputs": [],
   "source": [
    "bar_width = 0.25\n",
    "success = [10487, 6451]\n",
    "failed = [8291, 1550]"
   ]
  },
  {
   "cell_type": "code",
   "execution_count": 87,
   "metadata": {},
   "outputs": [
    {
     "data": {
      "image/png": "[encoded data removed]",
      "text/plain": [
       "<Figure size 432x288 with 1 Axes>"
      ]
     },
     "metadata": {
      "needs_background": "light"
     },
     "output_type": "display_data"
    }
   ],
   "source": [
    "r1 = np.arange(len(success))\n",
    "r2 = [x + bar_width for x in r1]\n",
    "\n",
    "plt.bar(r1, success, color='darkorange', width=bar_width, edgecolor='white', label='success')\n",
    "plt.bar(r2, failed, color='green', width=bar_width, edgecolor='white', label='failed')\n",
    "plt.xlabel('Mid-Campaign Comments', fontsize=16)\n",
    "plt.ylabel('Count', fontsize=16)\n",
    "plt.xticks([r + bar_width*0.5 for r in range(len(success))], ['No Comments', 'Have Comments'], fontsize=12)\n",
    "plt.title('Status Group', fontsize=18)\n",
    "plt.legend()\n",
    "plt.show()"
   ]
  },
  {
   "cell_type": "code",
   "execution_count": 69,
   "metadata": {},
   "outputs": [],
   "source": [
    "X1 = model_data1.drop(['backers_count','blurb', 'category', 'deadline', 'urls', 'scrape_url', 'complete_url', 'scrape_urls',\n",
    "                     'launched_at', 'name', 'pledged', 'slug', 'state', 'category_type', 'country_name', 'id_x', 'url_x',\n",
    "                       'comments_x', 'dates', 'staff_pick_y', 'Unnamed: 0', 'id_y', 'url_y', 'comments_y', 'have_comments_y'],\n",
    "                   axis=1)\n",
    "y1 = model_data1['state']"
   ]
  },
  {
   "cell_type": "code",
   "execution_count": 70,
   "metadata": {},
   "outputs": [],
   "source": [
    "X1_old = model_data1.drop(['backers_count','blurb', 'category', 'deadline', 'urls', 'scrape_url', 'complete_url', 'scrape_urls',\n",
    "                     'launched_at', 'name', 'pledged', 'slug', 'state', 'category_type', 'country_name', 'id_x', 'url_x',\n",
    "                       'comments_x', 'dates', 'staff_pick_y', 'Unnamed: 0', 'id_y', 'url_y', 'comments_y', 'have_comments_y', \n",
    "                          'have_comments_x'], axis=1)\n",
    "y1_old = model_data1['state']"
   ]
  },
  {
   "cell_type": "code",
   "execution_count": 71,
   "metadata": {},
   "outputs": [],
   "source": [
    "df_filtered2 = df[['name', 'have_comments', 'pre_mid_campaign_dates_length']].copy()"
   ]
  },
  {
   "cell_type": "code",
   "execution_count": 72,
   "metadata": {},
   "outputs": [],
   "source": [
    "model_data_2 = pd.merge(full, df_filtered2, on='name', how='left')\n",
    "model_data_2.fillna(0,inplace=True)"
   ]
  },
  {
   "cell_type": "code",
   "execution_count": 73,
   "metadata": {},
   "outputs": [],
   "source": [
    "model_data2 = pd.merge(data, model_data_2, on='name', how='right')"
   ]
  },
  {
   "cell_type": "code",
   "execution_count": 74,
   "metadata": {},
   "outputs": [],
   "source": [
    "model_data2.fillna(0, inplace=True)\n",
    "model_data2['state'] = model_data2['state'].replace(to_replace=['successful', 'failed'], value=[1,0])"
   ]
  },
  {
   "cell_type": "code",
   "execution_count": 75,
   "metadata": {},
   "outputs": [],
   "source": [
    "X2 = model_data2.drop(['backers_count','blurb', 'category', 'deadline', 'urls', 'scrape_url', 'complete_url', 'scrape_urls',\n",
    "                     'launched_at', 'name', 'pledged', 'slug', 'state', 'category_type', 'country_name', 'id_x', 'url_x',\n",
    "                       'comments_x', 'dates', 'staff_pick_y', 'Unnamed: 0', 'id_y', 'url_y', 'comments_y', 'have_comments_y'],\n",
    "                   axis=1)\n",
    "y2 = model_data2['state']"
   ]
  },
  {
   "cell_type": "markdown",
   "metadata": {},
   "source": [
    "## Modeling"
   ]
  },
  {
   "cell_type": "code",
   "execution_count": 76,
   "metadata": {},
   "outputs": [],
   "source": [
    "## Old model with added \"have comments\" features. FULL DATASET\n",
    "X_train, X_test, y_train, y_test = train_test_split(X, y)"
   ]
  },
  {
   "cell_type": "code",
   "execution_count": 77,
   "metadata": {},
   "outputs": [
    {
     "name": "stdout",
     "output_type": "stream",
     "text": [
      "Model, Accuracy, Precision, Recall\n",
      "    Random Forest: (0.7358033973169185, 0.7582875618402088, 0.7943360809597649)\n",
      "    Logistic Regression: (0.6240161642741349, 0.619026288529914, 0.9022688321227454)\n",
      "    Gradient Boost: (0.7401029062801024, 0.7455435417884279, 0.8328572594466661)\n"
     ]
    }
   ],
   "source": [
    "def get_scores(classifier, X_train, X_test, y_train, y_test, **kwargs):\n",
    "    model = classifier(**kwargs)\n",
    "    model.fit(X_train, y_train)\n",
    "    y_predict = model.predict(X_test)\n",
    "    return model.score(X_test, y_test), precision_score(y_test, y_predict), recall_score(y_test, y_predict)\n",
    "print(\"Model, Accuracy, Precision, Recall\")\n",
    "print(\"    Random Forest:\", get_scores(RandomForestClassifier, X_train, X_test, y_train, y_test))\n",
    "print(\"    Logistic Regression:\", get_scores(LogisticRegression, X_train, X_test, y_train, y_test))\n",
    "print(\"    Gradient Boost:\", get_scores(GradientBoostingClassifier, X_train, X_test, y_train, y_test))"
   ]
  },
  {
   "cell_type": "code",
   "execution_count": 78,
   "metadata": {},
   "outputs": [],
   "source": [
    "## Old model with scraped campaign, no added new comment features.\n",
    "X_train, X_test, y_train, y_test = train_test_split(X1_old, y1_old)"
   ]
  },
  {
   "cell_type": "code",
   "execution_count": 79,
   "metadata": {},
   "outputs": [
    {
     "name": "stdout",
     "output_type": "stream",
     "text": [
      "Model, Accuracy, Precision, Recall\n",
      "    Random Forest: (0.810455563853622, 0.8312179915386328, 0.8795947219604147)\n",
      "    Logistic Regression: (0.6725914861837192, 0.6726691349713901, 0.9418001885014138)\n",
      "    Gradient Boost: (0.8058252427184466, 0.8205574912891986, 0.8878416588124411)\n"
     ]
    }
   ],
   "source": [
    "def get_scores(classifier, X_train, X_test, y_train, y_test, **kwargs):\n",
    "    model = classifier(**kwargs)\n",
    "    model.fit(X_train, y_train)\n",
    "    y_predict = model.predict(X_test)\n",
    "    return model.score(X_test, y_test), precision_score(y_test, y_predict), recall_score(y_test, y_predict)\n",
    "print(\"Model, Accuracy, Precision, Recall\")\n",
    "print(\"    Random Forest:\", get_scores(RandomForestClassifier, X_train, X_test, y_train, y_test))\n",
    "print(\"    Logistic Regression:\", get_scores(LogisticRegression, X_train, X_test, y_train, y_test))\n",
    "print(\"    Gradient Boost:\", get_scores(GradientBoostingClassifier, X_train, X_test, y_train, y_test))"
   ]
  },
  {
   "cell_type": "code",
   "execution_count": 80,
   "metadata": {},
   "outputs": [],
   "source": [
    "## Old model with added \"have comments\" features. 26.8K DATAPOINTS, THOSE THAT ARE SCRAPED\n",
    "X_train, X_test, y_train, y_test = train_test_split(X1, y1)"
   ]
  },
  {
   "cell_type": "code",
   "execution_count": 81,
   "metadata": {},
   "outputs": [
    {
     "name": "stdout",
     "output_type": "stream",
     "text": [
      "Model, Accuracy, Precision, Recall\n",
      "    Random Forest: (0.815982076176251, 0.8376030296279795, 0.8820079756040348)\n",
      "    Logistic Regression: (0.6642270351008215, 0.6714310022120129, 0.9256392212057236)\n",
      "    Gradient Boost: (0.8150858849887976, 0.8321985504063255, 0.88881069669247)\n"
     ]
    }
   ],
   "source": [
    "def get_scores(classifier, X_train, X_test, y_train, y_test, **kwargs):\n",
    "    model = classifier(**kwargs)\n",
    "    model.fit(X_train, y_train)\n",
    "    y_predict = model.predict(X_test)\n",
    "    return model.score(X_test, y_test), precision_score(y_test, y_predict), recall_score(y_test, y_predict)\n",
    "print(\"Model, Accuracy, Precision, Recall\")\n",
    "print(\"    Random Forest:\", get_scores(RandomForestClassifier, X_train, X_test, y_train, y_test))\n",
    "print(\"    Logistic Regression:\", get_scores(LogisticRegression, X_train, X_test, y_train, y_test))\n",
    "print(\"    Gradient Boost:\", get_scores(GradientBoostingClassifier, X_train, X_test, y_train, y_test))"
   ]
  },
  {
   "cell_type": "code",
   "execution_count": 82,
   "metadata": {},
   "outputs": [],
   "source": [
    "## Old model with added \"have comments\" and \"pre_mid_campaign_dates_length\" features. 26.8K DATAPOINTS, THOSE THAT ARE SCRAPED\n",
    "X_train, X_test, y_train, y_test = train_test_split(X2, y2)"
   ]
  },
  {
   "cell_type": "code",
   "execution_count": 83,
   "metadata": {},
   "outputs": [
    {
     "name": "stdout",
     "output_type": "stream",
     "text": [
      "Model, Accuracy, Precision, Recall\n",
      "    Random Forest: (0.8150858849887976, 0.8403607666290868, 0.8754991778247592)\n"
     ]
    },
    {
     "name": "stderr",
     "output_type": "stream",
     "text": [
      "/Users/Helen/anaconda3/lib/python3.7/site-packages/sklearn/linear_model/_logistic.py:940: ConvergenceWarning: lbfgs failed to converge (status=1):\n",
      "STOP: TOTAL NO. of ITERATIONS REACHED LIMIT.\n",
      "\n",
      "Increase the number of iterations (max_iter) or scale the data as shown in:\n",
      "    https://scikit-learn.org/stable/modules/preprocessing.html\n",
      "Please also refer to the documentation for alternative solver options:\n",
      "    https://scikit-learn.org/stable/modules/linear_model.html#logistic-regression\n",
      "  extra_warning_msg=_LOGISTIC_SOLVER_CONVERGENCE_MSG)\n"
     ]
    },
    {
     "name": "stdout",
     "output_type": "stream",
     "text": [
      "    Logistic Regression: (0.6788648244958925, 0.6831218494698418, 0.923185341789993)\n",
      "    Gradient Boost: (0.8117998506348021, 0.8311602209944752, 0.8834860230209067)\n"
     ]
    }
   ],
   "source": [
    "def get_scores(classifier, X_train, X_test, y_train, y_test, **kwargs):\n",
    "    model = classifier(**kwargs)\n",
    "    model.fit(X_train, y_train)\n",
    "    y_predict = model.predict(X_test)\n",
    "    return model.score(X_test, y_test), precision_score(y_test, y_predict), recall_score(y_test, y_predict)\n",
    "print(\"Model, Accuracy, Precision, Recall\")\n",
    "print(\"    Random Forest:\", get_scores(RandomForestClassifier, X_train, X_test, y_train, y_test))\n",
    "print(\"    Logistic Regression:\", get_scores(LogisticRegression, X_train, X_test, y_train, y_test))\n",
    "print(\"    Gradient Boost:\", get_scores(GradientBoostingClassifier, X_train, X_test, y_train, y_test))"
   ]
  },
  {
   "cell_type": "markdown",
   "metadata": {},
   "source": [
    "## LSTM"
   ]
  },
  {
   "cell_type": "code",
   "execution_count": 223,
   "metadata": {},
   "outputs": [],
   "source": [
    "df_lstm = df[df['pre_mid_campaign_comments'].apply(lambda x: len(x)>2)]\n"
   ]
  },
  {
   "cell_type": "code",
   "execution_count": 224,
   "metadata": {},
   "outputs": [],
   "source": [
    "def string_convert(x):\n",
    "    str1 = ''.join(str(e) for e in x)\n",
    "    return str1 "
   ]
  },
  {
   "cell_type": "code",
   "execution_count": 225,
   "metadata": {},
   "outputs": [
    {
     "name": "stderr",
     "output_type": "stream",
     "text": [
      "/Users/Helen/anaconda3/lib/python3.7/site-packages/ipykernel_launcher.py:1: SettingWithCopyWarning: \n",
      "A value is trying to be set on a copy of a slice from a DataFrame.\n",
      "Try using .loc[row_indexer,col_indexer] = value instead\n",
      "\n",
      "See the caveats in the documentation: http://pandas.pydata.org/pandas-docs/stable/indexing.html#indexing-view-versus-copy\n",
      "  \"\"\"Entry point for launching an IPython kernel.\n"
     ]
    }
   ],
   "source": [
    "df_lstm['pre_mid_campaign_comments'] = df_lstm['pre_mid_campaign_comments'].apply(lambda x: string_convert(x))"
   ]
  },
  {
   "cell_type": "code",
   "execution_count": 226,
   "metadata": {},
   "outputs": [],
   "source": [
    "x = df_lstm['pre_mid_campaign_comments'].values"
   ]
  },
  {
   "cell_type": "code",
   "execution_count": 227,
   "metadata": {},
   "outputs": [],
   "source": [
    "tokenizer = Tokenizer(num_words=100)\n",
    "tokenizer.fit_on_texts(x)\n",
    "xtest= tokenizer.texts_to_sequences(x) "
   ]
  },
  {
   "cell_type": "code",
   "execution_count": 229,
   "metadata": {},
   "outputs": [],
   "source": [
    "maxlen=20\n",
    "xtest=pad_sequences(xtest,padding='post', maxlen=maxlen)"
   ]
  },
  {
   "cell_type": "code",
   "execution_count": 230,
   "metadata": {},
   "outputs": [
    {
     "data": {
      "text/plain": [
       "array([[ 9, 37, 65, ...,  2, 16, 70],\n",
       "       [74, 94, 86, ...,  8, 64,  4],\n",
       "       [56, 32,  7, ..., 67, 34, 49],\n",
       "       ...,\n",
       "       [ 4,  7,  5, ..., 27,  4,  1],\n",
       "       [ 4, 15, 21, ..., 71,  6,  9],\n",
       "       [ 7, 64, 53, ...,  2, 13,  2]], dtype=int32)"
      ]
     },
     "execution_count": 230,
     "metadata": {},
     "output_type": "execute_result"
    }
   ],
   "source": [
    "xtest"
   ]
  },
  {
   "cell_type": "code",
   "execution_count": 231,
   "metadata": {},
   "outputs": [
    {
     "name": "stdout",
     "output_type": "stream",
     "text": [
      "[ 9 37 65 18 81  6 20 75  8 96 17  4 46 16 16  5 17  2 16 70]\n",
      "Lori, the kids will want you and Uncle Michael to sign their card!  Enjoy your trip.My $25 pledge was on behalf of Nina Gibbons, who donated to support this project.  Thanks so much for your donation.Hope you guys have a great trip! My only request-my brother and Lori have to sign my book!\n"
     ]
    }
   ],
   "source": [
    "print(xtest[0])\n",
    "print(x[0])"
   ]
  },
  {
   "cell_type": "code",
   "execution_count": 232,
   "metadata": {},
   "outputs": [
    {
     "data": {
      "text/plain": [
       "22976"
      ]
     },
     "execution_count": 232,
     "metadata": {},
     "output_type": "execute_result"
    }
   ],
   "source": [
    "vocab_size=len(tokenizer.word_index)+1\n",
    "vocab_size"
   ]
  },
  {
   "cell_type": "code",
   "execution_count": 233,
   "metadata": {},
   "outputs": [],
   "source": [
    "model=Sequential()"
   ]
  },
  {
   "cell_type": "code",
   "execution_count": 234,
   "metadata": {},
   "outputs": [],
   "source": [
    "##  **** My_half_model\n",
    "# tokenizer = Tokenizer(num_words=100)\n",
    "# embedding_dim=50\n",
    "# model=Sequential()\n",
    "# model.add(layers.Embedding(input_dim=vocab_size,\n",
    "#          output_dim=embedding_dim,\n",
    "#          input_length=maxlen))\n",
    "# model.add(layers.LSTM(units=50,return_sequences=True))\n",
    "# model.add(layers.LSTM(units=10))\n",
    "# model.add(layers.Dropout(0.5))\n",
    "# model.add(layers.Dense(8))\n",
    "# model.add(layers.Dense(1, activation=\"sigmoid\"))\n",
    "# model.compile(optimizer=\"adam\", loss=\"binary_crossentropy\", \n",
    "#      metrics=['accuracy'])\n",
    "# model.summary()"
   ]
  },
  {
   "cell_type": "code",
   "execution_count": 91,
   "metadata": {},
   "outputs": [],
   "source": [
    "predict = my_model.predict(xtest)"
   ]
  },
  {
   "cell_type": "code",
   "execution_count": 92,
   "metadata": {},
   "outputs": [
    {
     "data": {
      "text/plain": [
       "array([[0.3390172 ],\n",
       "       [0.85338855],\n",
       "       [0.5098972 ],\n",
       "       ...,\n",
       "       [0.09510639],\n",
       "       [0.06669131],\n",
       "       [0.10593835]], dtype=float32)"
      ]
     },
     "execution_count": 92,
     "metadata": {},
     "output_type": "execute_result"
    }
   ],
   "source": [
    "predict"
   ]
  },
  {
   "cell_type": "code",
   "execution_count": 93,
   "metadata": {},
   "outputs": [
    {
     "name": "stderr",
     "output_type": "stream",
     "text": [
      "/opt/conda/lib/python3.7/site-packages/ipykernel_launcher.py:1: SettingWithCopyWarning: \n",
      "A value is trying to be set on a copy of a slice from a DataFrame.\n",
      "Try using .loc[row_indexer,col_indexer] = value instead\n",
      "\n",
      "See the caveats in the documentation: https://pandas.pydata.org/pandas-docs/stable/user_guide/indexing.html#returning-a-view-versus-a-copy\n",
      "  \"\"\"Entry point for launching an IPython kernel.\n"
     ]
    }
   ],
   "source": [
    "df_lstm['sentiment_predict'] = predict"
   ]
  },
  {
   "cell_type": "markdown",
   "metadata": {},
   "source": [
    "#### Model with keyword 150"
   ]
  },
  {
   "cell_type": "code",
   "execution_count": null,
   "metadata": {},
   "outputs": [],
   "source": [
    "# tokenizer = Tokenizer(num_words=150)\n",
    "# embedding_dim=100\n",
    "# model=Sequential()\n",
    "# model.add(layers.Embedding(input_dim=vocab_size,\n",
    "#          output_dim=embedding_dim,\n",
    "#          input_length=maxlen))\n",
    "# model.add(layers.LSTM(units=50,return_sequences=True))\n",
    "# model.add(layers.LSTM(units=30))\n",
    "# model.add(layers.Dropout(0.2))\n",
    "# model.add(layers.Dense(1, activation=\"sigmoid\"))\n",
    "# model.compile(optimizer=\"adam\", loss=\"binary_crossentropy\", \n",
    "#      metrics=['accuracy'])\n",
    "# model.summary()\n"
   ]
  },
  {
   "cell_type": "markdown",
   "metadata": {},
   "source": [
    "## LSTM OHE"
   ]
  },
  {
   "cell_type": "code",
   "execution_count": 95,
   "metadata": {},
   "outputs": [],
   "source": [
    "lstm_filtered = df_lstm[['name', 'sentiment_predict']].copy()"
   ]
  },
  {
   "cell_type": "code",
   "execution_count": 97,
   "metadata": {},
   "outputs": [],
   "source": [
    "lstm_data = pd.merge(full, lstm_filtered, on='name', how='left')\n",
    "lstm_data.fillna(0,inplace=True)"
   ]
  },
  {
   "cell_type": "code",
   "execution_count": 99,
   "metadata": {},
   "outputs": [],
   "source": [
    "lstm_data1 = pd.merge(data, lstm_data, on='name', how='right')"
   ]
  },
  {
   "cell_type": "code",
   "execution_count": 102,
   "metadata": {},
   "outputs": [
    {
     "name": "stdout",
     "output_type": "stream",
     "text": [
      "0.0    15830\n",
      "1.0     4296\n",
      "Name: have_comments, dtype: int64\n",
      "(20130, 57)\n"
     ]
    }
   ],
   "source": [
    "print(lstm_data1['have_comments'].value_counts())\n",
    "print(lstm_data1.shape)"
   ]
  },
  {
   "cell_type": "code",
   "execution_count": 103,
   "metadata": {},
   "outputs": [],
   "source": [
    "lstm_data1.fillna(0, inplace=True)\n",
    "lstm_data1['state'] = lstm_data1['state'].replace(to_replace=['successful', 'failed'], value=[1,0])"
   ]
  },
  {
   "cell_type": "code",
   "execution_count": 114,
   "metadata": {},
   "outputs": [],
   "source": [
    "lstm_x = lstm_data1.drop(['backers_count','blurb', 'category', 'deadline', 'name', 'state',\n",
    "                          'urls', 'id_x', 'scrape_url', 'complete_url', 'scrape_urls', 'url_x', 'id_y',\n",
    "                     'launched_at', 'pledged', 'slug', 'state', 'category_type', 'country_name',\n",
    "                          'url_y', 'comments_y', 'comments_x', 'dates', 'staff_pick_y', 'Unnamed: 0'],\n",
    "                   axis=1)\n",
    "lstm_y = lstm_data1['state']"
   ]
  },
  {
   "cell_type": "markdown",
   "metadata": {},
   "source": [
    "## LSTM Modeling"
   ]
  },
  {
   "cell_type": "code",
   "execution_count": 116,
   "metadata": {},
   "outputs": [],
   "source": [
    "X_train, X_test, y_train, y_test = train_test_split(lstm_x, lstm_y)"
   ]
  },
  {
   "cell_type": "code",
   "execution_count": 117,
   "metadata": {},
   "outputs": [
    {
     "name": "stdout",
     "output_type": "stream",
     "text": [
      "Model, Accuracy, Precision, Recall\n",
      "    Random Forest: (0.7671368964832108, 0.7971830985915493, 0.8293715402149137)\n"
     ]
    },
    {
     "name": "stderr",
     "output_type": "stream",
     "text": [
      "/opt/conda/lib/python3.7/site-packages/sklearn/linear_model/_logistic.py:940: ConvergenceWarning: lbfgs failed to converge (status=1):\n",
      "STOP: TOTAL NO. of ITERATIONS REACHED LIMIT.\n",
      "\n",
      "Increase the number of iterations (max_iter) or scale the data as shown in:\n",
      "    https://scikit-learn.org/stable/modules/preprocessing.html\n",
      "Please also refer to the documentation for alternative solver options:\n",
      "    https://scikit-learn.org/stable/modules/linear_model.html#logistic-regression\n",
      "  extra_warning_msg=_LOGISTIC_SOLVER_CONVERGENCE_MSG)\n"
     ]
    },
    {
     "name": "stdout",
     "output_type": "stream",
     "text": [
      "    Logistic Regression: (0.7061394794357242, 0.7249858677218768, 0.8352328231846304)\n",
      "    Gradient Boost: (0.7665408305185774, 0.7897310513447433, 0.841419732985998)\n"
     ]
    }
   ],
   "source": [
    "def get_scores(classifier, X_train, X_test, y_train, y_test, **kwargs):\n",
    "    model = classifier(**kwargs)\n",
    "    model.fit(X_train, y_train)\n",
    "    y_predict = model.predict(X_test)\n",
    "    return model.score(X_test, y_test), precision_score(y_test, y_predict), recall_score(y_test, y_predict)\n",
    "print(\"Model, Accuracy, Precision, Recall\")\n",
    "print(\"    Random Forest:\", get_scores(RandomForestClassifier, X_train, X_test, y_train, y_test))\n",
    "print(\"    Logistic Regression:\", get_scores(LogisticRegression, X_train, X_test, y_train, y_test))\n",
    "print(\"    Gradient Boost:\", get_scores(GradientBoostingClassifier, X_train, X_test, y_train, y_test))"
   ]
  },
  {
   "cell_type": "code",
   "execution_count": null,
   "metadata": {},
   "outputs": [],
   "source": []
  },
  {
   "cell_type": "code",
   "execution_count": null,
   "metadata": {},
   "outputs": [],
   "source": []
  },
  {
   "cell_type": "code",
   "execution_count": null,
   "metadata": {},
   "outputs": [],
   "source": []
  }
 ],
 "metadata": {
  "kernelspec": {
   "display_name": "Python 3",
   "language": "python",
   "name": "python3"
  },
  "language_info": {
   "codemirror_mode": {
    "name": "ipython",
    "version": 3
   },
   "file_extension": ".py",
   "mimetype": "text/x-python",
   "name": "python",
   "nbconvert_exporter": "python",
   "pygments_lexer": "ipython3",
   "version": "3.7.3"
  }
 },
 "nbformat": 4,
 "nbformat_minor": 4
}
