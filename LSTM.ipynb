{
 "cells": [
  {
   "cell_type": "code",
   "execution_count": 4,
   "metadata": {},
   "outputs": [],
   "source": [
    "import numpy as np\n",
    "import pandas as pd\n",
    "import matplotlib.pyplot as plt\n",
    "import re\n",
    "import ast\n",
    "import glob\n",
    "import tensorflow as tf\n",
    "from tensorflow import keras\n",
    "\n",
    "from sklearn.preprocessing import OneHotEncoder, StandardScaler\n",
    "from sklearn.metrics import accuracy_score, precision_score, recall_score, confusion_matrix\n",
    "from sklearn.model_selection import train_test_split, cross_val_score\n",
    "from sklearn.linear_model import LogisticRegression\n",
    "from sklearn.ensemble import RandomForestClassifier, GradientBoostingClassifier\n",
    "from sklearn.model_selection import GridSearchCV\n",
    "from sklearn.pipeline import Pipeline, make_pipeline\n",
    "\n",
    "from tensorflow.python.keras.preprocessing.text import Tokenizer\n",
    "from tensorflow.python.keras.preprocessing.sequence import pad_sequences\n",
    "from tensorflow.python.keras.models import Sequential\n",
    "from tensorflow.python.keras import layers\n",
    "\n",
    "plt.style.use('ggplot')\n",
    "%matplotlib inline"
   ]
  },
  {
   "cell_type": "code",
   "execution_count": 6,
   "metadata": {},
   "outputs": [],
   "source": [
    "pd.set_option('display.max_columns', 50)"
   ]
  },
  {
   "cell_type": "code",
   "execution_count": 7,
   "metadata": {},
   "outputs": [],
   "source": [
    "master = pd.read_csv('data/master_cleaned.csv')"
   ]
  },
  {
   "cell_type": "code",
   "execution_count": 8,
   "metadata": {},
   "outputs": [],
   "source": [
    "comments = pd.read_csv('data/comments.csv')"
   ]
  },
  {
   "cell_type": "code",
   "execution_count": 9,
   "metadata": {},
   "outputs": [],
   "source": [
    "dates = pd.read_csv('data/comments_dates.csv', names=['name','url','dates'])"
   ]
  },
  {
   "cell_type": "code",
   "execution_count": 10,
   "metadata": {},
   "outputs": [
    {
     "name": "stdout",
     "output_type": "stream",
     "text": [
      "(17642, 3)\n",
      "(4068, 3)\n"
     ]
    }
   ],
   "source": [
    "print(comments.shape)\n",
    "print(dates.shape)"
   ]
  },
  {
   "cell_type": "code",
   "execution_count": 11,
   "metadata": {},
   "outputs": [
    {
     "name": "stdout",
     "output_type": "stream",
     "text": [
      "<class 'pandas.core.frame.DataFrame'>\n",
      "RangeIndex: 17642 entries, 0 to 17641\n",
      "Data columns (total 3 columns):\n",
      " #   Column      Non-Null Count  Dtype \n",
      "---  ------      --------------  ----- \n",
      " 0   Unnamed: 0  17642 non-null  int64 \n",
      " 1   url         17642 non-null  object\n",
      " 2   comments    17642 non-null  object\n",
      "dtypes: int64(1), object(2)\n",
      "memory usage: 413.6+ KB\n"
     ]
    }
   ],
   "source": [
    "comments.info()"
   ]
  },
  {
   "cell_type": "code",
   "execution_count": 17,
   "metadata": {},
   "outputs": [],
   "source": [
    "comments.drop('Unnamed: 0', axis=1, inplace=True)"
   ]
  },
  {
   "cell_type": "code",
   "execution_count": 18,
   "metadata": {},
   "outputs": [
    {
     "data": {
      "text/html": [
       "<div>\n",
       "<style scoped>\n",
       "    .dataframe tbody tr th:only-of-type {\n",
       "        vertical-align: middle;\n",
       "    }\n",
       "\n",
       "    .dataframe tbody tr th {\n",
       "        vertical-align: top;\n",
       "    }\n",
       "\n",
       "    .dataframe thead th {\n",
       "        text-align: right;\n",
       "    }\n",
       "</style>\n",
       "<table border=\"1\" class=\"dataframe\">\n",
       "  <thead>\n",
       "    <tr style=\"text-align: right;\">\n",
       "      <th></th>\n",
       "      <th>url</th>\n",
       "      <th>comments</th>\n",
       "      <th>have_comments</th>\n",
       "    </tr>\n",
       "  </thead>\n",
       "  <tbody>\n",
       "    <tr>\n",
       "      <th>0</th>\n",
       "      <td>https://www.kickstarter.com/projects/117862918...</td>\n",
       "      <td>[]</td>\n",
       "      <td>0</td>\n",
       "    </tr>\n",
       "    <tr>\n",
       "      <th>1</th>\n",
       "      <td>https://www.kickstarter.com/projects/lizardsho...</td>\n",
       "      <td>[]</td>\n",
       "      <td>0</td>\n",
       "    </tr>\n",
       "    <tr>\n",
       "      <th>2</th>\n",
       "      <td>https://www.kickstarter.com/projects/184368767...</td>\n",
       "      <td>[]</td>\n",
       "      <td>0</td>\n",
       "    </tr>\n",
       "    <tr>\n",
       "      <th>3</th>\n",
       "      <td>https://www.kickstarter.com/projects/376746530...</td>\n",
       "      <td>[]</td>\n",
       "      <td>0</td>\n",
       "    </tr>\n",
       "    <tr>\n",
       "      <th>4</th>\n",
       "      <td>https://www.kickstarter.com/projects/116371417...</td>\n",
       "      <td>[]</td>\n",
       "      <td>0</td>\n",
       "    </tr>\n",
       "  </tbody>\n",
       "</table>\n",
       "</div>"
      ],
      "text/plain": [
       "                                                 url comments  have_comments\n",
       "0  https://www.kickstarter.com/projects/117862918...       []              0\n",
       "1  https://www.kickstarter.com/projects/lizardsho...       []              0\n",
       "2  https://www.kickstarter.com/projects/184368767...       []              0\n",
       "3  https://www.kickstarter.com/projects/376746530...       []              0\n",
       "4  https://www.kickstarter.com/projects/116371417...       []              0"
      ]
     },
     "execution_count": 18,
     "metadata": {},
     "output_type": "execute_result"
    }
   ],
   "source": [
    "comments.head()"
   ]
  },
  {
   "cell_type": "code",
   "execution_count": 19,
   "metadata": {},
   "outputs": [
    {
     "name": "stderr",
     "output_type": "stream",
     "text": [
      "/opt/conda/lib/python3.7/site-packages/ipykernel_launcher.py:1: SettingWithCopyWarning: \n",
      "A value is trying to be set on a copy of a slice from a DataFrame\n",
      "\n",
      "See the caveats in the documentation: https://pandas.pydata.org/pandas-docs/stable/user_guide/indexing.html#returning-a-view-versus-a-copy\n",
      "  \"\"\"Entry point for launching an IPython kernel.\n",
      "/opt/conda/lib/python3.7/site-packages/ipykernel_launcher.py:2: SettingWithCopyWarning: \n",
      "A value is trying to be set on a copy of a slice from a DataFrame\n",
      "\n",
      "See the caveats in the documentation: https://pandas.pydata.org/pandas-docs/stable/user_guide/indexing.html#returning-a-view-versus-a-copy\n",
      "  \n"
     ]
    }
   ],
   "source": [
    "comments['comments'][11] = []\n",
    "comments['comments'][12] = []"
   ]
  },
  {
   "cell_type": "code",
   "execution_count": 20,
   "metadata": {},
   "outputs": [],
   "source": [
    "urls = pd.read_csv('data/comments_urls_copy.csv')"
   ]
  },
  {
   "cell_type": "code",
   "execution_count": 21,
   "metadata": {},
   "outputs": [
    {
     "data": {
      "text/html": [
       "<div>\n",
       "<style scoped>\n",
       "    .dataframe tbody tr th:only-of-type {\n",
       "        vertical-align: middle;\n",
       "    }\n",
       "\n",
       "    .dataframe tbody tr th {\n",
       "        vertical-align: top;\n",
       "    }\n",
       "\n",
       "    .dataframe thead th {\n",
       "        text-align: right;\n",
       "    }\n",
       "</style>\n",
       "<table border=\"1\" class=\"dataframe\">\n",
       "  <thead>\n",
       "    <tr style=\"text-align: right;\">\n",
       "      <th></th>\n",
       "      <th>Unnamed: 0</th>\n",
       "      <th>id</th>\n",
       "      <th>name</th>\n",
       "      <th>url</th>\n",
       "    </tr>\n",
       "  </thead>\n",
       "  <tbody>\n",
       "    <tr>\n",
       "      <th>0</th>\n",
       "      <td>0</td>\n",
       "      <td>751419376</td>\n",
       "      <td>Iron Age Kingdoms - First Free To Win Mobile S...</td>\n",
       "      <td>https://www.kickstarter.com/projects/117862918...</td>\n",
       "    </tr>\n",
       "    <tr>\n",
       "      <th>1</th>\n",
       "      <td>1</td>\n",
       "      <td>289952460</td>\n",
       "      <td>\"Lizard\" a short film</td>\n",
       "      <td>https://www.kickstarter.com/projects/lizardsho...</td>\n",
       "    </tr>\n",
       "    <tr>\n",
       "      <th>2</th>\n",
       "      <td>2</td>\n",
       "      <td>37585826</td>\n",
       "      <td>Total Franchise Football 2016</td>\n",
       "      <td>https://www.kickstarter.com/projects/184368767...</td>\n",
       "    </tr>\n",
       "    <tr>\n",
       "      <th>3</th>\n",
       "      <td>3</td>\n",
       "      <td>1727301949</td>\n",
       "      <td>The Trans-American Psychogeographic Literary C...</td>\n",
       "      <td>https://www.kickstarter.com/projects/376746530...</td>\n",
       "    </tr>\n",
       "    <tr>\n",
       "      <th>4</th>\n",
       "      <td>4</td>\n",
       "      <td>144196412</td>\n",
       "      <td>The Golden Ticket to the Wonka Factory</td>\n",
       "      <td>https://www.kickstarter.com/projects/116371417...</td>\n",
       "    </tr>\n",
       "  </tbody>\n",
       "</table>\n",
       "</div>"
      ],
      "text/plain": [
       "   Unnamed: 0          id                                               name  \\\n",
       "0           0   751419376  Iron Age Kingdoms - First Free To Win Mobile S...   \n",
       "1           1   289952460                              \"Lizard\" a short film   \n",
       "2           2    37585826                      Total Franchise Football 2016   \n",
       "3           3  1727301949  The Trans-American Psychogeographic Literary C...   \n",
       "4           4   144196412             The Golden Ticket to the Wonka Factory   \n",
       "\n",
       "                                                 url  \n",
       "0  https://www.kickstarter.com/projects/117862918...  \n",
       "1  https://www.kickstarter.com/projects/lizardsho...  \n",
       "2  https://www.kickstarter.com/projects/184368767...  \n",
       "3  https://www.kickstarter.com/projects/376746530...  \n",
       "4  https://www.kickstarter.com/projects/116371417...  "
      ]
     },
     "execution_count": 21,
     "metadata": {},
     "output_type": "execute_result"
    }
   ],
   "source": [
    "urls.head()"
   ]
  },
  {
   "cell_type": "code",
   "execution_count": 22,
   "metadata": {},
   "outputs": [],
   "source": [
    "# merge comments table with url tables to get campaign id\n",
    "full = pd.merge(urls, comments, how='right', on= 'url', )"
   ]
  },
  {
   "cell_type": "code",
   "execution_count": 23,
   "metadata": {},
   "outputs": [
    {
     "data": {
      "text/plain": [
       "(17642, 6)"
      ]
     },
     "execution_count": 23,
     "metadata": {},
     "output_type": "execute_result"
    }
   ],
   "source": [
    "full.shape"
   ]
  },
  {
   "cell_type": "code",
   "execution_count": 28,
   "metadata": {},
   "outputs": [],
   "source": [
    "full_with_dates = pd.merge(full, dates, on='url')\n",
    "full_with_dates.drop(columns=['Unnamed: 0', 'name_y'], inplace=True)"
   ]
  },
  {
   "cell_type": "code",
   "execution_count": 29,
   "metadata": {},
   "outputs": [],
   "source": [
    "full_with_dates.rename(columns={'name_x': 'name'}, inplace=True)\n"
   ]
  },
  {
   "cell_type": "code",
   "execution_count": 31,
   "metadata": {},
   "outputs": [
    {
     "data": {
      "text/html": [
       "<div>\n",
       "<style scoped>\n",
       "    .dataframe tbody tr th:only-of-type {\n",
       "        vertical-align: middle;\n",
       "    }\n",
       "\n",
       "    .dataframe tbody tr th {\n",
       "        vertical-align: top;\n",
       "    }\n",
       "\n",
       "    .dataframe thead th {\n",
       "        text-align: right;\n",
       "    }\n",
       "</style>\n",
       "<table border=\"1\" class=\"dataframe\">\n",
       "  <thead>\n",
       "    <tr style=\"text-align: right;\">\n",
       "      <th></th>\n",
       "      <th>id</th>\n",
       "      <th>name</th>\n",
       "      <th>url</th>\n",
       "      <th>comments</th>\n",
       "      <th>have_comments</th>\n",
       "      <th>dates</th>\n",
       "    </tr>\n",
       "  </thead>\n",
       "  <tbody>\n",
       "    <tr>\n",
       "      <th>0</th>\n",
       "      <td>1769794304</td>\n",
       "      <td>Burma Storybook</td>\n",
       "      <td>https://www.kickstarter.com/projects/618155130...</td>\n",
       "      <td>['Oh! My! The book has arrived and I am speech...</td>\n",
       "      <td>1</td>\n",
       "      <td>['June 30, 2017 10:52 AM PDT', 'May 26, 2017 3...</td>\n",
       "    </tr>\n",
       "    <tr>\n",
       "      <th>1</th>\n",
       "      <td>526305087</td>\n",
       "      <td>The Alchemy of Collaboration</td>\n",
       "      <td>https://www.kickstarter.com/projects/punchgrap...</td>\n",
       "      <td>[\"I know you read the messages. I've been chas...</td>\n",
       "      <td>1</td>\n",
       "      <td>['June 1, 2020 10:55 AM PDT', 'May 21, 2020 9:...</td>\n",
       "    </tr>\n",
       "    <tr>\n",
       "      <th>2</th>\n",
       "      <td>1103726466</td>\n",
       "      <td>Frack This? - The Wyoming Artist Expedition</td>\n",
       "      <td>https://www.kickstarter.com/projects/331530956...</td>\n",
       "      <td>['To the Artists:', 'I encourage each artist t...</td>\n",
       "      <td>1</td>\n",
       "      <td>['May 30, 2012 3:37 PM PDT', 'May 14, 2012 2:4...</td>\n",
       "    </tr>\n",
       "    <tr>\n",
       "      <th>3</th>\n",
       "      <td>2045995373</td>\n",
       "      <td>Cookietownworld</td>\n",
       "      <td>https://www.kickstarter.com/projects/cookietow...</td>\n",
       "      <td>['I think Cookietownworld is an awesome idea. ...</td>\n",
       "      <td>1</td>\n",
       "      <td>['June 23, 2016 8:55 AM PDT']</td>\n",
       "    </tr>\n",
       "    <tr>\n",
       "      <th>4</th>\n",
       "      <td>1228292914</td>\n",
       "      <td>Dunpets Colors: Monster-catching RPG</td>\n",
       "      <td>https://www.kickstarter.com/projects/gugamesde...</td>\n",
       "      <td>['Any updates about the premier? :)', 'Any pro...</td>\n",
       "      <td>1</td>\n",
       "      <td>['April 17, 2018 6:49 PM PDT', 'January 22, 20...</td>\n",
       "    </tr>\n",
       "  </tbody>\n",
       "</table>\n",
       "</div>"
      ],
      "text/plain": [
       "           id                                         name  \\\n",
       "0  1769794304                              Burma Storybook   \n",
       "1   526305087                 The Alchemy of Collaboration   \n",
       "2  1103726466  Frack This? - The Wyoming Artist Expedition   \n",
       "3  2045995373                              Cookietownworld   \n",
       "4  1228292914         Dunpets Colors: Monster-catching RPG   \n",
       "\n",
       "                                                 url  \\\n",
       "0  https://www.kickstarter.com/projects/618155130...   \n",
       "1  https://www.kickstarter.com/projects/punchgrap...   \n",
       "2  https://www.kickstarter.com/projects/331530956...   \n",
       "3  https://www.kickstarter.com/projects/cookietow...   \n",
       "4  https://www.kickstarter.com/projects/gugamesde...   \n",
       "\n",
       "                                            comments  have_comments  \\\n",
       "0  ['Oh! My! The book has arrived and I am speech...              1   \n",
       "1  [\"I know you read the messages. I've been chas...              1   \n",
       "2  ['To the Artists:', 'I encourage each artist t...              1   \n",
       "3  ['I think Cookietownworld is an awesome idea. ...              1   \n",
       "4  ['Any updates about the premier? :)', 'Any pro...              1   \n",
       "\n",
       "                                               dates  \n",
       "0  ['June 30, 2017 10:52 AM PDT', 'May 26, 2017 3...  \n",
       "1  ['June 1, 2020 10:55 AM PDT', 'May 21, 2020 9:...  \n",
       "2  ['May 30, 2012 3:37 PM PDT', 'May 14, 2012 2:4...  \n",
       "3                      ['June 23, 2016 8:55 AM PDT']  \n",
       "4  ['April 17, 2018 6:49 PM PDT', 'January 22, 20...  "
      ]
     },
     "execution_count": 31,
     "metadata": {},
     "output_type": "execute_result"
    }
   ],
   "source": [
    "full_with_dates.head()"
   ]
  },
  {
   "cell_type": "markdown",
   "metadata": {},
   "source": [
    "## Merge with Master"
   ]
  },
  {
   "cell_type": "code",
   "execution_count": 32,
   "metadata": {},
   "outputs": [
    {
     "data": {
      "text/plain": [
       "(4113, 22)"
      ]
     },
     "execution_count": 32,
     "metadata": {},
     "output_type": "execute_result"
    }
   ],
   "source": [
    "# full df with comments and dates\n",
    "df = pd.merge(master, full_with_dates, on='name')\n",
    "df.drop(columns=['Unnamed: 0', 'country_name'], inplace=True)\n",
    "df.shape"
   ]
  },
  {
   "cell_type": "code",
   "execution_count": 36,
   "metadata": {},
   "outputs": [
    {
     "data": {
      "text/plain": [
       "(169626, 21)"
      ]
     },
     "execution_count": 36,
     "metadata": {},
     "output_type": "execute_result"
    }
   ],
   "source": [
    "# master list with outer join, with comments or no comments \n",
    "df_full = pd.merge(master, full, on='name', how='left')\n",
    "df_full.drop(columns=['Unnamed: 0_x', 'Unnamed: 0_y','country_name'], inplace=True)\n",
    "df_full.shape"
   ]
  },
  {
   "cell_type": "code",
   "execution_count": 37,
   "metadata": {},
   "outputs": [
    {
     "data": {
      "text/html": [
       "<div>\n",
       "<style scoped>\n",
       "    .dataframe tbody tr th:only-of-type {\n",
       "        vertical-align: middle;\n",
       "    }\n",
       "\n",
       "    .dataframe tbody tr th {\n",
       "        vertical-align: top;\n",
       "    }\n",
       "\n",
       "    .dataframe thead th {\n",
       "        text-align: right;\n",
       "    }\n",
       "</style>\n",
       "<table border=\"1\" class=\"dataframe\">\n",
       "  <thead>\n",
       "    <tr style=\"text-align: right;\">\n",
       "      <th></th>\n",
       "      <th>backers_count</th>\n",
       "      <th>blurb</th>\n",
       "      <th>category</th>\n",
       "      <th>country_displayable_name</th>\n",
       "      <th>deadline</th>\n",
       "      <th>goal</th>\n",
       "      <th>launched_at</th>\n",
       "      <th>name</th>\n",
       "      <th>pledged</th>\n",
       "      <th>slug</th>\n",
       "      <th>staff_pick</th>\n",
       "      <th>state</th>\n",
       "      <th>launched_year</th>\n",
       "      <th>launched_month</th>\n",
       "      <th>campaign_length</th>\n",
       "      <th>category_type</th>\n",
       "      <th>blurb_length</th>\n",
       "      <th>id</th>\n",
       "      <th>url</th>\n",
       "      <th>comments</th>\n",
       "      <th>have_comments</th>\n",
       "    </tr>\n",
       "  </thead>\n",
       "  <tbody>\n",
       "    <tr>\n",
       "      <th>0</th>\n",
       "      <td>5</td>\n",
       "      <td>A Free to Win Online Mobile Strategy Game to e...</td>\n",
       "      <td>{\"id\":272,\"name\":\"Mobile Games\",\"slug\":\"games/...</td>\n",
       "      <td>Canada</td>\n",
       "      <td>2017-10-09 14:41:03</td>\n",
       "      <td>1000.0</td>\n",
       "      <td>2017-09-25 14:41:03</td>\n",
       "      <td>Iron Age Kingdoms - First Free To Win Mobile S...</td>\n",
       "      <td>105.0</td>\n",
       "      <td>iron-age-kingdoms-first-free-to-win-mobile-str...</td>\n",
       "      <td>False</td>\n",
       "      <td>failed</td>\n",
       "      <td>2017</td>\n",
       "      <td>9</td>\n",
       "      <td>14</td>\n",
       "      <td>games</td>\n",
       "      <td>24</td>\n",
       "      <td>7.514194e+08</td>\n",
       "      <td>https://www.kickstarter.com/projects/117862918...</td>\n",
       "      <td>[]</td>\n",
       "      <td>0.0</td>\n",
       "    </tr>\n",
       "    <tr>\n",
       "      <th>1</th>\n",
       "      <td>19</td>\n",
       "      <td>Lizard is a dark comedy and modern western, th...</td>\n",
       "      <td>{\"id\":11,\"name\":\"Film &amp; Video\",\"slug\":\"film &amp; ...</td>\n",
       "      <td>the United States</td>\n",
       "      <td>2019-09-21 23:39:48</td>\n",
       "      <td>1100.0</td>\n",
       "      <td>2019-07-23 23:39:48</td>\n",
       "      <td>\"Lizard\" a short film</td>\n",
       "      <td>2358.0</td>\n",
       "      <td>lizard-a-short-film</td>\n",
       "      <td>False</td>\n",
       "      <td>successful</td>\n",
       "      <td>2019</td>\n",
       "      <td>7</td>\n",
       "      <td>60</td>\n",
       "      <td>film &amp; video</td>\n",
       "      <td>15</td>\n",
       "      <td>2.899525e+08</td>\n",
       "      <td>https://www.kickstarter.com/projects/lizardsho...</td>\n",
       "      <td>[]</td>\n",
       "      <td>0.0</td>\n",
       "    </tr>\n",
       "    <tr>\n",
       "      <th>2</th>\n",
       "      <td>5</td>\n",
       "      <td>My friend and I are making an app that has nev...</td>\n",
       "      <td>{\"id\":272,\"name\":\"Mobile Games\",\"slug\":\"games/...</td>\n",
       "      <td>the United States</td>\n",
       "      <td>2016-03-22 21:11:17</td>\n",
       "      <td>25000.0</td>\n",
       "      <td>2016-01-22 22:11:17</td>\n",
       "      <td>Total Franchise Football 2016</td>\n",
       "      <td>172.0</td>\n",
       "      <td>total-franchise-football-2016</td>\n",
       "      <td>False</td>\n",
       "      <td>failed</td>\n",
       "      <td>2016</td>\n",
       "      <td>1</td>\n",
       "      <td>60</td>\n",
       "      <td>games</td>\n",
       "      <td>25</td>\n",
       "      <td>3.758583e+07</td>\n",
       "      <td>https://www.kickstarter.com/projects/184368767...</td>\n",
       "      <td>[]</td>\n",
       "      <td>0.0</td>\n",
       "    </tr>\n",
       "    <tr>\n",
       "      <th>3</th>\n",
       "      <td>23</td>\n",
       "      <td>More than a bike trip, a state of mind. And a ...</td>\n",
       "      <td>{\"id\":48,\"name\":\"Nonfiction\",\"slug\":\"publishin...</td>\n",
       "      <td>the United States</td>\n",
       "      <td>2012-09-25 02:33:06</td>\n",
       "      <td>500.0</td>\n",
       "      <td>2012-09-15 02:33:06</td>\n",
       "      <td>The Trans-American Psychogeographic Literary C...</td>\n",
       "      <td>501.0</td>\n",
       "      <td>the-trans-american-psychogeographic-literary-c...</td>\n",
       "      <td>False</td>\n",
       "      <td>successful</td>\n",
       "      <td>2012</td>\n",
       "      <td>9</td>\n",
       "      <td>10</td>\n",
       "      <td>publishing</td>\n",
       "      <td>12</td>\n",
       "      <td>1.727302e+09</td>\n",
       "      <td>https://www.kickstarter.com/projects/376746530...</td>\n",
       "      <td>[]</td>\n",
       "      <td>0.0</td>\n",
       "    </tr>\n",
       "    <tr>\n",
       "      <th>4</th>\n",
       "      <td>0</td>\n",
       "      <td>This is the birth of a revolutionary artist......</td>\n",
       "      <td>{\"id\":39,\"name\":\"Hip-Hop\",\"slug\":\"music/hip-ho...</td>\n",
       "      <td>the United States</td>\n",
       "      <td>2017-12-11 02:43:11</td>\n",
       "      <td>2500.0</td>\n",
       "      <td>2017-11-10 02:43:11</td>\n",
       "      <td>The Golden Ticket to the Wonka Factory</td>\n",
       "      <td>0.0</td>\n",
       "      <td>the-golden-ticket-to-the-wonka-factory</td>\n",
       "      <td>False</td>\n",
       "      <td>failed</td>\n",
       "      <td>2017</td>\n",
       "      <td>11</td>\n",
       "      <td>31</td>\n",
       "      <td>music</td>\n",
       "      <td>23</td>\n",
       "      <td>1.441964e+08</td>\n",
       "      <td>https://www.kickstarter.com/projects/116371417...</td>\n",
       "      <td>[]</td>\n",
       "      <td>0.0</td>\n",
       "    </tr>\n",
       "  </tbody>\n",
       "</table>\n",
       "</div>"
      ],
      "text/plain": [
       "   backers_count                                              blurb  \\\n",
       "0              5  A Free to Win Online Mobile Strategy Game to e...   \n",
       "1             19  Lizard is a dark comedy and modern western, th...   \n",
       "2              5  My friend and I are making an app that has nev...   \n",
       "3             23  More than a bike trip, a state of mind. And a ...   \n",
       "4              0  This is the birth of a revolutionary artist......   \n",
       "\n",
       "                                            category country_displayable_name  \\\n",
       "0  {\"id\":272,\"name\":\"Mobile Games\",\"slug\":\"games/...                   Canada   \n",
       "1  {\"id\":11,\"name\":\"Film & Video\",\"slug\":\"film & ...        the United States   \n",
       "2  {\"id\":272,\"name\":\"Mobile Games\",\"slug\":\"games/...        the United States   \n",
       "3  {\"id\":48,\"name\":\"Nonfiction\",\"slug\":\"publishin...        the United States   \n",
       "4  {\"id\":39,\"name\":\"Hip-Hop\",\"slug\":\"music/hip-ho...        the United States   \n",
       "\n",
       "              deadline     goal          launched_at  \\\n",
       "0  2017-10-09 14:41:03   1000.0  2017-09-25 14:41:03   \n",
       "1  2019-09-21 23:39:48   1100.0  2019-07-23 23:39:48   \n",
       "2  2016-03-22 21:11:17  25000.0  2016-01-22 22:11:17   \n",
       "3  2012-09-25 02:33:06    500.0  2012-09-15 02:33:06   \n",
       "4  2017-12-11 02:43:11   2500.0  2017-11-10 02:43:11   \n",
       "\n",
       "                                                name  pledged  \\\n",
       "0  Iron Age Kingdoms - First Free To Win Mobile S...    105.0   \n",
       "1                              \"Lizard\" a short film   2358.0   \n",
       "2                      Total Franchise Football 2016    172.0   \n",
       "3  The Trans-American Psychogeographic Literary C...    501.0   \n",
       "4             The Golden Ticket to the Wonka Factory      0.0   \n",
       "\n",
       "                                                slug  staff_pick       state  \\\n",
       "0  iron-age-kingdoms-first-free-to-win-mobile-str...       False      failed   \n",
       "1                                lizard-a-short-film       False  successful   \n",
       "2                      total-franchise-football-2016       False      failed   \n",
       "3  the-trans-american-psychogeographic-literary-c...       False  successful   \n",
       "4             the-golden-ticket-to-the-wonka-factory       False      failed   \n",
       "\n",
       "   launched_year  launched_month  campaign_length category_type  blurb_length  \\\n",
       "0           2017               9               14         games            24   \n",
       "1           2019               7               60  film & video            15   \n",
       "2           2016               1               60         games            25   \n",
       "3           2012               9               10    publishing            12   \n",
       "4           2017              11               31         music            23   \n",
       "\n",
       "             id                                                url comments  \\\n",
       "0  7.514194e+08  https://www.kickstarter.com/projects/117862918...       []   \n",
       "1  2.899525e+08  https://www.kickstarter.com/projects/lizardsho...       []   \n",
       "2  3.758583e+07  https://www.kickstarter.com/projects/184368767...       []   \n",
       "3  1.727302e+09  https://www.kickstarter.com/projects/376746530...       []   \n",
       "4  1.441964e+08  https://www.kickstarter.com/projects/116371417...       []   \n",
       "\n",
       "   have_comments  \n",
       "0            0.0  \n",
       "1            0.0  \n",
       "2            0.0  \n",
       "3            0.0  \n",
       "4            0.0  "
      ]
     },
     "execution_count": 37,
     "metadata": {},
     "output_type": "execute_result"
    }
   ],
   "source": [
    "df_full.head()"
   ]
  },
  {
   "cell_type": "code",
   "execution_count": 38,
   "metadata": {},
   "outputs": [
    {
     "data": {
      "text/plain": [
       "0.0    10185\n",
       "1.0     7581\n",
       "Name: have_comments, dtype: int64"
      ]
     },
     "execution_count": 38,
     "metadata": {},
     "output_type": "execute_result"
    }
   ],
   "source": [
    "df_full['have_comments'].value_counts()"
   ]
  },
  {
   "cell_type": "code",
   "execution_count": 39,
   "metadata": {},
   "outputs": [],
   "source": [
    "cols_to_convert = ['deadline', 'launched_at']\n",
    "for c in cols_to_convert:\n",
    "    df[c] = pd.to_datetime(df[c])"
   ]
  },
  {
   "cell_type": "code",
   "execution_count": 40,
   "metadata": {},
   "outputs": [],
   "source": [
    "cols_to_convert = ['deadline', 'launched_at']\n",
    "for c in cols_to_convert:\n",
    "    df_full[c] = pd.to_datetime(df_full[c])"
   ]
  },
  {
   "cell_type": "code",
   "execution_count": 41,
   "metadata": {},
   "outputs": [],
   "source": [
    "df['mid_campaign'] = df['launched_at'] + pd.DateOffset(15)\n",
    "df['mid_campaign'] = df['mid_campaign'].dt.round('d')\n",
    "df['dates'] = df['dates'].map(lambda x: x.split(\"',\"))\n",
    "df['comment_length'] = df['dates'].map(lambda x: len(x))"
   ]
  },
  {
   "cell_type": "code",
   "execution_count": 42,
   "metadata": {},
   "outputs": [],
   "source": [
    "df_full['mid_campaign'] = df_full['launched_at'] + pd.DateOffset(15)\n",
    "df_full['mid_campaign'] = df_full['mid_campaign'].dt.round('d')\n"
   ]
  },
  {
   "cell_type": "code",
   "execution_count": 43,
   "metadata": {},
   "outputs": [],
   "source": [
    "def country_cat(x):\n",
    "    country_list = ['the United States', 'the United Kingdom ', 'Canada', 'Australia',\n",
    "                   'Germany', 'France', 'Mexico', 'Italy', 'Spain', 'the Netherlands']\n",
    "    for country in x:\n",
    "        if country in country_list:\n",
    "            return country\n",
    "        else:\n",
    "            return 'other'"
   ]
  },
  {
   "cell_type": "code",
   "execution_count": 44,
   "metadata": {},
   "outputs": [],
   "source": [
    "def extract(cat):\n",
    "    x = ast.literal_eval(re.search('({.+})', cat).group(0))\n",
    "    if 'parent_name' not in x.keys():\n",
    "        return x['slug']\n",
    "    else:\n",
    "        return x['parent_name'].lower()"
   ]
  },
  {
   "cell_type": "code",
   "execution_count": 45,
   "metadata": {},
   "outputs": [],
   "source": [
    "df['country_name'] = df['country_displayable_name'].map(lambda x: country_cat([x]))\n",
    "df_full['country_name'] = df_full['country_displayable_name'].map(lambda x: country_cat([x]))"
   ]
  },
  {
   "cell_type": "code",
   "execution_count": 46,
   "metadata": {},
   "outputs": [],
   "source": [
    "df['category_type'] = df['category'].map(lambda x: extract(x))\n",
    "df = df[df['state'].isin(['successful', 'failed'])]"
   ]
  },
  {
   "cell_type": "code",
   "execution_count": 47,
   "metadata": {},
   "outputs": [],
   "source": [
    "df_full['category_type'] = df_full['category'].map(lambda x: extract(x))\n",
    "df_full = df_full[df_full['state'].isin(['successful', 'failed'])]"
   ]
  },
  {
   "cell_type": "code",
   "execution_count": 48,
   "metadata": {
    "scrolled": true
   },
   "outputs": [
    {
     "data": {
      "text/html": [
       "<div>\n",
       "<style scoped>\n",
       "    .dataframe tbody tr th:only-of-type {\n",
       "        vertical-align: middle;\n",
       "    }\n",
       "\n",
       "    .dataframe tbody tr th {\n",
       "        vertical-align: top;\n",
       "    }\n",
       "\n",
       "    .dataframe thead th {\n",
       "        text-align: right;\n",
       "    }\n",
       "</style>\n",
       "<table border=\"1\" class=\"dataframe\">\n",
       "  <thead>\n",
       "    <tr style=\"text-align: right;\">\n",
       "      <th></th>\n",
       "      <th>backers_count</th>\n",
       "      <th>blurb</th>\n",
       "      <th>category</th>\n",
       "      <th>country_displayable_name</th>\n",
       "      <th>deadline</th>\n",
       "      <th>goal</th>\n",
       "      <th>launched_at</th>\n",
       "      <th>name</th>\n",
       "      <th>pledged</th>\n",
       "      <th>slug</th>\n",
       "      <th>staff_pick</th>\n",
       "      <th>state</th>\n",
       "      <th>launched_year</th>\n",
       "      <th>launched_month</th>\n",
       "      <th>campaign_length</th>\n",
       "      <th>category_type</th>\n",
       "      <th>blurb_length</th>\n",
       "      <th>id</th>\n",
       "      <th>url</th>\n",
       "      <th>comments</th>\n",
       "      <th>have_comments</th>\n",
       "      <th>mid_campaign</th>\n",
       "      <th>country_name</th>\n",
       "    </tr>\n",
       "  </thead>\n",
       "  <tbody>\n",
       "    <tr>\n",
       "      <th>0</th>\n",
       "      <td>5</td>\n",
       "      <td>A Free to Win Online Mobile Strategy Game to e...</td>\n",
       "      <td>{\"id\":272,\"name\":\"Mobile Games\",\"slug\":\"games/...</td>\n",
       "      <td>Canada</td>\n",
       "      <td>2017-10-09 14:41:03</td>\n",
       "      <td>1000.0</td>\n",
       "      <td>2017-09-25 14:41:03</td>\n",
       "      <td>Iron Age Kingdoms - First Free To Win Mobile S...</td>\n",
       "      <td>105.0</td>\n",
       "      <td>iron-age-kingdoms-first-free-to-win-mobile-str...</td>\n",
       "      <td>False</td>\n",
       "      <td>failed</td>\n",
       "      <td>2017</td>\n",
       "      <td>9</td>\n",
       "      <td>14</td>\n",
       "      <td>games</td>\n",
       "      <td>24</td>\n",
       "      <td>7.514194e+08</td>\n",
       "      <td>https://www.kickstarter.com/projects/117862918...</td>\n",
       "      <td>[]</td>\n",
       "      <td>0.0</td>\n",
       "      <td>2017-10-11</td>\n",
       "      <td>Canada</td>\n",
       "    </tr>\n",
       "    <tr>\n",
       "      <th>1</th>\n",
       "      <td>19</td>\n",
       "      <td>Lizard is a dark comedy and modern western, th...</td>\n",
       "      <td>{\"id\":11,\"name\":\"Film &amp; Video\",\"slug\":\"film &amp; ...</td>\n",
       "      <td>the United States</td>\n",
       "      <td>2019-09-21 23:39:48</td>\n",
       "      <td>1100.0</td>\n",
       "      <td>2019-07-23 23:39:48</td>\n",
       "      <td>\"Lizard\" a short film</td>\n",
       "      <td>2358.0</td>\n",
       "      <td>lizard-a-short-film</td>\n",
       "      <td>False</td>\n",
       "      <td>successful</td>\n",
       "      <td>2019</td>\n",
       "      <td>7</td>\n",
       "      <td>60</td>\n",
       "      <td>film &amp; video</td>\n",
       "      <td>15</td>\n",
       "      <td>2.899525e+08</td>\n",
       "      <td>https://www.kickstarter.com/projects/lizardsho...</td>\n",
       "      <td>[]</td>\n",
       "      <td>0.0</td>\n",
       "      <td>2019-08-08</td>\n",
       "      <td>the United States</td>\n",
       "    </tr>\n",
       "    <tr>\n",
       "      <th>2</th>\n",
       "      <td>5</td>\n",
       "      <td>My friend and I are making an app that has nev...</td>\n",
       "      <td>{\"id\":272,\"name\":\"Mobile Games\",\"slug\":\"games/...</td>\n",
       "      <td>the United States</td>\n",
       "      <td>2016-03-22 21:11:17</td>\n",
       "      <td>25000.0</td>\n",
       "      <td>2016-01-22 22:11:17</td>\n",
       "      <td>Total Franchise Football 2016</td>\n",
       "      <td>172.0</td>\n",
       "      <td>total-franchise-football-2016</td>\n",
       "      <td>False</td>\n",
       "      <td>failed</td>\n",
       "      <td>2016</td>\n",
       "      <td>1</td>\n",
       "      <td>60</td>\n",
       "      <td>games</td>\n",
       "      <td>25</td>\n",
       "      <td>3.758583e+07</td>\n",
       "      <td>https://www.kickstarter.com/projects/184368767...</td>\n",
       "      <td>[]</td>\n",
       "      <td>0.0</td>\n",
       "      <td>2016-02-07</td>\n",
       "      <td>the United States</td>\n",
       "    </tr>\n",
       "    <tr>\n",
       "      <th>3</th>\n",
       "      <td>23</td>\n",
       "      <td>More than a bike trip, a state of mind. And a ...</td>\n",
       "      <td>{\"id\":48,\"name\":\"Nonfiction\",\"slug\":\"publishin...</td>\n",
       "      <td>the United States</td>\n",
       "      <td>2012-09-25 02:33:06</td>\n",
       "      <td>500.0</td>\n",
       "      <td>2012-09-15 02:33:06</td>\n",
       "      <td>The Trans-American Psychogeographic Literary C...</td>\n",
       "      <td>501.0</td>\n",
       "      <td>the-trans-american-psychogeographic-literary-c...</td>\n",
       "      <td>False</td>\n",
       "      <td>successful</td>\n",
       "      <td>2012</td>\n",
       "      <td>9</td>\n",
       "      <td>10</td>\n",
       "      <td>publishing</td>\n",
       "      <td>12</td>\n",
       "      <td>1.727302e+09</td>\n",
       "      <td>https://www.kickstarter.com/projects/376746530...</td>\n",
       "      <td>[]</td>\n",
       "      <td>0.0</td>\n",
       "      <td>2012-09-30</td>\n",
       "      <td>the United States</td>\n",
       "    </tr>\n",
       "    <tr>\n",
       "      <th>4</th>\n",
       "      <td>0</td>\n",
       "      <td>This is the birth of a revolutionary artist......</td>\n",
       "      <td>{\"id\":39,\"name\":\"Hip-Hop\",\"slug\":\"music/hip-ho...</td>\n",
       "      <td>the United States</td>\n",
       "      <td>2017-12-11 02:43:11</td>\n",
       "      <td>2500.0</td>\n",
       "      <td>2017-11-10 02:43:11</td>\n",
       "      <td>The Golden Ticket to the Wonka Factory</td>\n",
       "      <td>0.0</td>\n",
       "      <td>the-golden-ticket-to-the-wonka-factory</td>\n",
       "      <td>False</td>\n",
       "      <td>failed</td>\n",
       "      <td>2017</td>\n",
       "      <td>11</td>\n",
       "      <td>31</td>\n",
       "      <td>music</td>\n",
       "      <td>23</td>\n",
       "      <td>1.441964e+08</td>\n",
       "      <td>https://www.kickstarter.com/projects/116371417...</td>\n",
       "      <td>[]</td>\n",
       "      <td>0.0</td>\n",
       "      <td>2017-11-25</td>\n",
       "      <td>the United States</td>\n",
       "    </tr>\n",
       "  </tbody>\n",
       "</table>\n",
       "</div>"
      ],
      "text/plain": [
       "   backers_count                                              blurb  \\\n",
       "0              5  A Free to Win Online Mobile Strategy Game to e...   \n",
       "1             19  Lizard is a dark comedy and modern western, th...   \n",
       "2              5  My friend and I are making an app that has nev...   \n",
       "3             23  More than a bike trip, a state of mind. And a ...   \n",
       "4              0  This is the birth of a revolutionary artist......   \n",
       "\n",
       "                                            category country_displayable_name  \\\n",
       "0  {\"id\":272,\"name\":\"Mobile Games\",\"slug\":\"games/...                   Canada   \n",
       "1  {\"id\":11,\"name\":\"Film & Video\",\"slug\":\"film & ...        the United States   \n",
       "2  {\"id\":272,\"name\":\"Mobile Games\",\"slug\":\"games/...        the United States   \n",
       "3  {\"id\":48,\"name\":\"Nonfiction\",\"slug\":\"publishin...        the United States   \n",
       "4  {\"id\":39,\"name\":\"Hip-Hop\",\"slug\":\"music/hip-ho...        the United States   \n",
       "\n",
       "             deadline     goal         launched_at  \\\n",
       "0 2017-10-09 14:41:03   1000.0 2017-09-25 14:41:03   \n",
       "1 2019-09-21 23:39:48   1100.0 2019-07-23 23:39:48   \n",
       "2 2016-03-22 21:11:17  25000.0 2016-01-22 22:11:17   \n",
       "3 2012-09-25 02:33:06    500.0 2012-09-15 02:33:06   \n",
       "4 2017-12-11 02:43:11   2500.0 2017-11-10 02:43:11   \n",
       "\n",
       "                                                name  pledged  \\\n",
       "0  Iron Age Kingdoms - First Free To Win Mobile S...    105.0   \n",
       "1                              \"Lizard\" a short film   2358.0   \n",
       "2                      Total Franchise Football 2016    172.0   \n",
       "3  The Trans-American Psychogeographic Literary C...    501.0   \n",
       "4             The Golden Ticket to the Wonka Factory      0.0   \n",
       "\n",
       "                                                slug  staff_pick       state  \\\n",
       "0  iron-age-kingdoms-first-free-to-win-mobile-str...       False      failed   \n",
       "1                                lizard-a-short-film       False  successful   \n",
       "2                      total-franchise-football-2016       False      failed   \n",
       "3  the-trans-american-psychogeographic-literary-c...       False  successful   \n",
       "4             the-golden-ticket-to-the-wonka-factory       False      failed   \n",
       "\n",
       "   launched_year  launched_month  campaign_length category_type  blurb_length  \\\n",
       "0           2017               9               14         games            24   \n",
       "1           2019               7               60  film & video            15   \n",
       "2           2016               1               60         games            25   \n",
       "3           2012               9               10    publishing            12   \n",
       "4           2017              11               31         music            23   \n",
       "\n",
       "             id                                                url comments  \\\n",
       "0  7.514194e+08  https://www.kickstarter.com/projects/117862918...       []   \n",
       "1  2.899525e+08  https://www.kickstarter.com/projects/lizardsho...       []   \n",
       "2  3.758583e+07  https://www.kickstarter.com/projects/184368767...       []   \n",
       "3  1.727302e+09  https://www.kickstarter.com/projects/376746530...       []   \n",
       "4  1.441964e+08  https://www.kickstarter.com/projects/116371417...       []   \n",
       "\n",
       "   have_comments mid_campaign       country_name  \n",
       "0            0.0   2017-10-11             Canada  \n",
       "1            0.0   2019-08-08  the United States  \n",
       "2            0.0   2016-02-07  the United States  \n",
       "3            0.0   2012-09-30  the United States  \n",
       "4            0.0   2017-11-25  the United States  "
      ]
     },
     "execution_count": 48,
     "metadata": {},
     "output_type": "execute_result"
    }
   ],
   "source": [
    "df_full.head()"
   ]
  },
  {
   "cell_type": "code",
   "execution_count": 49,
   "metadata": {},
   "outputs": [
    {
     "data": {
      "text/plain": [
       "[\"['May 30, 2012 3:37 PM PDT\",\n",
       " \" 'May 14, 2012 2:46 PM PDT\",\n",
       " \" 'May 12, 2012 9:48 AM PDT\",\n",
       " \" 'May 7, 2012 8:00 PM PDT']\"]"
      ]
     },
     "execution_count": 49,
     "metadata": {},
     "output_type": "execute_result"
    }
   ],
   "source": [
    "df['dates'][2]"
   ]
  },
  {
   "cell_type": "code",
   "execution_count": 50,
   "metadata": {},
   "outputs": [],
   "source": [
    "def to_date(x):\n",
    "    lst = []\n",
    "    for i in x:\n",
    "        i = i.replace(\"[\", '').replace(\"]\", '')\n",
    "        d = pd.to_datetime(i[:-4])\n",
    "        lst.append(d)\n",
    "    return lst"
   ]
  },
  {
   "cell_type": "code",
   "execution_count": 51,
   "metadata": {},
   "outputs": [],
   "source": [
    "df['dates'] = df['dates'].map(lambda x: to_date(x))"
   ]
  },
  {
   "cell_type": "code",
   "execution_count": 52,
   "metadata": {},
   "outputs": [],
   "source": [
    "def date_subtract(df):\n",
    "    lst = []\n",
    "    for index, row in df.iterrows():\n",
    "        row_lst =[]\n",
    "        r = row['dates']\n",
    "        for i in r:\n",
    "            if i < row['mid_campaign']:\n",
    "                row_lst.append(i)\n",
    "        lst.append(row_lst)\n",
    "    return lst "
   ]
  },
  {
   "cell_type": "code",
   "execution_count": 53,
   "metadata": {},
   "outputs": [],
   "source": [
    "def real_comments(df):\n",
    "    lst = []\n",
    "    for index, row in df.iterrows():\n",
    "        r = eval(row['comments'])\n",
    "        a = row['pre_mid_campaign_dates_length']\n",
    "        if a > 0:\n",
    "            lst.append(r[-a:])\n",
    "        else:\n",
    "            lst.append([])\n",
    "    return lst\n",
    "\n",
    "\n",
    "# eval(df['comments'][2])[-3:]"
   ]
  },
  {
   "cell_type": "code",
   "execution_count": 122,
   "metadata": {},
   "outputs": [],
   "source": [
    "def have_comments(x):\n",
    "    if x > 0:\n",
    "        return 1\n",
    "    else:\n",
    "        return 0"
   ]
  },
  {
   "cell_type": "code",
   "execution_count": 123,
   "metadata": {},
   "outputs": [],
   "source": [
    "df['pre_mid_campaign_dates'] = date_subtract(df)\n",
    "df['pre_mid_campaign_dates_length'] = df['pre_mid_campaign_dates'].apply(lambda x: len(x))\n",
    "df['have_comments'] = df['pre_mid_campaign_dates_length'].apply(lambda x: have_comments(x))"
   ]
  },
  {
   "cell_type": "code",
   "execution_count": 124,
   "metadata": {},
   "outputs": [],
   "source": [
    "df['pre_mid_campaign_comments'] = real_comments(df)"
   ]
  },
  {
   "cell_type": "code",
   "execution_count": 125,
   "metadata": {},
   "outputs": [
    {
     "data": {
      "text/html": [
       "<div>\n",
       "<style scoped>\n",
       "    .dataframe tbody tr th:only-of-type {\n",
       "        vertical-align: middle;\n",
       "    }\n",
       "\n",
       "    .dataframe tbody tr th {\n",
       "        vertical-align: top;\n",
       "    }\n",
       "\n",
       "    .dataframe thead th {\n",
       "        text-align: right;\n",
       "    }\n",
       "</style>\n",
       "<table border=\"1\" class=\"dataframe\">\n",
       "  <thead>\n",
       "    <tr style=\"text-align: right;\">\n",
       "      <th></th>\n",
       "      <th>backers_count</th>\n",
       "      <th>blurb</th>\n",
       "      <th>category</th>\n",
       "      <th>country_displayable_name</th>\n",
       "      <th>deadline</th>\n",
       "      <th>goal</th>\n",
       "      <th>launched_at</th>\n",
       "      <th>name</th>\n",
       "      <th>pledged</th>\n",
       "      <th>slug</th>\n",
       "      <th>staff_pick</th>\n",
       "      <th>state</th>\n",
       "      <th>launched_year</th>\n",
       "      <th>launched_month</th>\n",
       "      <th>campaign_length</th>\n",
       "      <th>category_type</th>\n",
       "      <th>blurb_length</th>\n",
       "      <th>id</th>\n",
       "      <th>url</th>\n",
       "      <th>comments</th>\n",
       "      <th>have_comments</th>\n",
       "      <th>dates</th>\n",
       "      <th>mid_campaign</th>\n",
       "      <th>comment_length</th>\n",
       "      <th>country_name</th>\n",
       "      <th>pre_mid_campaign_dates</th>\n",
       "      <th>pre_mid_campaign_dates_length</th>\n",
       "      <th>pre_mid_campaign_comments</th>\n",
       "    </tr>\n",
       "  </thead>\n",
       "  <tbody>\n",
       "    <tr>\n",
       "      <th>0</th>\n",
       "      <td>152</td>\n",
       "      <td>A photography and poetry book featuring contem...</td>\n",
       "      <td>{\"id\":278,\"name\":\"People\",\"slug\":\"photography/...</td>\n",
       "      <td>the Netherlands</td>\n",
       "      <td>2017-05-28 17:00:00</td>\n",
       "      <td>15000.0</td>\n",
       "      <td>2017-05-03 16:57:18</td>\n",
       "      <td>Burma Storybook</td>\n",
       "      <td>15777.00</td>\n",
       "      <td>burma-storybook</td>\n",
       "      <td>True</td>\n",
       "      <td>successful</td>\n",
       "      <td>2017</td>\n",
       "      <td>5</td>\n",
       "      <td>25</td>\n",
       "      <td>photography</td>\n",
       "      <td>13</td>\n",
       "      <td>1769794304</td>\n",
       "      <td>https://www.kickstarter.com/projects/618155130...</td>\n",
       "      <td>['Oh! My! The book has arrived and I am speech...</td>\n",
       "      <td>0</td>\n",
       "      <td>[2017-06-30 10:52:00, 2017-05-26 03:53:00]</td>\n",
       "      <td>2017-05-19</td>\n",
       "      <td>2</td>\n",
       "      <td>the Netherlands</td>\n",
       "      <td>[]</td>\n",
       "      <td>0</td>\n",
       "      <td>[]</td>\n",
       "    </tr>\n",
       "    <tr>\n",
       "      <th>1</th>\n",
       "      <td>116</td>\n",
       "      <td>100 sumie ink originals by David Mack on top o...</td>\n",
       "      <td>{\"id\":276,\"name\":\"Fine Art\",\"slug\":\"photograph...</td>\n",
       "      <td>the United States</td>\n",
       "      <td>2018-07-29 21:05:01</td>\n",
       "      <td>8000.0</td>\n",
       "      <td>2018-06-29 21:05:01</td>\n",
       "      <td>The Alchemy of Collaboration</td>\n",
       "      <td>16706.00</td>\n",
       "      <td>the-alchemy-of-collaboration</td>\n",
       "      <td>False</td>\n",
       "      <td>successful</td>\n",
       "      <td>2018</td>\n",
       "      <td>6</td>\n",
       "      <td>30</td>\n",
       "      <td>photography</td>\n",
       "      <td>21</td>\n",
       "      <td>526305087</td>\n",
       "      <td>https://www.kickstarter.com/projects/punchgrap...</td>\n",
       "      <td>[\"I know you read the messages. I've been chas...</td>\n",
       "      <td>0</td>\n",
       "      <td>[2020-06-01 10:55:00, 2020-05-21 09:46:00, 202...</td>\n",
       "      <td>2018-07-15</td>\n",
       "      <td>21</td>\n",
       "      <td>the United States</td>\n",
       "      <td>[]</td>\n",
       "      <td>0</td>\n",
       "      <td>[]</td>\n",
       "    </tr>\n",
       "    <tr>\n",
       "      <th>2</th>\n",
       "      <td>50</td>\n",
       "      <td>8 artists explore the collision of art, the en...</td>\n",
       "      <td>{\"id\":54,\"name\":\"Mixed Media\",\"slug\":\"art/mixe...</td>\n",
       "      <td>the United States</td>\n",
       "      <td>2012-06-04 03:59:00</td>\n",
       "      <td>3300.0</td>\n",
       "      <td>2012-05-03 12:13:56</td>\n",
       "      <td>Frack This? - The Wyoming Artist Expedition</td>\n",
       "      <td>3805.00</td>\n",
       "      <td>frack-this-the-wyoming-artist-expedition</td>\n",
       "      <td>False</td>\n",
       "      <td>successful</td>\n",
       "      <td>2012</td>\n",
       "      <td>5</td>\n",
       "      <td>32</td>\n",
       "      <td>art</td>\n",
       "      <td>16</td>\n",
       "      <td>1103726466</td>\n",
       "      <td>https://www.kickstarter.com/projects/331530956...</td>\n",
       "      <td>['To the Artists:', 'I encourage each artist t...</td>\n",
       "      <td>1</td>\n",
       "      <td>[2012-05-30 15:37:00, 2012-05-14 14:46:00, 201...</td>\n",
       "      <td>2012-05-19</td>\n",
       "      <td>4</td>\n",
       "      <td>the United States</td>\n",
       "      <td>[2012-05-14 14:46:00, 2012-05-12 09:48:00, 201...</td>\n",
       "      <td>3</td>\n",
       "      <td>[Lori, the kids will want you and Uncle Michae...</td>\n",
       "    </tr>\n",
       "    <tr>\n",
       "      <th>3</th>\n",
       "      <td>8</td>\n",
       "      <td>Cookietownworld is an interactive website desi...</td>\n",
       "      <td>{\"id\":272,\"name\":\"Mobile Games\",\"slug\":\"games/...</td>\n",
       "      <td>the United States</td>\n",
       "      <td>2016-08-07 16:15:57</td>\n",
       "      <td>95000.0</td>\n",
       "      <td>2016-06-08 16:15:57</td>\n",
       "      <td>Cookietownworld</td>\n",
       "      <td>3229.00</td>\n",
       "      <td>cookietownworld</td>\n",
       "      <td>False</td>\n",
       "      <td>failed</td>\n",
       "      <td>2016</td>\n",
       "      <td>6</td>\n",
       "      <td>60</td>\n",
       "      <td>games</td>\n",
       "      <td>13</td>\n",
       "      <td>2045995373</td>\n",
       "      <td>https://www.kickstarter.com/projects/cookietow...</td>\n",
       "      <td>['I think Cookietownworld is an awesome idea. ...</td>\n",
       "      <td>1</td>\n",
       "      <td>[2016-06-23 08:55:00]</td>\n",
       "      <td>2016-06-24</td>\n",
       "      <td>1</td>\n",
       "      <td>the United States</td>\n",
       "      <td>[2016-06-23 08:55:00]</td>\n",
       "      <td>1</td>\n",
       "      <td>[I think Cookietownworld is an awesome idea. I...</td>\n",
       "    </tr>\n",
       "    <tr>\n",
       "      <th>4</th>\n",
       "      <td>59</td>\n",
       "      <td>Explore a magical world full of monsters and d...</td>\n",
       "      <td>{\"id\":272,\"name\":\"Mobile Games\",\"slug\":\"games/...</td>\n",
       "      <td>Spain</td>\n",
       "      <td>2017-12-22 20:25:20</td>\n",
       "      <td>15000.0</td>\n",
       "      <td>2017-11-22 20:25:20</td>\n",
       "      <td>Dunpets Colors: Monster-catching RPG</td>\n",
       "      <td>4310.75</td>\n",
       "      <td>dunpets-colors-dungeon-crawl-and-pets</td>\n",
       "      <td>True</td>\n",
       "      <td>failed</td>\n",
       "      <td>2017</td>\n",
       "      <td>11</td>\n",
       "      <td>30</td>\n",
       "      <td>games</td>\n",
       "      <td>22</td>\n",
       "      <td>1228292914</td>\n",
       "      <td>https://www.kickstarter.com/projects/gugamesde...</td>\n",
       "      <td>['Any updates about the premier? :)', 'Any pro...</td>\n",
       "      <td>1</td>\n",
       "      <td>[2018-04-17 18:49:00, 2018-01-22 01:59:00, 201...</td>\n",
       "      <td>2017-12-08</td>\n",
       "      <td>18</td>\n",
       "      <td>Spain</td>\n",
       "      <td>[2017-12-03 12:14:00, 2017-12-03 07:10:00, 201...</td>\n",
       "      <td>11</td>\n",
       "      <td>[Any progress update on the premiere?, Sorry t...</td>\n",
       "    </tr>\n",
       "  </tbody>\n",
       "</table>\n",
       "</div>"
      ],
      "text/plain": [
       "   backers_count                                              blurb  \\\n",
       "0            152  A photography and poetry book featuring contem...   \n",
       "1            116  100 sumie ink originals by David Mack on top o...   \n",
       "2             50  8 artists explore the collision of art, the en...   \n",
       "3              8  Cookietownworld is an interactive website desi...   \n",
       "4             59  Explore a magical world full of monsters and d...   \n",
       "\n",
       "                                            category country_displayable_name  \\\n",
       "0  {\"id\":278,\"name\":\"People\",\"slug\":\"photography/...          the Netherlands   \n",
       "1  {\"id\":276,\"name\":\"Fine Art\",\"slug\":\"photograph...        the United States   \n",
       "2  {\"id\":54,\"name\":\"Mixed Media\",\"slug\":\"art/mixe...        the United States   \n",
       "3  {\"id\":272,\"name\":\"Mobile Games\",\"slug\":\"games/...        the United States   \n",
       "4  {\"id\":272,\"name\":\"Mobile Games\",\"slug\":\"games/...                    Spain   \n",
       "\n",
       "             deadline     goal         launched_at  \\\n",
       "0 2017-05-28 17:00:00  15000.0 2017-05-03 16:57:18   \n",
       "1 2018-07-29 21:05:01   8000.0 2018-06-29 21:05:01   \n",
       "2 2012-06-04 03:59:00   3300.0 2012-05-03 12:13:56   \n",
       "3 2016-08-07 16:15:57  95000.0 2016-06-08 16:15:57   \n",
       "4 2017-12-22 20:25:20  15000.0 2017-11-22 20:25:20   \n",
       "\n",
       "                                          name   pledged  \\\n",
       "0                              Burma Storybook  15777.00   \n",
       "1                 The Alchemy of Collaboration  16706.00   \n",
       "2  Frack This? - The Wyoming Artist Expedition   3805.00   \n",
       "3                              Cookietownworld   3229.00   \n",
       "4         Dunpets Colors: Monster-catching RPG   4310.75   \n",
       "\n",
       "                                       slug  staff_pick       state  \\\n",
       "0                           burma-storybook        True  successful   \n",
       "1              the-alchemy-of-collaboration       False  successful   \n",
       "2  frack-this-the-wyoming-artist-expedition       False  successful   \n",
       "3                           cookietownworld       False      failed   \n",
       "4     dunpets-colors-dungeon-crawl-and-pets        True      failed   \n",
       "\n",
       "   launched_year  launched_month  campaign_length category_type  blurb_length  \\\n",
       "0           2017               5               25   photography            13   \n",
       "1           2018               6               30   photography            21   \n",
       "2           2012               5               32           art            16   \n",
       "3           2016               6               60         games            13   \n",
       "4           2017              11               30         games            22   \n",
       "\n",
       "           id                                                url  \\\n",
       "0  1769794304  https://www.kickstarter.com/projects/618155130...   \n",
       "1   526305087  https://www.kickstarter.com/projects/punchgrap...   \n",
       "2  1103726466  https://www.kickstarter.com/projects/331530956...   \n",
       "3  2045995373  https://www.kickstarter.com/projects/cookietow...   \n",
       "4  1228292914  https://www.kickstarter.com/projects/gugamesde...   \n",
       "\n",
       "                                            comments  have_comments  \\\n",
       "0  ['Oh! My! The book has arrived and I am speech...              0   \n",
       "1  [\"I know you read the messages. I've been chas...              0   \n",
       "2  ['To the Artists:', 'I encourage each artist t...              1   \n",
       "3  ['I think Cookietownworld is an awesome idea. ...              1   \n",
       "4  ['Any updates about the premier? :)', 'Any pro...              1   \n",
       "\n",
       "                                               dates mid_campaign  \\\n",
       "0         [2017-06-30 10:52:00, 2017-05-26 03:53:00]   2017-05-19   \n",
       "1  [2020-06-01 10:55:00, 2020-05-21 09:46:00, 202...   2018-07-15   \n",
       "2  [2012-05-30 15:37:00, 2012-05-14 14:46:00, 201...   2012-05-19   \n",
       "3                              [2016-06-23 08:55:00]   2016-06-24   \n",
       "4  [2018-04-17 18:49:00, 2018-01-22 01:59:00, 201...   2017-12-08   \n",
       "\n",
       "   comment_length       country_name  \\\n",
       "0               2    the Netherlands   \n",
       "1              21  the United States   \n",
       "2               4  the United States   \n",
       "3               1  the United States   \n",
       "4              18              Spain   \n",
       "\n",
       "                              pre_mid_campaign_dates  \\\n",
       "0                                                 []   \n",
       "1                                                 []   \n",
       "2  [2012-05-14 14:46:00, 2012-05-12 09:48:00, 201...   \n",
       "3                              [2016-06-23 08:55:00]   \n",
       "4  [2017-12-03 12:14:00, 2017-12-03 07:10:00, 201...   \n",
       "\n",
       "   pre_mid_campaign_dates_length  \\\n",
       "0                              0   \n",
       "1                              0   \n",
       "2                              3   \n",
       "3                              1   \n",
       "4                             11   \n",
       "\n",
       "                           pre_mid_campaign_comments  \n",
       "0                                                 []  \n",
       "1                                                 []  \n",
       "2  [Lori, the kids will want you and Uncle Michae...  \n",
       "3  [I think Cookietownworld is an awesome idea. I...  \n",
       "4  [Any progress update on the premiere?, Sorry t...  "
      ]
     },
     "execution_count": 125,
     "metadata": {},
     "output_type": "execute_result"
    }
   ],
   "source": [
    "df.head()"
   ]
  },
  {
   "cell_type": "code",
   "execution_count": 126,
   "metadata": {},
   "outputs": [],
   "source": [
    "a = date_subtract(df)"
   ]
  },
  {
   "cell_type": "code",
   "execution_count": 127,
   "metadata": {},
   "outputs": [
    {
     "data": {
      "text/plain": [
       "4113"
      ]
     },
     "execution_count": 127,
     "metadata": {},
     "output_type": "execute_result"
    }
   ],
   "source": [
    "len(a)"
   ]
  },
  {
   "cell_type": "code",
   "execution_count": null,
   "metadata": {},
   "outputs": [],
   "source": [
    "df['pre_mid_campaign_dates'][2]"
   ]
  },
  {
   "cell_type": "code",
   "execution_count": null,
   "metadata": {},
   "outputs": [],
   "source": [
    "df['pre_mid_campaign_dates'][5]"
   ]
  },
  {
   "cell_type": "code",
   "execution_count": null,
   "metadata": {},
   "outputs": [],
   "source": [
    "df['dates'][4]"
   ]
  },
  {
   "cell_type": "code",
   "execution_count": null,
   "metadata": {},
   "outputs": [],
   "source": [
    "eval(df['comments'][2])[-3:]"
   ]
  },
  {
   "cell_type": "code",
   "execution_count": null,
   "metadata": {},
   "outputs": [],
   "source": [
    "eval(df['comments'][5])[-11:]"
   ]
  },
  {
   "cell_type": "code",
   "execution_count": null,
   "metadata": {},
   "outputs": [],
   "source": [
    "df['comments'][2]"
   ]
  },
  {
   "cell_type": "code",
   "execution_count": 122,
   "metadata": {},
   "outputs": [],
   "source": []
  },
  {
   "cell_type": "code",
   "execution_count": null,
   "metadata": {},
   "outputs": [],
   "source": []
  },
  {
   "cell_type": "markdown",
   "metadata": {},
   "source": [
    "## One Hot Encoding "
   ]
  },
  {
   "cell_type": "code",
   "execution_count": 128,
   "metadata": {},
   "outputs": [
    {
     "data": {
      "text/html": [
       "<div>\n",
       "<style scoped>\n",
       "    .dataframe tbody tr th:only-of-type {\n",
       "        vertical-align: middle;\n",
       "    }\n",
       "\n",
       "    .dataframe tbody tr th {\n",
       "        vertical-align: top;\n",
       "    }\n",
       "\n",
       "    .dataframe thead th {\n",
       "        text-align: right;\n",
       "    }\n",
       "</style>\n",
       "<table border=\"1\" class=\"dataframe\">\n",
       "  <thead>\n",
       "    <tr style=\"text-align: right;\">\n",
       "      <th></th>\n",
       "      <th>backers_count</th>\n",
       "      <th>blurb</th>\n",
       "      <th>category</th>\n",
       "      <th>country_displayable_name</th>\n",
       "      <th>deadline</th>\n",
       "      <th>goal</th>\n",
       "      <th>launched_at</th>\n",
       "      <th>name</th>\n",
       "      <th>pledged</th>\n",
       "      <th>slug</th>\n",
       "      <th>staff_pick</th>\n",
       "      <th>state</th>\n",
       "      <th>launched_year</th>\n",
       "      <th>launched_month</th>\n",
       "      <th>campaign_length</th>\n",
       "      <th>category_type</th>\n",
       "      <th>blurb_length</th>\n",
       "      <th>id</th>\n",
       "      <th>url</th>\n",
       "      <th>comments</th>\n",
       "      <th>have_comments</th>\n",
       "      <th>mid_campaign</th>\n",
       "      <th>country_name</th>\n",
       "    </tr>\n",
       "  </thead>\n",
       "  <tbody>\n",
       "    <tr>\n",
       "      <th>0</th>\n",
       "      <td>5</td>\n",
       "      <td>A Free to Win Online Mobile Strategy Game to e...</td>\n",
       "      <td>{\"id\":272,\"name\":\"Mobile Games\",\"slug\":\"games/...</td>\n",
       "      <td>Canada</td>\n",
       "      <td>2017-10-09 14:41:03</td>\n",
       "      <td>1000.0</td>\n",
       "      <td>2017-09-25 14:41:03</td>\n",
       "      <td>Iron Age Kingdoms - First Free To Win Mobile S...</td>\n",
       "      <td>105.0</td>\n",
       "      <td>iron-age-kingdoms-first-free-to-win-mobile-str...</td>\n",
       "      <td>False</td>\n",
       "      <td>failed</td>\n",
       "      <td>2017</td>\n",
       "      <td>9</td>\n",
       "      <td>14</td>\n",
       "      <td>games</td>\n",
       "      <td>24</td>\n",
       "      <td>7.514194e+08</td>\n",
       "      <td>https://www.kickstarter.com/projects/117862918...</td>\n",
       "      <td>[]</td>\n",
       "      <td>0.0</td>\n",
       "      <td>2017-10-11</td>\n",
       "      <td>Canada</td>\n",
       "    </tr>\n",
       "    <tr>\n",
       "      <th>1</th>\n",
       "      <td>19</td>\n",
       "      <td>Lizard is a dark comedy and modern western, th...</td>\n",
       "      <td>{\"id\":11,\"name\":\"Film &amp; Video\",\"slug\":\"film &amp; ...</td>\n",
       "      <td>the United States</td>\n",
       "      <td>2019-09-21 23:39:48</td>\n",
       "      <td>1100.0</td>\n",
       "      <td>2019-07-23 23:39:48</td>\n",
       "      <td>\"Lizard\" a short film</td>\n",
       "      <td>2358.0</td>\n",
       "      <td>lizard-a-short-film</td>\n",
       "      <td>False</td>\n",
       "      <td>successful</td>\n",
       "      <td>2019</td>\n",
       "      <td>7</td>\n",
       "      <td>60</td>\n",
       "      <td>film &amp; video</td>\n",
       "      <td>15</td>\n",
       "      <td>2.899525e+08</td>\n",
       "      <td>https://www.kickstarter.com/projects/lizardsho...</td>\n",
       "      <td>[]</td>\n",
       "      <td>0.0</td>\n",
       "      <td>2019-08-08</td>\n",
       "      <td>the United States</td>\n",
       "    </tr>\n",
       "    <tr>\n",
       "      <th>2</th>\n",
       "      <td>5</td>\n",
       "      <td>My friend and I are making an app that has nev...</td>\n",
       "      <td>{\"id\":272,\"name\":\"Mobile Games\",\"slug\":\"games/...</td>\n",
       "      <td>the United States</td>\n",
       "      <td>2016-03-22 21:11:17</td>\n",
       "      <td>25000.0</td>\n",
       "      <td>2016-01-22 22:11:17</td>\n",
       "      <td>Total Franchise Football 2016</td>\n",
       "      <td>172.0</td>\n",
       "      <td>total-franchise-football-2016</td>\n",
       "      <td>False</td>\n",
       "      <td>failed</td>\n",
       "      <td>2016</td>\n",
       "      <td>1</td>\n",
       "      <td>60</td>\n",
       "      <td>games</td>\n",
       "      <td>25</td>\n",
       "      <td>3.758583e+07</td>\n",
       "      <td>https://www.kickstarter.com/projects/184368767...</td>\n",
       "      <td>[]</td>\n",
       "      <td>0.0</td>\n",
       "      <td>2016-02-07</td>\n",
       "      <td>the United States</td>\n",
       "    </tr>\n",
       "    <tr>\n",
       "      <th>3</th>\n",
       "      <td>23</td>\n",
       "      <td>More than a bike trip, a state of mind. And a ...</td>\n",
       "      <td>{\"id\":48,\"name\":\"Nonfiction\",\"slug\":\"publishin...</td>\n",
       "      <td>the United States</td>\n",
       "      <td>2012-09-25 02:33:06</td>\n",
       "      <td>500.0</td>\n",
       "      <td>2012-09-15 02:33:06</td>\n",
       "      <td>The Trans-American Psychogeographic Literary C...</td>\n",
       "      <td>501.0</td>\n",
       "      <td>the-trans-american-psychogeographic-literary-c...</td>\n",
       "      <td>False</td>\n",
       "      <td>successful</td>\n",
       "      <td>2012</td>\n",
       "      <td>9</td>\n",
       "      <td>10</td>\n",
       "      <td>publishing</td>\n",
       "      <td>12</td>\n",
       "      <td>1.727302e+09</td>\n",
       "      <td>https://www.kickstarter.com/projects/376746530...</td>\n",
       "      <td>[]</td>\n",
       "      <td>0.0</td>\n",
       "      <td>2012-09-30</td>\n",
       "      <td>the United States</td>\n",
       "    </tr>\n",
       "    <tr>\n",
       "      <th>4</th>\n",
       "      <td>0</td>\n",
       "      <td>This is the birth of a revolutionary artist......</td>\n",
       "      <td>{\"id\":39,\"name\":\"Hip-Hop\",\"slug\":\"music/hip-ho...</td>\n",
       "      <td>the United States</td>\n",
       "      <td>2017-12-11 02:43:11</td>\n",
       "      <td>2500.0</td>\n",
       "      <td>2017-11-10 02:43:11</td>\n",
       "      <td>The Golden Ticket to the Wonka Factory</td>\n",
       "      <td>0.0</td>\n",
       "      <td>the-golden-ticket-to-the-wonka-factory</td>\n",
       "      <td>False</td>\n",
       "      <td>failed</td>\n",
       "      <td>2017</td>\n",
       "      <td>11</td>\n",
       "      <td>31</td>\n",
       "      <td>music</td>\n",
       "      <td>23</td>\n",
       "      <td>1.441964e+08</td>\n",
       "      <td>https://www.kickstarter.com/projects/116371417...</td>\n",
       "      <td>[]</td>\n",
       "      <td>0.0</td>\n",
       "      <td>2017-11-25</td>\n",
       "      <td>the United States</td>\n",
       "    </tr>\n",
       "  </tbody>\n",
       "</table>\n",
       "</div>"
      ],
      "text/plain": [
       "   backers_count                                              blurb  \\\n",
       "0              5  A Free to Win Online Mobile Strategy Game to e...   \n",
       "1             19  Lizard is a dark comedy and modern western, th...   \n",
       "2              5  My friend and I are making an app that has nev...   \n",
       "3             23  More than a bike trip, a state of mind. And a ...   \n",
       "4              0  This is the birth of a revolutionary artist......   \n",
       "\n",
       "                                            category country_displayable_name  \\\n",
       "0  {\"id\":272,\"name\":\"Mobile Games\",\"slug\":\"games/...                   Canada   \n",
       "1  {\"id\":11,\"name\":\"Film & Video\",\"slug\":\"film & ...        the United States   \n",
       "2  {\"id\":272,\"name\":\"Mobile Games\",\"slug\":\"games/...        the United States   \n",
       "3  {\"id\":48,\"name\":\"Nonfiction\",\"slug\":\"publishin...        the United States   \n",
       "4  {\"id\":39,\"name\":\"Hip-Hop\",\"slug\":\"music/hip-ho...        the United States   \n",
       "\n",
       "             deadline     goal         launched_at  \\\n",
       "0 2017-10-09 14:41:03   1000.0 2017-09-25 14:41:03   \n",
       "1 2019-09-21 23:39:48   1100.0 2019-07-23 23:39:48   \n",
       "2 2016-03-22 21:11:17  25000.0 2016-01-22 22:11:17   \n",
       "3 2012-09-25 02:33:06    500.0 2012-09-15 02:33:06   \n",
       "4 2017-12-11 02:43:11   2500.0 2017-11-10 02:43:11   \n",
       "\n",
       "                                                name  pledged  \\\n",
       "0  Iron Age Kingdoms - First Free To Win Mobile S...    105.0   \n",
       "1                              \"Lizard\" a short film   2358.0   \n",
       "2                      Total Franchise Football 2016    172.0   \n",
       "3  The Trans-American Psychogeographic Literary C...    501.0   \n",
       "4             The Golden Ticket to the Wonka Factory      0.0   \n",
       "\n",
       "                                                slug  staff_pick       state  \\\n",
       "0  iron-age-kingdoms-first-free-to-win-mobile-str...       False      failed   \n",
       "1                                lizard-a-short-film       False  successful   \n",
       "2                      total-franchise-football-2016       False      failed   \n",
       "3  the-trans-american-psychogeographic-literary-c...       False  successful   \n",
       "4             the-golden-ticket-to-the-wonka-factory       False      failed   \n",
       "\n",
       "   launched_year  launched_month  campaign_length category_type  blurb_length  \\\n",
       "0           2017               9               14         games            24   \n",
       "1           2019               7               60  film & video            15   \n",
       "2           2016               1               60         games            25   \n",
       "3           2012               9               10    publishing            12   \n",
       "4           2017              11               31         music            23   \n",
       "\n",
       "             id                                                url comments  \\\n",
       "0  7.514194e+08  https://www.kickstarter.com/projects/117862918...       []   \n",
       "1  2.899525e+08  https://www.kickstarter.com/projects/lizardsho...       []   \n",
       "2  3.758583e+07  https://www.kickstarter.com/projects/184368767...       []   \n",
       "3  1.727302e+09  https://www.kickstarter.com/projects/376746530...       []   \n",
       "4  1.441964e+08  https://www.kickstarter.com/projects/116371417...       []   \n",
       "\n",
       "   have_comments mid_campaign       country_name  \n",
       "0            0.0   2017-10-11             Canada  \n",
       "1            0.0   2019-08-08  the United States  \n",
       "2            0.0   2016-02-07  the United States  \n",
       "3            0.0   2012-09-30  the United States  \n",
       "4            0.0   2017-11-25  the United States  "
      ]
     },
     "execution_count": 128,
     "metadata": {},
     "output_type": "execute_result"
    }
   ],
   "source": [
    "df_full.head()"
   ]
  },
  {
   "cell_type": "code",
   "execution_count": 129,
   "metadata": {},
   "outputs": [],
   "source": [
    "df_full_ohe = pd.get_dummies(df_full[['category_type', 'country_name', 'staff_pick']])"
   ]
  },
  {
   "cell_type": "code",
   "execution_count": 130,
   "metadata": {},
   "outputs": [
    {
     "data": {
      "text/plain": [
       "Index(['backers_count', 'blurb', 'category', 'country_displayable_name',\n",
       "       'deadline', 'goal', 'launched_at', 'name', 'pledged', 'slug',\n",
       "       'staff_pick', 'state', 'launched_year', 'launched_month',\n",
       "       'campaign_length', 'category_type', 'blurb_length', 'id', 'url',\n",
       "       'comments', 'have_comments', 'mid_campaign', 'country_name'],\n",
       "      dtype='object')"
      ]
     },
     "execution_count": 130,
     "metadata": {},
     "output_type": "execute_result"
    }
   ],
   "source": [
    "df_full.columns"
   ]
  },
  {
   "cell_type": "code",
   "execution_count": 131,
   "metadata": {},
   "outputs": [
    {
     "data": {
      "text/plain": [
       "(169626, 49)"
      ]
     },
     "execution_count": 131,
     "metadata": {},
     "output_type": "execute_result"
    }
   ],
   "source": [
    "data = pd.merge(df_full, df_full_ohe, left_index=True, right_index=True)\n",
    "data.shape"
   ]
  },
  {
   "cell_type": "code",
   "execution_count": 132,
   "metadata": {},
   "outputs": [
    {
     "name": "stdout",
     "output_type": "stream",
     "text": [
      "(169626, 49)\n",
      "(0, 49)\n"
     ]
    }
   ],
   "source": [
    "good_data = data[data['state'].isin(['successful', 'failed'])]\n",
    "live = data[data['state'].isin(['live'])]\n",
    "print(good_data.shape)\n",
    "print(live.shape)"
   ]
  },
  {
   "cell_type": "code",
   "execution_count": 133,
   "metadata": {},
   "outputs": [],
   "source": [
    "good_data['state'] = good_data['state'].replace(to_replace=['successful', 'failed'], value=[1,0])"
   ]
  },
  {
   "cell_type": "code",
   "execution_count": 134,
   "metadata": {},
   "outputs": [],
   "source": [
    "model_data = good_data.copy()"
   ]
  },
  {
   "cell_type": "code",
   "execution_count": 135,
   "metadata": {},
   "outputs": [
    {
     "data": {
      "text/plain": [
       "(169626, 49)"
      ]
     },
     "execution_count": 135,
     "metadata": {},
     "output_type": "execute_result"
    }
   ],
   "source": [
    "model_data.shape"
   ]
  },
  {
   "cell_type": "code",
   "execution_count": 136,
   "metadata": {},
   "outputs": [
    {
     "name": "stdout",
     "output_type": "stream",
     "text": [
      "(17766, 49)\n"
     ]
    }
   ],
   "source": [
    "model_data.dropna(inplace=True)\n",
    "print(model_data.shape)"
   ]
  },
  {
   "cell_type": "code",
   "execution_count": 137,
   "metadata": {},
   "outputs": [
    {
     "data": {
      "text/plain": [
       "0.0    10185\n",
       "1.0     7581\n",
       "Name: have_comments, dtype: int64"
      ]
     },
     "execution_count": 137,
     "metadata": {},
     "output_type": "execute_result"
    }
   ],
   "source": [
    "model_data['have_comments'].value_counts()"
   ]
  },
  {
   "cell_type": "code",
   "execution_count": 138,
   "metadata": {},
   "outputs": [],
   "source": [
    "X = model_data.drop(['backers_count','blurb', 'category', 'country_displayable_name', 'deadline', \n",
    "                     'launched_at', 'name', 'pledged', 'slug', 'state', 'category_type', 'country_name',\n",
    "                    'staff_pick_y', 'id', 'url', 'comments', 'mid_campaign', 'country_name'],\n",
    "                   axis=1)\n",
    "y = model_data['state']\n"
   ]
  },
  {
   "cell_type": "code",
   "execution_count": 158,
   "metadata": {},
   "outputs": [
    {
     "data": {
      "text/plain": [
       "(17766, 32)"
      ]
     },
     "execution_count": 158,
     "metadata": {},
     "output_type": "execute_result"
    }
   ],
   "source": [
    "X.shape"
   ]
  },
  {
   "cell_type": "markdown",
   "metadata": {},
   "source": [
    "## Adding Features"
   ]
  },
  {
   "cell_type": "code",
   "execution_count": 140,
   "metadata": {},
   "outputs": [],
   "source": [
    "df1 = df[['url','pre_mid_campaign_dates_length']]"
   ]
  },
  {
   "cell_type": "code",
   "execution_count": 141,
   "metadata": {},
   "outputs": [
    {
     "data": {
      "text/plain": [
       "(4113, 28)"
      ]
     },
     "execution_count": 141,
     "metadata": {},
     "output_type": "execute_result"
    }
   ],
   "source": [
    "df.shape"
   ]
  },
  {
   "cell_type": "code",
   "execution_count": 142,
   "metadata": {},
   "outputs": [],
   "source": [
    "model_data1 = pd.merge(model_data, df1, on='url', how='outer')"
   ]
  },
  {
   "cell_type": "code",
   "execution_count": 143,
   "metadata": {},
   "outputs": [
    {
     "data": {
      "text/plain": [
       "(17930, 50)"
      ]
     },
     "execution_count": 143,
     "metadata": {},
     "output_type": "execute_result"
    }
   ],
   "source": [
    "model_data1.shape"
   ]
  },
  {
   "cell_type": "code",
   "execution_count": 159,
   "metadata": {},
   "outputs": [],
   "source": [
    "model_data1.fillna(0,inplace=True)"
   ]
  },
  {
   "cell_type": "code",
   "execution_count": 160,
   "metadata": {},
   "outputs": [],
   "source": [
    "X1 = model_data1.drop(['backers_count','blurb', 'category', 'country_displayable_name', 'deadline', \n",
    "                     'launched_at', 'name', 'pledged', 'slug', 'state', 'category_type', 'country_name',\n",
    "                    'staff_pick_y', 'id', 'url', 'comments', 'mid_campaign', 'country_name', 'pre_mid_campaign_dates_length'],\n",
    "                   axis=1)\n",
    "y1 = model_data1['state']"
   ]
  },
  {
   "cell_type": "code",
   "execution_count": 161,
   "metadata": {},
   "outputs": [
    {
     "data": {
      "text/plain": [
       "(17930, 32)"
      ]
     },
     "execution_count": 161,
     "metadata": {},
     "output_type": "execute_result"
    }
   ],
   "source": [
    "X1.shape"
   ]
  },
  {
   "cell_type": "markdown",
   "metadata": {},
   "source": [
    "## Modeling"
   ]
  },
  {
   "cell_type": "code",
   "execution_count": 152,
   "metadata": {},
   "outputs": [],
   "source": [
    "## Old model with added \"have comments\" features. FULL DATASET\n",
    "X_train, X_test, y_train, y_test = train_test_split(X, y)"
   ]
  },
  {
   "cell_type": "code",
   "execution_count": 157,
   "metadata": {},
   "outputs": [
    {
     "name": "stdout",
     "output_type": "stream",
     "text": [
      "Model, Accuracy, Precision, Recall\n",
      "    Random Forest: (0.8090950022512382, 0.8292166549047283, 0.8658806190125277)\n"
     ]
    },
    {
     "name": "stderr",
     "output_type": "stream",
     "text": [
      "/opt/conda/lib/python3.7/site-packages/sklearn/linear_model/_logistic.py:940: ConvergenceWarning: lbfgs failed to converge (status=1):\n",
      "STOP: TOTAL NO. of ITERATIONS REACHED LIMIT.\n",
      "\n",
      "Increase the number of iterations (max_iter) or scale the data as shown in:\n",
      "    https://scikit-learn.org/stable/modules/preprocessing.html\n",
      "Please also refer to the documentation for alternative solver options:\n",
      "    https://scikit-learn.org/stable/modules/linear_model.html#logistic-regression\n",
      "  extra_warning_msg=_LOGISTIC_SOLVER_CONVERGENCE_MSG)\n"
     ]
    },
    {
     "name": "stdout",
     "output_type": "stream",
     "text": [
      "    Logistic Regression: (0.7537145429986493, 0.8380634390651085, 0.739867354458364)\n",
      "    Gradient Boost: (0.8043674020711391, 0.827708703374778, 0.8585114222549742)\n"
     ]
    }
   ],
   "source": [
    "def get_scores(classifier, X_train, X_test, y_train, y_test, **kwargs):\n",
    "    model = classifier(**kwargs)\n",
    "    model.fit(X_train, y_train)\n",
    "    y_predict = model.predict(X_test)\n",
    "    return model.score(X_test, y_test), precision_score(y_test, y_predict), recall_score(y_test, y_predict)\n",
    "print(\"Model, Accuracy, Precision, Recall\")\n",
    "print(\"    Random Forest:\", get_scores(RandomForestClassifier, X_train, X_test, y_train, y_test))\n",
    "print(\"    Logistic Regression:\", get_scores(LogisticRegression, X_train, X_test, y_train, y_test))\n",
    "print(\"    Gradient Boost:\", get_scores(GradientBoostingClassifier, X_train, X_test, y_train, y_test))"
   ]
  },
  {
   "cell_type": "code",
   "execution_count": 163,
   "metadata": {},
   "outputs": [],
   "source": [
    "## Old model with added \"have comments\" features. 17K DATAPOINTS, THOSE THAT ARE SCRAPED\n",
    "X_train, X_test, y_train, y_test = train_test_split(X1, y1)"
   ]
  },
  {
   "cell_type": "code",
   "execution_count": 164,
   "metadata": {},
   "outputs": [
    {
     "name": "stdout",
     "output_type": "stream",
     "text": [
      "Model, Accuracy, Precision, Recall\n",
      "    Random Forest: (0.8061565915681463, 0.8158172231985941, 0.8705926481620405)\n"
     ]
    },
    {
     "name": "stderr",
     "output_type": "stream",
     "text": [
      "/opt/conda/lib/python3.7/site-packages/sklearn/linear_model/_logistic.py:940: ConvergenceWarning: lbfgs failed to converge (status=1):\n",
      "STOP: TOTAL NO. of ITERATIONS REACHED LIMIT.\n",
      "\n",
      "Increase the number of iterations (max_iter) or scale the data as shown in:\n",
      "    https://scikit-learn.org/stable/modules/preprocessing.html\n",
      "Please also refer to the documentation for alternative solver options:\n",
      "    https://scikit-learn.org/stable/modules/linear_model.html#logistic-regression\n",
      "  extra_warning_msg=_LOGISTIC_SOLVER_CONVERGENCE_MSG)\n"
     ]
    },
    {
     "name": "stdout",
     "output_type": "stream",
     "text": [
      "    Logistic Regression: (0.6671871514610752, 0.6583917970858068, 0.9152288072018004)\n",
      "    Gradient Boost: (0.8070488512157038, 0.816075816075816, 0.872093023255814)\n"
     ]
    }
   ],
   "source": [
    "def get_scores(classifier, X_train, X_test, y_train, y_test, **kwargs):\n",
    "    model = classifier(**kwargs)\n",
    "    model.fit(X_train, y_train)\n",
    "    y_predict = model.predict(X_test)\n",
    "    return model.score(X_test, y_test), precision_score(y_test, y_predict), recall_score(y_test, y_predict)\n",
    "print(\"Model, Accuracy, Precision, Recall\")\n",
    "print(\"    Random Forest:\", get_scores(RandomForestClassifier, X_train, X_test, y_train, y_test))\n",
    "print(\"    Logistic Regression:\", get_scores(LogisticRegression, X_train, X_test, y_train, y_test))\n",
    "print(\"    Gradient Boost:\", get_scores(GradientBoostingClassifier, X_train, X_test, y_train, y_test))"
   ]
  },
  {
   "cell_type": "code",
   "execution_count": 169,
   "metadata": {},
   "outputs": [],
   "source": [
    "## Old model, same dataset, added \"mid campaign comments length\" features\n",
    "X1 = model_data1.drop(['backers_count','blurb', 'category', 'country_displayable_name', 'deadline', \n",
    "                     'launched_at', 'name', 'pledged', 'slug', 'state', 'category_type', 'country_name',\n",
    "                    'staff_pick_y', 'id', 'url', 'comments', 'mid_campaign', 'country_name'],\n",
    "                   axis=1)\n",
    "y1 = model_data1['state']"
   ]
  },
  {
   "cell_type": "code",
   "execution_count": 170,
   "metadata": {},
   "outputs": [],
   "source": [
    "X_train, X_test, y_train, y_test = train_test_split(X1, y1)"
   ]
  },
  {
   "cell_type": "code",
   "execution_count": 171,
   "metadata": {},
   "outputs": [
    {
     "name": "stdout",
     "output_type": "stream",
     "text": [
      "Model, Accuracy, Precision, Recall\n",
      "    Random Forest: (0.8025875529779166, 0.8164948453608247, 0.8712871287128713)\n",
      "    Logistic Regression: (0.6466651795672541, 0.6464258262874711, 0.9251925192519251)\n",
      "    Gradient Boost: (0.8095025652464868, 0.8257391304347826, 0.8705537220388706)\n"
     ]
    }
   ],
   "source": [
    "def get_scores(classifier, X_train, X_test, y_train, y_test, **kwargs):\n",
    "    model = classifier(**kwargs)\n",
    "    model.fit(X_train, y_train)\n",
    "    y_predict = model.predict(X_test)\n",
    "    return model.score(X_test, y_test), precision_score(y_test, y_predict), recall_score(y_test, y_predict)\n",
    "print(\"Model, Accuracy, Precision, Recall\")\n",
    "print(\"    Random Forest:\", get_scores(RandomForestClassifier, X_train, X_test, y_train, y_test))\n",
    "print(\"    Logistic Regression:\", get_scores(LogisticRegression, X_train, X_test, y_train, y_test))\n",
    "print(\"    Gradient Boost:\", get_scores(GradientBoostingClassifier, X_train, X_test, y_train, y_test))"
   ]
  },
  {
   "cell_type": "code",
   "execution_count": null,
   "metadata": {},
   "outputs": [],
   "source": []
  },
  {
   "cell_type": "code",
   "execution_count": null,
   "metadata": {},
   "outputs": [],
   "source": []
  },
  {
   "cell_type": "code",
   "execution_count": null,
   "metadata": {},
   "outputs": [],
   "source": []
  },
  {
   "cell_type": "code",
   "execution_count": null,
   "metadata": {},
   "outputs": [],
   "source": []
  },
  {
   "cell_type": "code",
   "execution_count": null,
   "metadata": {},
   "outputs": [],
   "source": [
    "df_comments = df[df['have_comments']==1]\n",
    "df_comments"
   ]
  },
  {
   "cell_type": "code",
   "execution_count": null,
   "metadata": {},
   "outputs": [],
   "source": [
    "df_comments.shape"
   ]
  },
  {
   "cell_type": "code",
   "execution_count": null,
   "metadata": {},
   "outputs": [],
   "source": [
    "df_comments['state'].value_counts()"
   ]
  },
  {
   "cell_type": "code",
   "execution_count": null,
   "metadata": {},
   "outputs": [],
   "source": [
    "df_comments[['url', 'comments']].to_csv('df_comments.csv')"
   ]
  },
  {
   "cell_type": "code",
   "execution_count": null,
   "metadata": {},
   "outputs": [],
   "source": []
  },
  {
   "cell_type": "code",
   "execution_count": null,
   "metadata": {},
   "outputs": [],
   "source": []
  },
  {
   "cell_type": "code",
   "execution_count": null,
   "metadata": {},
   "outputs": [],
   "source": []
  },
  {
   "cell_type": "code",
   "execution_count": 113,
   "metadata": {},
   "outputs": [],
   "source": [
    "x_test = full_with_dates['comments'][:100].values"
   ]
  },
  {
   "cell_type": "code",
   "execution_count": 114,
   "metadata": {},
   "outputs": [],
   "source": [
    "tokenizer = Tokenizer(num_words=5000)\n",
    "tokenizer.fit_on_texts(x_test)\n",
    "xtest= tokenizer.texts_to_sequences(x_test)\n"
   ]
  },
  {
   "cell_type": "code",
   "execution_count": 115,
   "metadata": {},
   "outputs": [],
   "source": [
    "vocab_size=len(tokenizer.word_index)+1"
   ]
  },
  {
   "cell_type": "code",
   "execution_count": 116,
   "metadata": {},
   "outputs": [],
   "source": [
    "maxlen=10\n",
    "xtest=pad_sequences(xtest,padding='post', maxlen=maxlen)\n"
   ]
  },
  {
   "cell_type": "code",
   "execution_count": 117,
   "metadata": {},
   "outputs": [],
   "source": [
    "model=Sequential()"
   ]
  },
  {
   "cell_type": "code",
   "execution_count": 118,
   "metadata": {},
   "outputs": [],
   "source": [
    "reconstructed_model = keras.models.load_model('test_model')"
   ]
  },
  {
   "cell_type": "code",
   "execution_count": 120,
   "metadata": {},
   "outputs": [
    {
     "ename": "UnimplementedError",
     "evalue": " Cast int32 to string is not supported\n\t [[node Cast (defined at <ipython-input-120-b1de6021920f>:2) ]] [Op:__inference_distributed_function_25825]\n\nFunction call stack:\ndistributed_function\n",
     "output_type": "error",
     "traceback": [
      "\u001b[0;31m---------------------------------------------------------------------------\u001b[0m",
      "\u001b[0;31mUnimplementedError\u001b[0m                        Traceback (most recent call last)",
      "\u001b[0;32m<ipython-input-120-b1de6021920f>\u001b[0m in \u001b[0;36m<module>\u001b[0;34m\u001b[0m\n\u001b[1;32m      1\u001b[0m np.testing.assert_allclose(\n\u001b[0;32m----> 2\u001b[0;31m   \u001b[0mmodel\u001b[0m\u001b[0;34m.\u001b[0m\u001b[0mpredict\u001b[0m\u001b[0;34m(\u001b[0m\u001b[0mxtest\u001b[0m\u001b[0;34m)\u001b[0m\u001b[0;34m,\u001b[0m\u001b[0;34m\u001b[0m\u001b[0;34m\u001b[0m\u001b[0m\n\u001b[0m\u001b[1;32m      3\u001b[0m   reconstructed_model.predict(xtest))\n",
      "\u001b[0;32m/opt/conda/lib/python3.7/site-packages/tensorflow_core/python/keras/engine/training.py\u001b[0m in \u001b[0;36mpredict\u001b[0;34m(self, x, batch_size, verbose, steps, callbacks, max_queue_size, workers, use_multiprocessing)\u001b[0m\n\u001b[1;32m   1011\u001b[0m         \u001b[0mmax_queue_size\u001b[0m\u001b[0;34m=\u001b[0m\u001b[0mmax_queue_size\u001b[0m\u001b[0;34m,\u001b[0m\u001b[0;34m\u001b[0m\u001b[0;34m\u001b[0m\u001b[0m\n\u001b[1;32m   1012\u001b[0m         \u001b[0mworkers\u001b[0m\u001b[0;34m=\u001b[0m\u001b[0mworkers\u001b[0m\u001b[0;34m,\u001b[0m\u001b[0;34m\u001b[0m\u001b[0;34m\u001b[0m\u001b[0m\n\u001b[0;32m-> 1013\u001b[0;31m         use_multiprocessing=use_multiprocessing)\n\u001b[0m\u001b[1;32m   1014\u001b[0m \u001b[0;34m\u001b[0m\u001b[0m\n\u001b[1;32m   1015\u001b[0m   \u001b[0;32mdef\u001b[0m \u001b[0mreset_metrics\u001b[0m\u001b[0;34m(\u001b[0m\u001b[0mself\u001b[0m\u001b[0;34m)\u001b[0m\u001b[0;34m:\u001b[0m\u001b[0;34m\u001b[0m\u001b[0;34m\u001b[0m\u001b[0m\n",
      "\u001b[0;32m/opt/conda/lib/python3.7/site-packages/tensorflow_core/python/keras/engine/training_v2.py\u001b[0m in \u001b[0;36mpredict\u001b[0;34m(self, model, x, batch_size, verbose, steps, callbacks, max_queue_size, workers, use_multiprocessing, **kwargs)\u001b[0m\n\u001b[1;32m    496\u001b[0m         \u001b[0mmodel\u001b[0m\u001b[0;34m,\u001b[0m \u001b[0mModeKeys\u001b[0m\u001b[0;34m.\u001b[0m\u001b[0mPREDICT\u001b[0m\u001b[0;34m,\u001b[0m \u001b[0mx\u001b[0m\u001b[0;34m=\u001b[0m\u001b[0mx\u001b[0m\u001b[0;34m,\u001b[0m \u001b[0mbatch_size\u001b[0m\u001b[0;34m=\u001b[0m\u001b[0mbatch_size\u001b[0m\u001b[0;34m,\u001b[0m \u001b[0mverbose\u001b[0m\u001b[0;34m=\u001b[0m\u001b[0mverbose\u001b[0m\u001b[0;34m,\u001b[0m\u001b[0;34m\u001b[0m\u001b[0;34m\u001b[0m\u001b[0m\n\u001b[1;32m    497\u001b[0m         \u001b[0msteps\u001b[0m\u001b[0;34m=\u001b[0m\u001b[0msteps\u001b[0m\u001b[0;34m,\u001b[0m \u001b[0mcallbacks\u001b[0m\u001b[0;34m=\u001b[0m\u001b[0mcallbacks\u001b[0m\u001b[0;34m,\u001b[0m \u001b[0mmax_queue_size\u001b[0m\u001b[0;34m=\u001b[0m\u001b[0mmax_queue_size\u001b[0m\u001b[0;34m,\u001b[0m\u001b[0;34m\u001b[0m\u001b[0;34m\u001b[0m\u001b[0m\n\u001b[0;32m--> 498\u001b[0;31m         workers=workers, use_multiprocessing=use_multiprocessing, **kwargs)\n\u001b[0m\u001b[1;32m    499\u001b[0m \u001b[0;34m\u001b[0m\u001b[0m\n\u001b[1;32m    500\u001b[0m \u001b[0;34m\u001b[0m\u001b[0m\n",
      "\u001b[0;32m/opt/conda/lib/python3.7/site-packages/tensorflow_core/python/keras/engine/training_v2.py\u001b[0m in \u001b[0;36m_model_iteration\u001b[0;34m(self, model, mode, x, y, batch_size, verbose, sample_weight, steps, callbacks, max_queue_size, workers, use_multiprocessing, **kwargs)\u001b[0m\n\u001b[1;32m    473\u001b[0m               \u001b[0mmode\u001b[0m\u001b[0;34m=\u001b[0m\u001b[0mmode\u001b[0m\u001b[0;34m,\u001b[0m\u001b[0;34m\u001b[0m\u001b[0;34m\u001b[0m\u001b[0m\n\u001b[1;32m    474\u001b[0m               \u001b[0mtraining_context\u001b[0m\u001b[0;34m=\u001b[0m\u001b[0mtraining_context\u001b[0m\u001b[0;34m,\u001b[0m\u001b[0;34m\u001b[0m\u001b[0;34m\u001b[0m\u001b[0m\n\u001b[0;32m--> 475\u001b[0;31m               total_epochs=1)\n\u001b[0m\u001b[1;32m    476\u001b[0m           \u001b[0mcbks\u001b[0m\u001b[0;34m.\u001b[0m\u001b[0mmake_logs\u001b[0m\u001b[0;34m(\u001b[0m\u001b[0mmodel\u001b[0m\u001b[0;34m,\u001b[0m \u001b[0mepoch_logs\u001b[0m\u001b[0;34m,\u001b[0m \u001b[0mresult\u001b[0m\u001b[0;34m,\u001b[0m \u001b[0mmode\u001b[0m\u001b[0;34m)\u001b[0m\u001b[0;34m\u001b[0m\u001b[0;34m\u001b[0m\u001b[0m\n\u001b[1;32m    477\u001b[0m \u001b[0;34m\u001b[0m\u001b[0m\n",
      "\u001b[0;32m/opt/conda/lib/python3.7/site-packages/tensorflow_core/python/keras/engine/training_v2.py\u001b[0m in \u001b[0;36mrun_one_epoch\u001b[0;34m(model, iterator, execution_function, dataset_size, batch_size, strategy, steps_per_epoch, num_samples, mode, training_context, total_epochs)\u001b[0m\n\u001b[1;32m    126\u001b[0m         step=step, mode=mode, size=current_batch_size) as batch_logs:\n\u001b[1;32m    127\u001b[0m       \u001b[0;32mtry\u001b[0m\u001b[0;34m:\u001b[0m\u001b[0;34m\u001b[0m\u001b[0;34m\u001b[0m\u001b[0m\n\u001b[0;32m--> 128\u001b[0;31m         \u001b[0mbatch_outs\u001b[0m \u001b[0;34m=\u001b[0m \u001b[0mexecution_function\u001b[0m\u001b[0;34m(\u001b[0m\u001b[0miterator\u001b[0m\u001b[0;34m)\u001b[0m\u001b[0;34m\u001b[0m\u001b[0;34m\u001b[0m\u001b[0m\n\u001b[0m\u001b[1;32m    129\u001b[0m       \u001b[0;32mexcept\u001b[0m \u001b[0;34m(\u001b[0m\u001b[0mStopIteration\u001b[0m\u001b[0;34m,\u001b[0m \u001b[0merrors\u001b[0m\u001b[0;34m.\u001b[0m\u001b[0mOutOfRangeError\u001b[0m\u001b[0;34m)\u001b[0m\u001b[0;34m:\u001b[0m\u001b[0;34m\u001b[0m\u001b[0;34m\u001b[0m\u001b[0m\n\u001b[1;32m    130\u001b[0m         \u001b[0;31m# TODO(kaftan): File bug about tf function and errors.OutOfRangeError?\u001b[0m\u001b[0;34m\u001b[0m\u001b[0;34m\u001b[0m\u001b[0;34m\u001b[0m\u001b[0m\n",
      "\u001b[0;32m/opt/conda/lib/python3.7/site-packages/tensorflow_core/python/keras/engine/training_v2_utils.py\u001b[0m in \u001b[0;36mexecution_function\u001b[0;34m(input_fn)\u001b[0m\n\u001b[1;32m     96\u001b[0m     \u001b[0;31m# `numpy` translates Tensors to values in Eager mode.\u001b[0m\u001b[0;34m\u001b[0m\u001b[0;34m\u001b[0m\u001b[0;34m\u001b[0m\u001b[0m\n\u001b[1;32m     97\u001b[0m     return nest.map_structure(_non_none_constant_value,\n\u001b[0;32m---> 98\u001b[0;31m                               distributed_function(input_fn))\n\u001b[0m\u001b[1;32m     99\u001b[0m \u001b[0;34m\u001b[0m\u001b[0m\n\u001b[1;32m    100\u001b[0m   \u001b[0;32mreturn\u001b[0m \u001b[0mexecution_function\u001b[0m\u001b[0;34m\u001b[0m\u001b[0;34m\u001b[0m\u001b[0m\n",
      "\u001b[0;32m/opt/conda/lib/python3.7/site-packages/tensorflow_core/python/eager/def_function.py\u001b[0m in \u001b[0;36m__call__\u001b[0;34m(self, *args, **kwds)\u001b[0m\n\u001b[1;32m    566\u001b[0m         \u001b[0mxla_context\u001b[0m\u001b[0;34m.\u001b[0m\u001b[0mExit\u001b[0m\u001b[0;34m(\u001b[0m\u001b[0;34m)\u001b[0m\u001b[0;34m\u001b[0m\u001b[0;34m\u001b[0m\u001b[0m\n\u001b[1;32m    567\u001b[0m     \u001b[0;32melse\u001b[0m\u001b[0;34m:\u001b[0m\u001b[0;34m\u001b[0m\u001b[0;34m\u001b[0m\u001b[0m\n\u001b[0;32m--> 568\u001b[0;31m       \u001b[0mresult\u001b[0m \u001b[0;34m=\u001b[0m \u001b[0mself\u001b[0m\u001b[0;34m.\u001b[0m\u001b[0m_call\u001b[0m\u001b[0;34m(\u001b[0m\u001b[0;34m*\u001b[0m\u001b[0margs\u001b[0m\u001b[0;34m,\u001b[0m \u001b[0;34m**\u001b[0m\u001b[0mkwds\u001b[0m\u001b[0;34m)\u001b[0m\u001b[0;34m\u001b[0m\u001b[0;34m\u001b[0m\u001b[0m\n\u001b[0m\u001b[1;32m    569\u001b[0m \u001b[0;34m\u001b[0m\u001b[0m\n\u001b[1;32m    570\u001b[0m     \u001b[0;32mif\u001b[0m \u001b[0mtracing_count\u001b[0m \u001b[0;34m==\u001b[0m \u001b[0mself\u001b[0m\u001b[0;34m.\u001b[0m\u001b[0m_get_tracing_count\u001b[0m\u001b[0;34m(\u001b[0m\u001b[0;34m)\u001b[0m\u001b[0;34m:\u001b[0m\u001b[0;34m\u001b[0m\u001b[0;34m\u001b[0m\u001b[0m\n",
      "\u001b[0;32m/opt/conda/lib/python3.7/site-packages/tensorflow_core/python/eager/def_function.py\u001b[0m in \u001b[0;36m_call\u001b[0;34m(self, *args, **kwds)\u001b[0m\n\u001b[1;32m    604\u001b[0m       \u001b[0;31m# In this case we have not created variables on the first call. So we can\u001b[0m\u001b[0;34m\u001b[0m\u001b[0;34m\u001b[0m\u001b[0;34m\u001b[0m\u001b[0m\n\u001b[1;32m    605\u001b[0m       \u001b[0;31m# run the first trace but we should fail if variables are created.\u001b[0m\u001b[0;34m\u001b[0m\u001b[0;34m\u001b[0m\u001b[0;34m\u001b[0m\u001b[0m\n\u001b[0;32m--> 606\u001b[0;31m       \u001b[0mresults\u001b[0m \u001b[0;34m=\u001b[0m \u001b[0mself\u001b[0m\u001b[0;34m.\u001b[0m\u001b[0m_stateful_fn\u001b[0m\u001b[0;34m(\u001b[0m\u001b[0;34m*\u001b[0m\u001b[0margs\u001b[0m\u001b[0;34m,\u001b[0m \u001b[0;34m**\u001b[0m\u001b[0mkwds\u001b[0m\u001b[0;34m)\u001b[0m\u001b[0;34m\u001b[0m\u001b[0;34m\u001b[0m\u001b[0m\n\u001b[0m\u001b[1;32m    607\u001b[0m       \u001b[0;32mif\u001b[0m \u001b[0mself\u001b[0m\u001b[0;34m.\u001b[0m\u001b[0m_created_variables\u001b[0m\u001b[0;34m:\u001b[0m\u001b[0;34m\u001b[0m\u001b[0;34m\u001b[0m\u001b[0m\n\u001b[1;32m    608\u001b[0m         raise ValueError(\"Creating variables on a non-first call to a function\"\n",
      "\u001b[0;32m/opt/conda/lib/python3.7/site-packages/tensorflow_core/python/eager/function.py\u001b[0m in \u001b[0;36m__call__\u001b[0;34m(self, *args, **kwargs)\u001b[0m\n\u001b[1;32m   2361\u001b[0m     \u001b[0;32mwith\u001b[0m \u001b[0mself\u001b[0m\u001b[0;34m.\u001b[0m\u001b[0m_lock\u001b[0m\u001b[0;34m:\u001b[0m\u001b[0;34m\u001b[0m\u001b[0;34m\u001b[0m\u001b[0m\n\u001b[1;32m   2362\u001b[0m       \u001b[0mgraph_function\u001b[0m\u001b[0;34m,\u001b[0m \u001b[0margs\u001b[0m\u001b[0;34m,\u001b[0m \u001b[0mkwargs\u001b[0m \u001b[0;34m=\u001b[0m \u001b[0mself\u001b[0m\u001b[0;34m.\u001b[0m\u001b[0m_maybe_define_function\u001b[0m\u001b[0;34m(\u001b[0m\u001b[0margs\u001b[0m\u001b[0;34m,\u001b[0m \u001b[0mkwargs\u001b[0m\u001b[0;34m)\u001b[0m\u001b[0;34m\u001b[0m\u001b[0;34m\u001b[0m\u001b[0m\n\u001b[0;32m-> 2363\u001b[0;31m     \u001b[0;32mreturn\u001b[0m \u001b[0mgraph_function\u001b[0m\u001b[0;34m.\u001b[0m\u001b[0m_filtered_call\u001b[0m\u001b[0;34m(\u001b[0m\u001b[0margs\u001b[0m\u001b[0;34m,\u001b[0m \u001b[0mkwargs\u001b[0m\u001b[0;34m)\u001b[0m  \u001b[0;31m# pylint: disable=protected-access\u001b[0m\u001b[0;34m\u001b[0m\u001b[0;34m\u001b[0m\u001b[0m\n\u001b[0m\u001b[1;32m   2364\u001b[0m \u001b[0;34m\u001b[0m\u001b[0m\n\u001b[1;32m   2365\u001b[0m   \u001b[0;34m@\u001b[0m\u001b[0mproperty\u001b[0m\u001b[0;34m\u001b[0m\u001b[0;34m\u001b[0m\u001b[0m\n",
      "\u001b[0;32m/opt/conda/lib/python3.7/site-packages/tensorflow_core/python/eager/function.py\u001b[0m in \u001b[0;36m_filtered_call\u001b[0;34m(self, args, kwargs)\u001b[0m\n\u001b[1;32m   1609\u001b[0m          if isinstance(t, (ops.Tensor,\n\u001b[1;32m   1610\u001b[0m                            resource_variable_ops.BaseResourceVariable))),\n\u001b[0;32m-> 1611\u001b[0;31m         self.captured_inputs)\n\u001b[0m\u001b[1;32m   1612\u001b[0m \u001b[0;34m\u001b[0m\u001b[0m\n\u001b[1;32m   1613\u001b[0m   \u001b[0;32mdef\u001b[0m \u001b[0m_call_flat\u001b[0m\u001b[0;34m(\u001b[0m\u001b[0mself\u001b[0m\u001b[0;34m,\u001b[0m \u001b[0margs\u001b[0m\u001b[0;34m,\u001b[0m \u001b[0mcaptured_inputs\u001b[0m\u001b[0;34m,\u001b[0m \u001b[0mcancellation_manager\u001b[0m\u001b[0;34m=\u001b[0m\u001b[0;32mNone\u001b[0m\u001b[0;34m)\u001b[0m\u001b[0;34m:\u001b[0m\u001b[0;34m\u001b[0m\u001b[0;34m\u001b[0m\u001b[0m\n",
      "\u001b[0;32m/opt/conda/lib/python3.7/site-packages/tensorflow_core/python/eager/function.py\u001b[0m in \u001b[0;36m_call_flat\u001b[0;34m(self, args, captured_inputs, cancellation_manager)\u001b[0m\n\u001b[1;32m   1690\u001b[0m       \u001b[0;31m# No tape is watching; skip to running the function.\u001b[0m\u001b[0;34m\u001b[0m\u001b[0;34m\u001b[0m\u001b[0;34m\u001b[0m\u001b[0m\n\u001b[1;32m   1691\u001b[0m       return self._build_call_outputs(self._inference_function.call(\n\u001b[0;32m-> 1692\u001b[0;31m           ctx, args, cancellation_manager=cancellation_manager))\n\u001b[0m\u001b[1;32m   1693\u001b[0m     forward_backward = self._select_forward_and_backward_functions(\n\u001b[1;32m   1694\u001b[0m         \u001b[0margs\u001b[0m\u001b[0;34m,\u001b[0m\u001b[0;34m\u001b[0m\u001b[0;34m\u001b[0m\u001b[0m\n",
      "\u001b[0;32m/opt/conda/lib/python3.7/site-packages/tensorflow_core/python/eager/function.py\u001b[0m in \u001b[0;36mcall\u001b[0;34m(self, ctx, args, cancellation_manager)\u001b[0m\n\u001b[1;32m    543\u001b[0m               \u001b[0minputs\u001b[0m\u001b[0;34m=\u001b[0m\u001b[0margs\u001b[0m\u001b[0;34m,\u001b[0m\u001b[0;34m\u001b[0m\u001b[0;34m\u001b[0m\u001b[0m\n\u001b[1;32m    544\u001b[0m               \u001b[0mattrs\u001b[0m\u001b[0;34m=\u001b[0m\u001b[0;34m(\u001b[0m\u001b[0;34m\"executor_type\"\u001b[0m\u001b[0;34m,\u001b[0m \u001b[0mexecutor_type\u001b[0m\u001b[0;34m,\u001b[0m \u001b[0;34m\"config_proto\"\u001b[0m\u001b[0;34m,\u001b[0m \u001b[0mconfig\u001b[0m\u001b[0;34m)\u001b[0m\u001b[0;34m,\u001b[0m\u001b[0;34m\u001b[0m\u001b[0;34m\u001b[0m\u001b[0m\n\u001b[0;32m--> 545\u001b[0;31m               ctx=ctx)\n\u001b[0m\u001b[1;32m    546\u001b[0m         \u001b[0;32melse\u001b[0m\u001b[0;34m:\u001b[0m\u001b[0;34m\u001b[0m\u001b[0;34m\u001b[0m\u001b[0m\n\u001b[1;32m    547\u001b[0m           outputs = execute.execute_with_cancellation(\n",
      "\u001b[0;32m/opt/conda/lib/python3.7/site-packages/tensorflow_core/python/eager/execute.py\u001b[0m in \u001b[0;36mquick_execute\u001b[0;34m(op_name, num_outputs, inputs, attrs, ctx, name)\u001b[0m\n\u001b[1;32m     65\u001b[0m     \u001b[0;32melse\u001b[0m\u001b[0;34m:\u001b[0m\u001b[0;34m\u001b[0m\u001b[0;34m\u001b[0m\u001b[0m\n\u001b[1;32m     66\u001b[0m       \u001b[0mmessage\u001b[0m \u001b[0;34m=\u001b[0m \u001b[0me\u001b[0m\u001b[0;34m.\u001b[0m\u001b[0mmessage\u001b[0m\u001b[0;34m\u001b[0m\u001b[0;34m\u001b[0m\u001b[0m\n\u001b[0;32m---> 67\u001b[0;31m     \u001b[0msix\u001b[0m\u001b[0;34m.\u001b[0m\u001b[0mraise_from\u001b[0m\u001b[0;34m(\u001b[0m\u001b[0mcore\u001b[0m\u001b[0;34m.\u001b[0m\u001b[0m_status_to_exception\u001b[0m\u001b[0;34m(\u001b[0m\u001b[0me\u001b[0m\u001b[0;34m.\u001b[0m\u001b[0mcode\u001b[0m\u001b[0;34m,\u001b[0m \u001b[0mmessage\u001b[0m\u001b[0;34m)\u001b[0m\u001b[0;34m,\u001b[0m \u001b[0;32mNone\u001b[0m\u001b[0;34m)\u001b[0m\u001b[0;34m\u001b[0m\u001b[0;34m\u001b[0m\u001b[0m\n\u001b[0m\u001b[1;32m     68\u001b[0m   \u001b[0;32mexcept\u001b[0m \u001b[0mTypeError\u001b[0m \u001b[0;32mas\u001b[0m \u001b[0me\u001b[0m\u001b[0;34m:\u001b[0m\u001b[0;34m\u001b[0m\u001b[0;34m\u001b[0m\u001b[0m\n\u001b[1;32m     69\u001b[0m     keras_symbolic_tensors = [\n",
      "\u001b[0;32m/opt/conda/lib/python3.7/site-packages/six.py\u001b[0m in \u001b[0;36mraise_from\u001b[0;34m(value, from_value)\u001b[0m\n",
      "\u001b[0;31mUnimplementedError\u001b[0m:  Cast int32 to string is not supported\n\t [[node Cast (defined at <ipython-input-120-b1de6021920f>:2) ]] [Op:__inference_distributed_function_25825]\n\nFunction call stack:\ndistributed_function\n"
     ]
    }
   ],
   "source": [
    "np.testing.assert_allclose(\n",
    "  model.predict(xtest),\n",
    "  reconstructed_model.predict(xtest))"
   ]
  },
  {
   "cell_type": "code",
   "execution_count": null,
   "metadata": {},
   "outputs": [],
   "source": []
  },
  {
   "cell_type": "code",
   "execution_count": null,
   "metadata": {},
   "outputs": [],
   "source": []
  }
 ],
 "metadata": {
  "kernelspec": {
   "display_name": "Python 3",
   "language": "python",
   "name": "python3"
  },
  "language_info": {
   "codemirror_mode": {
    "name": "ipython",
    "version": 3
   },
   "file_extension": ".py",
   "mimetype": "text/x-python",
   "name": "python",
   "nbconvert_exporter": "python",
   "pygments_lexer": "ipython3",
   "version": "3.7.6"
  }
 },
 "nbformat": 4,
 "nbformat_minor": 4
}
